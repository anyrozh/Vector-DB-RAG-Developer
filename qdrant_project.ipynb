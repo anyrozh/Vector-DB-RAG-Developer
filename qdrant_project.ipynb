{
 "cells": [
  {
   "cell_type": "code",
   "execution_count": 9,
   "id": "c8e24f08-7981-4992-b105-e0658a7867f3",
   "metadata": {},
   "outputs": [
    {
     "name": "stderr",
     "output_type": "stream",
     "text": [
      "huggingface/tokenizers: The current process just got forked, after parallelism has already been used. Disabling parallelism to avoid deadlocks...\n",
      "To disable this warning, you can either:\n",
      "\t- Avoid using `tokenizers` before the fork if possible\n",
      "\t- Explicitly set the environment variable TOKENIZERS_PARALLELISM=(true | false)\n"
     ]
    },
    {
     "name": "stdout",
     "output_type": "stream",
     "text": [
      "Requirement already satisfied: qdrant-client in /opt/anaconda3/lib/python3.11/site-packages (1.15.1)\n",
      "Requirement already satisfied: grpcio>=1.41.0 in /opt/anaconda3/lib/python3.11/site-packages (from qdrant-client) (1.71.0)\n",
      "Requirement already satisfied: httpx>=0.20.0 in /opt/anaconda3/lib/python3.11/site-packages (from httpx[http2]>=0.20.0->qdrant-client) (0.28.1)\n",
      "Requirement already satisfied: numpy>=1.21 in /opt/anaconda3/lib/python3.11/site-packages (from qdrant-client) (1.26.4)\n",
      "Requirement already satisfied: portalocker<4.0,>=2.7.0 in /opt/anaconda3/lib/python3.11/site-packages (from qdrant-client) (3.2.0)\n",
      "Requirement already satisfied: protobuf>=3.20.0 in /opt/anaconda3/lib/python3.11/site-packages (from qdrant-client) (3.20.3)\n",
      "Requirement already satisfied: pydantic!=2.0.*,!=2.1.*,!=2.2.0,>=1.10.8 in /opt/anaconda3/lib/python3.11/site-packages (from qdrant-client) (2.11.3)\n",
      "Requirement already satisfied: urllib3<3,>=1.26.14 in /opt/anaconda3/lib/python3.11/site-packages (from qdrant-client) (2.0.7)\n",
      "Requirement already satisfied: anyio in /opt/anaconda3/lib/python3.11/site-packages (from httpx>=0.20.0->httpx[http2]>=0.20.0->qdrant-client) (4.2.0)\n",
      "Requirement already satisfied: certifi in /opt/anaconda3/lib/python3.11/site-packages (from httpx>=0.20.0->httpx[http2]>=0.20.0->qdrant-client) (2025.6.15)\n",
      "Requirement already satisfied: httpcore==1.* in /opt/anaconda3/lib/python3.11/site-packages (from httpx>=0.20.0->httpx[http2]>=0.20.0->qdrant-client) (1.0.8)\n",
      "Requirement already satisfied: idna in /opt/anaconda3/lib/python3.11/site-packages (from httpx>=0.20.0->httpx[http2]>=0.20.0->qdrant-client) (3.4)\n",
      "Requirement already satisfied: h11<0.15,>=0.13 in /opt/anaconda3/lib/python3.11/site-packages (from httpcore==1.*->httpx>=0.20.0->httpx[http2]>=0.20.0->qdrant-client) (0.14.0)\n",
      "Requirement already satisfied: h2<5,>=3 in /opt/anaconda3/lib/python3.11/site-packages (from httpx[http2]>=0.20.0->qdrant-client) (4.3.0)\n",
      "Requirement already satisfied: annotated-types>=0.6.0 in /opt/anaconda3/lib/python3.11/site-packages (from pydantic!=2.0.*,!=2.1.*,!=2.2.0,>=1.10.8->qdrant-client) (0.7.0)\n",
      "Requirement already satisfied: pydantic-core==2.33.1 in /opt/anaconda3/lib/python3.11/site-packages (from pydantic!=2.0.*,!=2.1.*,!=2.2.0,>=1.10.8->qdrant-client) (2.33.1)\n",
      "Requirement already satisfied: typing-extensions>=4.12.2 in /opt/anaconda3/lib/python3.11/site-packages (from pydantic!=2.0.*,!=2.1.*,!=2.2.0,>=1.10.8->qdrant-client) (4.13.2)\n",
      "Requirement already satisfied: typing-inspection>=0.4.0 in /opt/anaconda3/lib/python3.11/site-packages (from pydantic!=2.0.*,!=2.1.*,!=2.2.0,>=1.10.8->qdrant-client) (0.4.0)\n",
      "Requirement already satisfied: hyperframe<7,>=6.1 in /opt/anaconda3/lib/python3.11/site-packages (from h2<5,>=3->httpx[http2]>=0.20.0->qdrant-client) (6.1.0)\n",
      "Requirement already satisfied: hpack<5,>=4.1 in /opt/anaconda3/lib/python3.11/site-packages (from h2<5,>=3->httpx[http2]>=0.20.0->qdrant-client) (4.1.0)\n",
      "Requirement already satisfied: sniffio>=1.1 in /opt/anaconda3/lib/python3.11/site-packages (from anyio->httpx>=0.20.0->httpx[http2]>=0.20.0->qdrant-client) (1.3.0)\n",
      "Note: you may need to restart the kernel to use updated packages.\n"
     ]
    }
   ],
   "source": [
    "pip install qdrant-client"
   ]
  },
  {
   "cell_type": "code",
   "execution_count": 10,
   "id": "fe88468a-aaa8-4016-9dd4-fb6ce01bcf50",
   "metadata": {},
   "outputs": [],
   "source": [
    "from qdrant_client import QdrantClient\n",
    "client = QdrantClient(host=\"localhost\", port=6333)"
   ]
  },
  {
   "cell_type": "code",
   "execution_count": 11,
   "id": "409295e3-3e06-46bd-80b7-e5af5a6c9d57",
   "metadata": {},
   "outputs": [
    {
     "name": "stdout",
     "output_type": "stream",
     "text": [
      "HTTP healthz check passed\n"
     ]
    }
   ],
   "source": [
    "print('HTTP', requests.get(\"http://localhost:6333/healthz\").text)"
   ]
  },
  {
   "cell_type": "code",
   "execution_count": 12,
   "id": "1cb9be10-8220-46ed-8d6d-57c2fe8a463b",
   "metadata": {},
   "outputs": [
    {
     "name": "stdout",
     "output_type": "stream",
     "text": [
      "healthz check passed\n"
     ]
    }
   ],
   "source": [
    "import requests\n",
    "r = requests.get(\n",
    "    \"http://localhost:6333/healthz\",\n",
    "    proxies={\"http\": None, \"https\": None}  # обход всех proxy\n",
    ")\n",
    "print(r.text)          # → {\"status\":\"ok\"}"
   ]
  },
  {
   "cell_type": "code",
   "execution_count": 13,
   "id": "235143f8-7ec9-4aee-87e7-d427b8fc1d10",
   "metadata": {},
   "outputs": [
    {
     "name": "stdout",
     "output_type": "stream",
     "text": [
      "collections=[CollectionDescription(name='articles')]\n"
     ]
    }
   ],
   "source": [
    "from qdrant_client import QdrantClient\n",
    "client = QdrantClient(url=\"http://localhost:6333\")\n",
    "print(client.get_collections())"
   ]
  },
  {
   "cell_type": "code",
   "execution_count": 14,
   "id": "7a747dba-85fb-4349-b04a-b136a599a95c",
   "metadata": {},
   "outputs": [
    {
     "name": "stderr",
     "output_type": "stream",
     "text": [
      "/var/folders/22/w_0gdhgj699dgr2cp6bwhn800000gn/T/ipykernel_6788/3968867832.py:3: DeprecationWarning: `recreate_collection` method is deprecated and will be removed in the future. Use `collection_exists` to check collection existence and `create_collection` instead.\n",
      "  client.recreate_collection(\n"
     ]
    },
    {
     "data": {
      "text/plain": [
       "True"
      ]
     },
     "execution_count": 14,
     "metadata": {},
     "output_type": "execute_result"
    }
   ],
   "source": [
    "from qdrant_client.http import models as rest\n",
    "# Размерность вектора (size) - задается один раз и ее нельзя менять \n",
    "client.recreate_collection(\n",
    "    collection_name=\"articles\",\n",
    "    vectors_config=rest.VectorParams(size=384, distance=rest.Distance.COSINE)\n",
    ")"
   ]
  },
  {
   "cell_type": "markdown",
   "id": "a3d73060-6b6a-4fa2-89ee-b80bbfea67e8",
   "metadata": {},
   "source": [
    "Поэтому во многих базах данных (Qdrant, Weaviate и др.) при создании коллекции с метрикой Cosine векторы автоматически нормализуются при сохранении. \n",
    "HNSW-индекс: идет снизу вверх и тщательно перебирает все значения. \n",
    "Во время поиска алгоритм идёт жадно: на каждом шаге переходит к соседу, чей вектор ближе к запросу. Если дальше улучшений нет — спускается уровнем ниже, пока не дойдёт до самого подробного слоя. \n",
    "\n",
    "## **Qdrant (“Quadrant”)** — это специализированная база данных для работы с векторными представлениями (vector embeddings). Коротко: она хранит и быстро ищет объекты, описанные не привычными строками/числами, а много-мерными векторами."
   ]
  },
  {
   "cell_type": "code",
   "execution_count": 15,
   "id": "d07d49a1-65f1-4abd-b1aa-e3b216718c90",
   "metadata": {},
   "outputs": [],
   "source": [
    "from sentence_transformers import SentenceTransformer\n",
    "import numpy as np\n",
    "#query -> применяем к ним vector \n",
    "sentences = [\n",
    "    \"Кот играет на ковре\",      # id = 0\n",
    "    \"Собака тихо спит\",         # id = 1\n",
    "    \"Автомобиль быстро едет\",   # id = 2\n",
    "    \"Инвестор закупает акции\",\n",
    "    \"Котенок играет с клубком\",\n",
    "    \"Корова жует траву\" # id = 2\n",
    "]\n",
    "model = SentenceTransformer(\"all-MiniLM-L6-v2\")\n",
    "\n",
    "vectors = model.encode(sentences, normalize_embeddings=True)"
   ]
  },
  {
   "cell_type": "code",
   "execution_count": 24,
   "id": "daa3ecb7-c2df-4d45-a724-005aa01b4247",
   "metadata": {},
   "outputs": [
    {
     "data": {
      "text/plain": [
       "UpdateResult(operation_id=1, status=<UpdateStatus.COMPLETED: 'completed'>)"
      ]
     },
     "execution_count": 24,
     "metadata": {},
     "output_type": "execute_result"
    }
   ],
   "source": [
    "# Каждая точка = id + vector + payload. Поля из payload можно использовать в фильтрах.\n",
    "payloads = [                         # любое поле можно фильтровать\n",
    "    {\"tag\": \"animals\",  \"year\": 2023},\n",
    "    {\"tag\": \"animals\",  \"year\": 2022},\n",
    "    {\"tag\": \"vehicles\", \"year\": 2023},\n",
    "    {\"tag\": \"people\",   \"year\": 2021},\n",
    "    {\"tag\": \"animals\",  \"year\": 2024},\n",
    "    {\"tag\": \"animals\",  \"year\": 2023},\n",
    "]\n",
    "\n",
    "client.upsert(\n",
    "    collection_name=\"articles\",\n",
    "    points=[\n",
    "        rest.PointStruct(id=i, vector=v.tolist(), payload=payloads[i])\n",
    "        for i, v in enumerate(vectors)\n",
    "    ]\n",
    ")"
   ]
  },
  {
   "cell_type": "code",
   "execution_count": 40,
   "id": "d0b9275b-299c-40aa-9fe5-14891a781e18",
   "metadata": {},
   "outputs": [
    {
     "name": "stdout",
     "output_type": "stream",
     "text": [
      "score=0.903  →  Корова жует траву\n",
      "score=0.732  →  Котенок играет с клубком\n",
      "score=0.702  →  Кот играет на ковре\n",
      "score=0.611  →  Инвестор закупает акции\n"
     ]
    },
    {
     "name": "stderr",
     "output_type": "stream",
     "text": [
      "/var/folders/22/w_0gdhgj699dgr2cp6bwhn800000gn/T/ipykernel_6788/2478660548.py:5: DeprecationWarning: `search` method is deprecated and will be removed in the future. Use `query_points` instead.\n",
      "  hits = client.search(\n"
     ]
    }
   ],
   "source": [
    "query_vec = model.encode(\n",
    "    \"котенок жует траву\", normalize_embeddings=True\n",
    ") \n",
    "\n",
    "hits = client.search(\n",
    "    collection_name=\"articles\",\n",
    "    query_vector=query_vec.tolist(),\n",
    "    limit=4\n",
    ")\n",
    "\n",
    "for hit in hits:\n",
    "    print(f\"score={hit.score:.3f}  →  {sentences[hit.id]}\")"
   ]
  },
  {
   "cell_type": "markdown",
   "id": "00ed896b-d0ee-47a4-992a-57289db9f5a2",
   "metadata": {},
   "source": [
    "Поиск в Qdrant: базовый k-NN и поиск с фильтрацией "
   ]
  },
  {
   "cell_type": "code",
   "execution_count": 19,
   "id": "7fb2298a-b5ed-4f63-9e11-42e04c77508a",
   "metadata": {},
   "outputs": [],
   "source": [
    "#2.1 Базовый поиск (только по вектору)\n",
    "from qdrant_client import QdrantClient, models\n",
    "\n",
    "client = QdrantClient(host=\"localhost\", port=6333)"
   ]
  },
  {
   "cell_type": "code",
   "execution_count": 21,
   "id": "521a5388-a850-447f-b47e-a9f0357b31f8",
   "metadata": {},
   "outputs": [
    {
     "name": "stdout",
     "output_type": "stream",
     "text": [
      "ID=   1  score=0.0086  category=None\n",
      "ID=   5  score=-0.0065  category=None\n",
      "ID=   0  score=-0.0076  category=None\n",
      "ID=   2  score=-0.0142  category=None\n",
      "ID=   4  score=-0.0167  category=None\n"
     ]
    },
    {
     "name": "stderr",
     "output_type": "stream",
     "text": [
      "/var/folders/22/w_0gdhgj699dgr2cp6bwhn800000gn/T/ipykernel_6788/3525416721.py:4: DeprecationWarning: `search` method is deprecated and will be removed in the future. Use `query_points` instead.\n",
      "  hits = client.search(\n"
     ]
    }
   ],
   "source": [
    "query_vector = [0.12]*384 ## ← эмбеддинг запроса\n",
    "top_k = 5\n",
    "\n",
    "hits = client.search(\n",
    "    collection_name = \"articles\",\n",
    "    query_vector=query_vector,\n",
    "    limit=top_k,\n",
    "    with_vectors=False,              # в ответ не тащим сами векторы\n",
    "    with_payload=True                # но хотим метаданные\n",
    ")\n",
    "\n",
    "for hit in hits:\n",
    "    print(f\"ID={hit.id:>4}  score={hit.score:.4f}  category={hit.payload.get('category')}\")"
   ]
  },
  {
   "cell_type": "markdown",
   "id": "2582b3e6-b237-42bc-a033-941055edaf40",
   "metadata": {},
   "source": [
    "1. should=[…] — OR-условия;\n",
    "2. must_not=[…] — исключить записи;\n",
    "3. range, geo_bounding_box, geo_radius — числовые диапазоны и поиск по координатам."
   ]
  },
  {
   "cell_type": "code",
   "execution_count": 36,
   "id": "06bbfa1e-ba3a-4b8b-869c-c1f3b2695693",
   "metadata": {},
   "outputs": [
    {
     "name": "stderr",
     "output_type": "stream",
     "text": [
      "/var/folders/22/w_0gdhgj699dgr2cp6bwhn800000gn/T/ipykernel_6788/3088815193.py:17: DeprecationWarning: `search` method is deprecated and will be removed in the future. Use `query_points` instead.\n",
      "  hits = client.search(\n"
     ]
    }
   ],
   "source": [
    "#Поиск с фильтром по payload\n",
    "from datetime import datetime\n",
    "\n",
    "flt = models.Filter(\n",
    "    must=[\n",
    "        models.FieldCondition(\n",
    "            key=\"tag\",\n",
    "            match=models.MatchValue(value=\"animals\")\n",
    "        ),\n",
    "        models.FieldCondition(\n",
    "            key=\"year\",\n",
    "            range=models.Range(gte=2023)\n",
    "        )\n",
    "    ]\n",
    ")\n",
    "\n",
    "hits = client.search(\n",
    "    collection_name=\"articles\",\n",
    "    query_vector=query_vector,\n",
    "    limit=top_k,\n",
    "    query_filter=flt,\n",
    "    with_payload=True\n",
    ")"
   ]
  },
  {
   "cell_type": "code",
   "execution_count": 37,
   "id": "51a517a5-daeb-4843-bd21-cd30893539ab",
   "metadata": {},
   "outputs": [
    {
     "name": "stdout",
     "output_type": "stream",
     "text": [
      "ID=   5  score=-0.0065  category=animals\n",
      "ID=   0  score=-0.0076  category=animals\n",
      "ID=   4  score=-0.0167  category=animals\n"
     ]
    }
   ],
   "source": [
    "for hit in hits:\n",
    "    print(f\"ID={hit.id:>4}  score={hit.score:.4f}  category={hit.payload.get('tag')}\")"
   ]
  },
  {
   "cell_type": "code",
   "execution_count": 38,
   "id": "97f7d2fd-aa4a-46b9-a4f7-14c89ae4bf36",
   "metadata": {},
   "outputs": [
    {
     "name": "stdout",
     "output_type": "stream",
     "text": [
      "ID=   1  score=0.0086  category=animals\n",
      "ID=   5  score=-0.0065  category=animals\n",
      "ID=   0  score=-0.0076  category=animals\n",
      "ID=   2  score=-0.0142  category=vehicles\n",
      "ID=   4  score=-0.0167  category=animals\n"
     ]
    },
    {
     "name": "stderr",
     "output_type": "stream",
     "text": [
      "/var/folders/22/w_0gdhgj699dgr2cp6bwhn800000gn/T/ipykernel_6788/1205534079.py:1: DeprecationWarning: `search` method is deprecated and will be removed in the future. Use `query_points` instead.\n",
      "  hits = client.search(\n"
     ]
    }
   ],
   "source": [
    "hits = client.search(\n",
    "    collection_name=\"articles\",\n",
    "    query_vector=query_vector,\n",
    "    limit=top_k,\n",
    "    search_params=models.SearchParams(\n",
    "        hnsw_ef=256,   # ↑ точность, ↓ скорость (обычный диапазон 32‒256)\n",
    "        exact=False    # False = Approximate Nearest Neighbour (по умолчанию)\n",
    "    )\n",
    ")\n",
    "\n",
    "for hit in hits:\n",
    "    print(f\"ID={hit.id:>4}  score={hit.score:.4f}  category={hit.payload.get('tag')}\")"
   ]
  },
  {
   "cell_type": "markdown",
   "id": "6a4ed162-31f5-4f9e-9dbb-966520cbc657",
   "metadata": {},
   "source": [
    "## Массовая загрузка данных и базовая статистика коллекции"
   ]
  },
  {
   "cell_type": "code",
   "execution_count": 42,
   "id": "76c24a88-c738-4a09-bbca-1f3707237285",
   "metadata": {},
   "outputs": [],
   "source": [
    "import numpy as np\n",
    "from qdrant_client import QdrantClient, models\n",
    "\n",
    "client = QdrantClient(\"http://localhost:6333\")\n",
    "# Сгенерируем пример данных\n",
    "N          = 20_000\n",
    "vectors    = np.random.rand(N, 768).astype(np.float32)          # (N, 768)\n",
    "categories = np.random.choice([\"tech\", \"finance\", \"sports\"], N)\n",
    "years      = np.random.randint(2021, 2025, N)"
   ]
  },
  {
   "cell_type": "code",
   "execution_count": 43,
   "id": "6500bea3-9a19-44f6-b2ca-024633da2e87",
   "metadata": {},
   "outputs": [
    {
     "name": "stderr",
     "output_type": "stream",
     "text": [
      "huggingface/tokenizers: The current process just got forked, after parallelism has already been used. Disabling parallelism to avoid deadlocks...\n",
      "To disable this warning, you can either:\n",
      "\t- Avoid using `tokenizers` before the fork if possible\n",
      "\t- Explicitly set the environment variable TOKENIZERS_PARALLELISM=(true | false)\n"
     ]
    },
    {
     "name": "stdout",
     "output_type": "stream",
     "text": [
      "Импорт завершён!\n"
     ]
    }
   ],
   "source": [
    "points = [ #client.upload_points автоматически разобьёт массив на батчи.\n",
    "    models.PointStruct(\n",
    "        id=i,\n",
    "        vector=vectors[i],\n",
    "        payload={\n",
    "            \"category\": str(categories[i]),\n",
    "            \"year\": int(years[i])\n",
    "        }\n",
    "    ) for i in range(N)\n",
    "]\n",
    "\n",
    "client.upload_points(\n",
    "    collection_name=\"articles\",\n",
    "    points=points,\n",
    "    batch_size=1000,         # ← задаём желаемый размер пакета\n",
    "    parallel=4               # ← потоков (CPU-ядра); 0 = авто\n",
    ")\n",
    "\n",
    "print(\"Импорт завершён!\")"
   ]
  },
  {
   "cell_type": "code",
   "execution_count": 44,
   "id": "d2b67d3b-fd0e-4b69-b32d-8fde291693ed",
   "metadata": {},
   "outputs": [
    {
     "name": "stdout",
     "output_type": "stream",
     "text": [
      "Сейчас в коллекции 6 точек\n",
      "Статус: green\n",
      "Статус оптимизатора: ok\n",
      "Сегментов: 4\n",
      "Всего векторов: None\n",
      "Проиндексировано: 0\n"
     ]
    }
   ],
   "source": [
    "# Количество точек (быстрый способ) --> точка (point) – это одна запись в векторной базе.\n",
    "count = client.get_collection(\"articles\").points_count\n",
    "print(f\"Сейчас в коллекции {count:,} точек\")\n",
    "\n",
    "# Дополнительная информация о коллекции\n",
    "info = client.get_collection(\"articles\")\n",
    "print(\"Статус:\", info.status)                         # green / yellow / red\n",
    "print(\"Статус оптимизатора:\", info.optimizer_status)  # ok / in_progress / ...\n",
    "print(\"Сегментов:\", info.segments_count)              # <- было segments_size (ошибка)\n",
    "print(\"Всего векторов:\", info.vectors_count)\n",
    "print(\"Проиндексировано:\", info.indexed_vectors_count)"
   ]
  },
  {
   "cell_type": "markdown",
   "id": "438d9612-7ba6-4ec6-bbf1-d296436f4b8e",
   "metadata": {},
   "source": [
    "**Лабораторная 1 — «Глубокая работа с одиночным узлом»**"
   ]
  },
  {
   "cell_type": "code",
   "execution_count": null,
   "id": "b23fa4d6-0edf-4284-ab64-c64f34cfe797",
   "metadata": {},
   "outputs": [],
   "source": []
  }
 ],
 "metadata": {
  "kernelspec": {
   "display_name": "Python 3 (ipykernel)",
   "language": "python",
   "name": "python3"
  },
  "language_info": {
   "codemirror_mode": {
    "name": "ipython",
    "version": 3
   },
   "file_extension": ".py",
   "mimetype": "text/x-python",
   "name": "python",
   "nbconvert_exporter": "python",
   "pygments_lexer": "ipython3",
   "version": "3.11.8"
  }
 },
 "nbformat": 4,
 "nbformat_minor": 5
}
