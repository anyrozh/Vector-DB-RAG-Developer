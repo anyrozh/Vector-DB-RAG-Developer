{
  "cells": [
    {
      "cell_type": "code",
      "execution_count": 45,
      "id": "understanding-international",
      "metadata": {
        "colab": {
          "base_uri": "https://localhost:8080/"
        },
        "id": "understanding-international",
        "outputId": "87a12211-a65c-466b-b581-dbd624a01631"
      },
      "outputs": [
        {
          "output_type": "stream",
          "name": "stdout",
          "text": [
            "Requirement already satisfied: pysd in /usr/local/lib/python3.11/dist-packages (3.14.2)\n",
            "Requirement already satisfied: numpy>=1.23 in /usr/local/lib/python3.11/dist-packages (from pysd) (2.0.2)\n",
            "Requirement already satisfied: pandas[excel] in /usr/local/lib/python3.11/dist-packages (from pysd) (2.2.2)\n",
            "Requirement already satisfied: parsimonious in /usr/local/lib/python3.11/dist-packages (from pysd) (0.10.0)\n",
            "Requirement already satisfied: xarray>=2023.9 in /usr/local/lib/python3.11/dist-packages (from pysd) (2025.1.2)\n",
            "Requirement already satisfied: lxml in /usr/local/lib/python3.11/dist-packages (from pysd) (5.3.1)\n",
            "Requirement already satisfied: regex in /usr/local/lib/python3.11/dist-packages (from pysd) (2024.11.6)\n",
            "Requirement already satisfied: chardet in /usr/local/lib/python3.11/dist-packages (from pysd) (5.2.0)\n",
            "Requirement already satisfied: black in /usr/local/lib/python3.11/dist-packages (from pysd) (25.1.0)\n",
            "Requirement already satisfied: openpyxl>=3.1.2 in /usr/local/lib/python3.11/dist-packages (from pysd) (3.1.5)\n",
            "Requirement already satisfied: scipy in /usr/local/lib/python3.11/dist-packages (from pysd) (1.14.1)\n",
            "Requirement already satisfied: progressbar2 in /usr/local/lib/python3.11/dist-packages (from pysd) (4.5.0)\n",
            "Requirement already satisfied: portion in /usr/local/lib/python3.11/dist-packages (from pysd) (2.6.0)\n",
            "Requirement already satisfied: et-xmlfile in /usr/local/lib/python3.11/dist-packages (from openpyxl>=3.1.2->pysd) (2.0.0)\n",
            "Requirement already satisfied: packaging>=23.2 in /usr/local/lib/python3.11/dist-packages (from xarray>=2023.9->pysd) (24.2)\n",
            "Requirement already satisfied: click>=8.0.0 in /usr/local/lib/python3.11/dist-packages (from black->pysd) (8.1.8)\n",
            "Requirement already satisfied: mypy-extensions>=0.4.3 in /usr/local/lib/python3.11/dist-packages (from black->pysd) (1.0.0)\n",
            "Requirement already satisfied: pathspec>=0.9.0 in /usr/local/lib/python3.11/dist-packages (from black->pysd) (0.12.1)\n",
            "Requirement already satisfied: platformdirs>=2 in /usr/local/lib/python3.11/dist-packages (from black->pysd) (4.3.6)\n",
            "Requirement already satisfied: python-dateutil>=2.8.2 in /usr/local/lib/python3.11/dist-packages (from pandas[excel]->pysd) (2.8.2)\n",
            "Requirement already satisfied: pytz>=2020.1 in /usr/local/lib/python3.11/dist-packages (from pandas[excel]->pysd) (2025.1)\n",
            "Requirement already satisfied: tzdata>=2022.7 in /usr/local/lib/python3.11/dist-packages (from pandas[excel]->pysd) (2025.1)\n",
            "Requirement already satisfied: odfpy>=1.4.1 in /usr/local/lib/python3.11/dist-packages (from pandas[excel]->pysd) (1.4.1)\n",
            "Requirement already satisfied: python-calamine>=0.1.7 in /usr/local/lib/python3.11/dist-packages (from pandas[excel]->pysd) (0.3.1)\n",
            "Requirement already satisfied: pyxlsb>=1.0.10 in /usr/local/lib/python3.11/dist-packages (from pandas[excel]->pysd) (1.0.10)\n",
            "Requirement already satisfied: xlrd>=2.0.1 in /usr/local/lib/python3.11/dist-packages (from pandas[excel]->pysd) (2.0.1)\n",
            "Requirement already satisfied: xlsxwriter>=3.0.5 in /usr/local/lib/python3.11/dist-packages (from pandas[excel]->pysd) (3.2.2)\n",
            "Requirement already satisfied: sortedcontainers~=2.2 in /usr/local/lib/python3.11/dist-packages (from portion->pysd) (2.4.0)\n",
            "Requirement already satisfied: python-utils>=3.8.1 in /usr/local/lib/python3.11/dist-packages (from progressbar2->pysd) (3.9.1)\n",
            "Requirement already satisfied: defusedxml in /usr/local/lib/python3.11/dist-packages (from odfpy>=1.4.1->pandas[excel]->pysd) (0.7.1)\n",
            "Requirement already satisfied: six>=1.5 in /usr/local/lib/python3.11/dist-packages (from python-dateutil>=2.8.2->pandas[excel]->pysd) (1.17.0)\n",
            "Requirement already satisfied: typing_extensions>3.10.0.2 in /usr/local/lib/python3.11/dist-packages (from python-utils>=3.8.1->progressbar2->pysd) (4.12.2)\n",
            "Populating the interactive namespace from numpy and matplotlib\n"
          ]
        },
        {
          "output_type": "stream",
          "name": "stderr",
          "text": [
            "/usr/local/lib/python3.11/dist-packages/IPython/core/magics/pylab.py:159: UserWarning:\n",
            "\n",
            "pylab import has clobbered these variables: ['step']\n",
            "`%matplotlib` prevents importing * from pylab and numpy\n",
            "\n"
          ]
        }
      ],
      "source": [
        "!pip install pysd\n",
        "%pylab inline\n",
        "import pysd\n",
        "import matplotlib.pyplot as plt\n",
        "import numpy as np\n",
        "import itertools\n",
        "from tqdm import tqdm\n",
        "model = pysd.read_vensim('/content/bass.MDL')"
      ]
    },
    {
      "cell_type": "code",
      "execution_count": 46,
      "id": "forward-industry",
      "metadata": {
        "colab": {
          "base_uri": "https://localhost:8080/",
          "height": 455
        },
        "id": "forward-industry",
        "outputId": "83a5e5af-7bef-40c0-fbd3-f258ee465f82"
      },
      "outputs": [
        {
          "output_type": "execute_result",
          "data": {
            "text/plain": [
              "       potential_customers\n",
              "time                      \n",
              "0.0          100000.000000\n",
              "0.5           99890.000000\n",
              "1.0           99779.238828\n",
              "1.5           99667.716264\n",
              "2.0           99555.432219\n",
              "...                    ...\n",
              "498.0         62158.754612\n",
              "498.5         62158.703992\n",
              "499.0         62158.653815\n",
              "499.5         62158.604077\n",
              "500.0         62158.554775\n",
              "\n",
              "[1001 rows x 1 columns]"
            ],
            "text/html": [
              "\n",
              "  <div id=\"df-9b4dbd9c-ab56-4337-a768-98fdeac5fda0\" class=\"colab-df-container\">\n",
              "    <div>\n",
              "<style scoped>\n",
              "    .dataframe tbody tr th:only-of-type {\n",
              "        vertical-align: middle;\n",
              "    }\n",
              "\n",
              "    .dataframe tbody tr th {\n",
              "        vertical-align: top;\n",
              "    }\n",
              "\n",
              "    .dataframe thead th {\n",
              "        text-align: right;\n",
              "    }\n",
              "</style>\n",
              "<table border=\"1\" class=\"dataframe\">\n",
              "  <thead>\n",
              "    <tr style=\"text-align: right;\">\n",
              "      <th></th>\n",
              "      <th>potential_customers</th>\n",
              "    </tr>\n",
              "    <tr>\n",
              "      <th>time</th>\n",
              "      <th></th>\n",
              "    </tr>\n",
              "  </thead>\n",
              "  <tbody>\n",
              "    <tr>\n",
              "      <th>0.0</th>\n",
              "      <td>100000.000000</td>\n",
              "    </tr>\n",
              "    <tr>\n",
              "      <th>0.5</th>\n",
              "      <td>99890.000000</td>\n",
              "    </tr>\n",
              "    <tr>\n",
              "      <th>1.0</th>\n",
              "      <td>99779.238828</td>\n",
              "    </tr>\n",
              "    <tr>\n",
              "      <th>1.5</th>\n",
              "      <td>99667.716264</td>\n",
              "    </tr>\n",
              "    <tr>\n",
              "      <th>2.0</th>\n",
              "      <td>99555.432219</td>\n",
              "    </tr>\n",
              "    <tr>\n",
              "      <th>...</th>\n",
              "      <td>...</td>\n",
              "    </tr>\n",
              "    <tr>\n",
              "      <th>498.0</th>\n",
              "      <td>62158.754612</td>\n",
              "    </tr>\n",
              "    <tr>\n",
              "      <th>498.5</th>\n",
              "      <td>62158.703992</td>\n",
              "    </tr>\n",
              "    <tr>\n",
              "      <th>499.0</th>\n",
              "      <td>62158.653815</td>\n",
              "    </tr>\n",
              "    <tr>\n",
              "      <th>499.5</th>\n",
              "      <td>62158.604077</td>\n",
              "    </tr>\n",
              "    <tr>\n",
              "      <th>500.0</th>\n",
              "      <td>62158.554775</td>\n",
              "    </tr>\n",
              "  </tbody>\n",
              "</table>\n",
              "<p>1001 rows × 1 columns</p>\n",
              "</div>\n",
              "    <div class=\"colab-df-buttons\">\n",
              "\n",
              "  <div class=\"colab-df-container\">\n",
              "    <button class=\"colab-df-convert\" onclick=\"convertToInteractive('df-9b4dbd9c-ab56-4337-a768-98fdeac5fda0')\"\n",
              "            title=\"Convert this dataframe to an interactive table.\"\n",
              "            style=\"display:none;\">\n",
              "\n",
              "  <svg xmlns=\"http://www.w3.org/2000/svg\" height=\"24px\" viewBox=\"0 -960 960 960\">\n",
              "    <path d=\"M120-120v-720h720v720H120Zm60-500h600v-160H180v160Zm220 220h160v-160H400v160Zm0 220h160v-160H400v160ZM180-400h160v-160H180v160Zm440 0h160v-160H620v160ZM180-180h160v-160H180v160Zm440 0h160v-160H620v160Z\"/>\n",
              "  </svg>\n",
              "    </button>\n",
              "\n",
              "  <style>\n",
              "    .colab-df-container {\n",
              "      display:flex;\n",
              "      gap: 12px;\n",
              "    }\n",
              "\n",
              "    .colab-df-convert {\n",
              "      background-color: #E8F0FE;\n",
              "      border: none;\n",
              "      border-radius: 50%;\n",
              "      cursor: pointer;\n",
              "      display: none;\n",
              "      fill: #1967D2;\n",
              "      height: 32px;\n",
              "      padding: 0 0 0 0;\n",
              "      width: 32px;\n",
              "    }\n",
              "\n",
              "    .colab-df-convert:hover {\n",
              "      background-color: #E2EBFA;\n",
              "      box-shadow: 0px 1px 2px rgba(60, 64, 67, 0.3), 0px 1px 3px 1px rgba(60, 64, 67, 0.15);\n",
              "      fill: #174EA6;\n",
              "    }\n",
              "\n",
              "    .colab-df-buttons div {\n",
              "      margin-bottom: 4px;\n",
              "    }\n",
              "\n",
              "    [theme=dark] .colab-df-convert {\n",
              "      background-color: #3B4455;\n",
              "      fill: #D2E3FC;\n",
              "    }\n",
              "\n",
              "    [theme=dark] .colab-df-convert:hover {\n",
              "      background-color: #434B5C;\n",
              "      box-shadow: 0px 1px 3px 1px rgba(0, 0, 0, 0.15);\n",
              "      filter: drop-shadow(0px 1px 2px rgba(0, 0, 0, 0.3));\n",
              "      fill: #FFFFFF;\n",
              "    }\n",
              "  </style>\n",
              "\n",
              "    <script>\n",
              "      const buttonEl =\n",
              "        document.querySelector('#df-9b4dbd9c-ab56-4337-a768-98fdeac5fda0 button.colab-df-convert');\n",
              "      buttonEl.style.display =\n",
              "        google.colab.kernel.accessAllowed ? 'block' : 'none';\n",
              "\n",
              "      async function convertToInteractive(key) {\n",
              "        const element = document.querySelector('#df-9b4dbd9c-ab56-4337-a768-98fdeac5fda0');\n",
              "        const dataTable =\n",
              "          await google.colab.kernel.invokeFunction('convertToInteractive',\n",
              "                                                    [key], {});\n",
              "        if (!dataTable) return;\n",
              "\n",
              "        const docLinkHtml = 'Like what you see? Visit the ' +\n",
              "          '<a target=\"_blank\" href=https://colab.research.google.com/notebooks/data_table.ipynb>data table notebook</a>'\n",
              "          + ' to learn more about interactive tables.';\n",
              "        element.innerHTML = '';\n",
              "        dataTable['output_type'] = 'display_data';\n",
              "        await google.colab.output.renderOutput(dataTable, element);\n",
              "        const docLink = document.createElement('div');\n",
              "        docLink.innerHTML = docLinkHtml;\n",
              "        element.appendChild(docLink);\n",
              "      }\n",
              "    </script>\n",
              "  </div>\n",
              "\n",
              "\n",
              "<div id=\"df-06292b7d-c900-4815-b0be-74d93268c5b5\">\n",
              "  <button class=\"colab-df-quickchart\" onclick=\"quickchart('df-06292b7d-c900-4815-b0be-74d93268c5b5')\"\n",
              "            title=\"Suggest charts\"\n",
              "            style=\"display:none;\">\n",
              "\n",
              "<svg xmlns=\"http://www.w3.org/2000/svg\" height=\"24px\"viewBox=\"0 0 24 24\"\n",
              "     width=\"24px\">\n",
              "    <g>\n",
              "        <path d=\"M19 3H5c-1.1 0-2 .9-2 2v14c0 1.1.9 2 2 2h14c1.1 0 2-.9 2-2V5c0-1.1-.9-2-2-2zM9 17H7v-7h2v7zm4 0h-2V7h2v10zm4 0h-2v-4h2v4z\"/>\n",
              "    </g>\n",
              "</svg>\n",
              "  </button>\n",
              "\n",
              "<style>\n",
              "  .colab-df-quickchart {\n",
              "      --bg-color: #E8F0FE;\n",
              "      --fill-color: #1967D2;\n",
              "      --hover-bg-color: #E2EBFA;\n",
              "      --hover-fill-color: #174EA6;\n",
              "      --disabled-fill-color: #AAA;\n",
              "      --disabled-bg-color: #DDD;\n",
              "  }\n",
              "\n",
              "  [theme=dark] .colab-df-quickchart {\n",
              "      --bg-color: #3B4455;\n",
              "      --fill-color: #D2E3FC;\n",
              "      --hover-bg-color: #434B5C;\n",
              "      --hover-fill-color: #FFFFFF;\n",
              "      --disabled-bg-color: #3B4455;\n",
              "      --disabled-fill-color: #666;\n",
              "  }\n",
              "\n",
              "  .colab-df-quickchart {\n",
              "    background-color: var(--bg-color);\n",
              "    border: none;\n",
              "    border-radius: 50%;\n",
              "    cursor: pointer;\n",
              "    display: none;\n",
              "    fill: var(--fill-color);\n",
              "    height: 32px;\n",
              "    padding: 0;\n",
              "    width: 32px;\n",
              "  }\n",
              "\n",
              "  .colab-df-quickchart:hover {\n",
              "    background-color: var(--hover-bg-color);\n",
              "    box-shadow: 0 1px 2px rgba(60, 64, 67, 0.3), 0 1px 3px 1px rgba(60, 64, 67, 0.15);\n",
              "    fill: var(--button-hover-fill-color);\n",
              "  }\n",
              "\n",
              "  .colab-df-quickchart-complete:disabled,\n",
              "  .colab-df-quickchart-complete:disabled:hover {\n",
              "    background-color: var(--disabled-bg-color);\n",
              "    fill: var(--disabled-fill-color);\n",
              "    box-shadow: none;\n",
              "  }\n",
              "\n",
              "  .colab-df-spinner {\n",
              "    border: 2px solid var(--fill-color);\n",
              "    border-color: transparent;\n",
              "    border-bottom-color: var(--fill-color);\n",
              "    animation:\n",
              "      spin 1s steps(1) infinite;\n",
              "  }\n",
              "\n",
              "  @keyframes spin {\n",
              "    0% {\n",
              "      border-color: transparent;\n",
              "      border-bottom-color: var(--fill-color);\n",
              "      border-left-color: var(--fill-color);\n",
              "    }\n",
              "    20% {\n",
              "      border-color: transparent;\n",
              "      border-left-color: var(--fill-color);\n",
              "      border-top-color: var(--fill-color);\n",
              "    }\n",
              "    30% {\n",
              "      border-color: transparent;\n",
              "      border-left-color: var(--fill-color);\n",
              "      border-top-color: var(--fill-color);\n",
              "      border-right-color: var(--fill-color);\n",
              "    }\n",
              "    40% {\n",
              "      border-color: transparent;\n",
              "      border-right-color: var(--fill-color);\n",
              "      border-top-color: var(--fill-color);\n",
              "    }\n",
              "    60% {\n",
              "      border-color: transparent;\n",
              "      border-right-color: var(--fill-color);\n",
              "    }\n",
              "    80% {\n",
              "      border-color: transparent;\n",
              "      border-right-color: var(--fill-color);\n",
              "      border-bottom-color: var(--fill-color);\n",
              "    }\n",
              "    90% {\n",
              "      border-color: transparent;\n",
              "      border-bottom-color: var(--fill-color);\n",
              "    }\n",
              "  }\n",
              "</style>\n",
              "\n",
              "  <script>\n",
              "    async function quickchart(key) {\n",
              "      const quickchartButtonEl =\n",
              "        document.querySelector('#' + key + ' button');\n",
              "      quickchartButtonEl.disabled = true;  // To prevent multiple clicks.\n",
              "      quickchartButtonEl.classList.add('colab-df-spinner');\n",
              "      try {\n",
              "        const charts = await google.colab.kernel.invokeFunction(\n",
              "            'suggestCharts', [key], {});\n",
              "      } catch (error) {\n",
              "        console.error('Error during call to suggestCharts:', error);\n",
              "      }\n",
              "      quickchartButtonEl.classList.remove('colab-df-spinner');\n",
              "      quickchartButtonEl.classList.add('colab-df-quickchart-complete');\n",
              "    }\n",
              "    (() => {\n",
              "      let quickchartButtonEl =\n",
              "        document.querySelector('#df-06292b7d-c900-4815-b0be-74d93268c5b5 button');\n",
              "      quickchartButtonEl.style.display =\n",
              "        google.colab.kernel.accessAllowed ? 'block' : 'none';\n",
              "    })();\n",
              "  </script>\n",
              "</div>\n",
              "    </div>\n",
              "  </div>\n"
            ],
            "application/vnd.google.colaboratory.intrinsic+json": {
              "type": "dataframe",
              "summary": "{\n  \"name\": \"model\",\n  \"rows\": 1001,\n  \"fields\": [\n    {\n      \"column\": \"time\",\n      \"properties\": {\n        \"dtype\": \"number\",\n        \"std\": 144.55405563317828,\n        \"min\": 0.0,\n        \"max\": 500.0,\n        \"num_unique_values\": 1001,\n        \"samples\": [\n          260.5,\n          470.5,\n          370.5\n        ],\n        \"semantic_type\": \"\",\n        \"description\": \"\"\n      }\n    },\n    {\n      \"column\": \"potential_customers\",\n      \"properties\": {\n        \"dtype\": \"number\",\n        \"std\": 10000.38144090357,\n        \"min\": 62158.55477451416,\n        \"max\": 100000.0,\n        \"num_unique_values\": 1001,\n        \"samples\": [\n          62546.385624456205,\n          62162.35095384755,\n          62207.595776366274\n        ],\n        \"semantic_type\": \"\",\n        \"description\": \"\"\n      }\n    }\n  ]\n}"
            }
          },
          "metadata": {},
          "execution_count": 46
        }
      ],
      "source": [
        "model = pysd.load('/content/bassnew.py')\n",
        "model.run(return_columns=['potential_customers'])"
      ]
    },
    {
      "cell_type": "code",
      "execution_count": 47,
      "id": "hollow-vegetable",
      "metadata": {
        "id": "hollow-vegetable"
      },
      "outputs": [],
      "source": [
        "import pandas as pd\n",
        "pd.set_option('display.max_columns', None)\n",
        "values = model.run()\n",
        "#values"
      ]
    },
    {
      "cell_type": "markdown",
      "source": [
        "**Нормализуем данные**"
      ],
      "metadata": {
        "id": "7mQEjeHcFqFD"
      },
      "id": "7mQEjeHcFqFD"
    },
    {
      "cell_type": "code",
      "source": [
        "data = model.run(return_columns=['Potential Customers', 'Customers', 'Customers Competitors'])\n",
        "base_value = 100000\n",
        "normalized_data = data / base_value\n",
        "normalized_data['change_potential'] = normalized_data['Potential Customers'].diff().abs()\n",
        "normalized_data['change_customers'] = normalized_data['Customers'].diff().abs()\n",
        "normalized_data['change_competitors'] = normalized_data['Customers Competitors'].diff().abs()"
      ],
      "metadata": {
        "id": "xxXIGmUEj32M"
      },
      "id": "xxXIGmUEj32M",
      "execution_count": 48,
      "outputs": []
    },
    {
      "cell_type": "code",
      "source": [
        "normalized_data"
      ],
      "metadata": {
        "colab": {
          "base_uri": "https://localhost:8080/",
          "height": 455
        },
        "id": "75bNbYBf8uRB",
        "outputId": "e3fdc9a3-a54b-4cdb-b108-7a6675b3cfbe"
      },
      "id": "75bNbYBf8uRB",
      "execution_count": 49,
      "outputs": [
        {
          "output_type": "execute_result",
          "data": {
            "text/plain": [
              "       Potential Customers  Customers  Customers Competitors  \\\n",
              "time                                                           \n",
              "0.0               1.000000   0.000000               0.000000   \n",
              "0.5               0.998900   0.000550               0.000550   \n",
              "1.0               0.997792   0.001101               0.001107   \n",
              "1.5               0.996677   0.001652               0.001671   \n",
              "2.0               0.995554   0.002204               0.002241   \n",
              "...                    ...        ...                    ...   \n",
              "498.0             0.621588   0.032534               0.345878   \n",
              "498.5             0.621587   0.032534               0.345879   \n",
              "499.0             0.621587   0.032533               0.345880   \n",
              "499.5             0.621586   0.032533               0.345881   \n",
              "500.0             0.621586   0.032532               0.345882   \n",
              "\n",
              "       change_potential  change_customers  change_competitors  \n",
              "time                                                           \n",
              "0.0                 NaN               NaN                 NaN  \n",
              "0.5        1.100000e-03      5.500000e-04            0.000550  \n",
              "1.0        1.107612e-03      5.507504e-04            0.000557  \n",
              "1.5        1.115226e-03      5.514589e-04            0.000564  \n",
              "2.0        1.122840e-03      5.521249e-04            0.000571  \n",
              "...                 ...               ...                 ...  \n",
              "498.0      5.106718e-07      5.268332e-07            0.000001  \n",
              "498.5      5.062012e-07      5.222312e-07            0.000001  \n",
              "499.0      5.017698e-07      5.176694e-07            0.000001  \n",
              "499.5      4.973773e-07      5.131473e-07            0.000001  \n",
              "500.0      4.930233e-07      5.086647e-07            0.000001  \n",
              "\n",
              "[1001 rows x 6 columns]"
            ],
            "text/html": [
              "\n",
              "  <div id=\"df-95aa42e0-1fd9-468a-aadc-9722c5a08f47\" class=\"colab-df-container\">\n",
              "    <div>\n",
              "<style scoped>\n",
              "    .dataframe tbody tr th:only-of-type {\n",
              "        vertical-align: middle;\n",
              "    }\n",
              "\n",
              "    .dataframe tbody tr th {\n",
              "        vertical-align: top;\n",
              "    }\n",
              "\n",
              "    .dataframe thead th {\n",
              "        text-align: right;\n",
              "    }\n",
              "</style>\n",
              "<table border=\"1\" class=\"dataframe\">\n",
              "  <thead>\n",
              "    <tr style=\"text-align: right;\">\n",
              "      <th></th>\n",
              "      <th>Potential Customers</th>\n",
              "      <th>Customers</th>\n",
              "      <th>Customers Competitors</th>\n",
              "      <th>change_potential</th>\n",
              "      <th>change_customers</th>\n",
              "      <th>change_competitors</th>\n",
              "    </tr>\n",
              "    <tr>\n",
              "      <th>time</th>\n",
              "      <th></th>\n",
              "      <th></th>\n",
              "      <th></th>\n",
              "      <th></th>\n",
              "      <th></th>\n",
              "      <th></th>\n",
              "    </tr>\n",
              "  </thead>\n",
              "  <tbody>\n",
              "    <tr>\n",
              "      <th>0.0</th>\n",
              "      <td>1.000000</td>\n",
              "      <td>0.000000</td>\n",
              "      <td>0.000000</td>\n",
              "      <td>NaN</td>\n",
              "      <td>NaN</td>\n",
              "      <td>NaN</td>\n",
              "    </tr>\n",
              "    <tr>\n",
              "      <th>0.5</th>\n",
              "      <td>0.998900</td>\n",
              "      <td>0.000550</td>\n",
              "      <td>0.000550</td>\n",
              "      <td>1.100000e-03</td>\n",
              "      <td>5.500000e-04</td>\n",
              "      <td>0.000550</td>\n",
              "    </tr>\n",
              "    <tr>\n",
              "      <th>1.0</th>\n",
              "      <td>0.997792</td>\n",
              "      <td>0.001101</td>\n",
              "      <td>0.001107</td>\n",
              "      <td>1.107612e-03</td>\n",
              "      <td>5.507504e-04</td>\n",
              "      <td>0.000557</td>\n",
              "    </tr>\n",
              "    <tr>\n",
              "      <th>1.5</th>\n",
              "      <td>0.996677</td>\n",
              "      <td>0.001652</td>\n",
              "      <td>0.001671</td>\n",
              "      <td>1.115226e-03</td>\n",
              "      <td>5.514589e-04</td>\n",
              "      <td>0.000564</td>\n",
              "    </tr>\n",
              "    <tr>\n",
              "      <th>2.0</th>\n",
              "      <td>0.995554</td>\n",
              "      <td>0.002204</td>\n",
              "      <td>0.002241</td>\n",
              "      <td>1.122840e-03</td>\n",
              "      <td>5.521249e-04</td>\n",
              "      <td>0.000571</td>\n",
              "    </tr>\n",
              "    <tr>\n",
              "      <th>...</th>\n",
              "      <td>...</td>\n",
              "      <td>...</td>\n",
              "      <td>...</td>\n",
              "      <td>...</td>\n",
              "      <td>...</td>\n",
              "      <td>...</td>\n",
              "    </tr>\n",
              "    <tr>\n",
              "      <th>498.0</th>\n",
              "      <td>0.621588</td>\n",
              "      <td>0.032534</td>\n",
              "      <td>0.345878</td>\n",
              "      <td>5.106718e-07</td>\n",
              "      <td>5.268332e-07</td>\n",
              "      <td>0.000001</td>\n",
              "    </tr>\n",
              "    <tr>\n",
              "      <th>498.5</th>\n",
              "      <td>0.621587</td>\n",
              "      <td>0.032534</td>\n",
              "      <td>0.345879</td>\n",
              "      <td>5.062012e-07</td>\n",
              "      <td>5.222312e-07</td>\n",
              "      <td>0.000001</td>\n",
              "    </tr>\n",
              "    <tr>\n",
              "      <th>499.0</th>\n",
              "      <td>0.621587</td>\n",
              "      <td>0.032533</td>\n",
              "      <td>0.345880</td>\n",
              "      <td>5.017698e-07</td>\n",
              "      <td>5.176694e-07</td>\n",
              "      <td>0.000001</td>\n",
              "    </tr>\n",
              "    <tr>\n",
              "      <th>499.5</th>\n",
              "      <td>0.621586</td>\n",
              "      <td>0.032533</td>\n",
              "      <td>0.345881</td>\n",
              "      <td>4.973773e-07</td>\n",
              "      <td>5.131473e-07</td>\n",
              "      <td>0.000001</td>\n",
              "    </tr>\n",
              "    <tr>\n",
              "      <th>500.0</th>\n",
              "      <td>0.621586</td>\n",
              "      <td>0.032532</td>\n",
              "      <td>0.345882</td>\n",
              "      <td>4.930233e-07</td>\n",
              "      <td>5.086647e-07</td>\n",
              "      <td>0.000001</td>\n",
              "    </tr>\n",
              "  </tbody>\n",
              "</table>\n",
              "<p>1001 rows × 6 columns</p>\n",
              "</div>\n",
              "    <div class=\"colab-df-buttons\">\n",
              "\n",
              "  <div class=\"colab-df-container\">\n",
              "    <button class=\"colab-df-convert\" onclick=\"convertToInteractive('df-95aa42e0-1fd9-468a-aadc-9722c5a08f47')\"\n",
              "            title=\"Convert this dataframe to an interactive table.\"\n",
              "            style=\"display:none;\">\n",
              "\n",
              "  <svg xmlns=\"http://www.w3.org/2000/svg\" height=\"24px\" viewBox=\"0 -960 960 960\">\n",
              "    <path d=\"M120-120v-720h720v720H120Zm60-500h600v-160H180v160Zm220 220h160v-160H400v160Zm0 220h160v-160H400v160ZM180-400h160v-160H180v160Zm440 0h160v-160H620v160ZM180-180h160v-160H180v160Zm440 0h160v-160H620v160Z\"/>\n",
              "  </svg>\n",
              "    </button>\n",
              "\n",
              "  <style>\n",
              "    .colab-df-container {\n",
              "      display:flex;\n",
              "      gap: 12px;\n",
              "    }\n",
              "\n",
              "    .colab-df-convert {\n",
              "      background-color: #E8F0FE;\n",
              "      border: none;\n",
              "      border-radius: 50%;\n",
              "      cursor: pointer;\n",
              "      display: none;\n",
              "      fill: #1967D2;\n",
              "      height: 32px;\n",
              "      padding: 0 0 0 0;\n",
              "      width: 32px;\n",
              "    }\n",
              "\n",
              "    .colab-df-convert:hover {\n",
              "      background-color: #E2EBFA;\n",
              "      box-shadow: 0px 1px 2px rgba(60, 64, 67, 0.3), 0px 1px 3px 1px rgba(60, 64, 67, 0.15);\n",
              "      fill: #174EA6;\n",
              "    }\n",
              "\n",
              "    .colab-df-buttons div {\n",
              "      margin-bottom: 4px;\n",
              "    }\n",
              "\n",
              "    [theme=dark] .colab-df-convert {\n",
              "      background-color: #3B4455;\n",
              "      fill: #D2E3FC;\n",
              "    }\n",
              "\n",
              "    [theme=dark] .colab-df-convert:hover {\n",
              "      background-color: #434B5C;\n",
              "      box-shadow: 0px 1px 3px 1px rgba(0, 0, 0, 0.15);\n",
              "      filter: drop-shadow(0px 1px 2px rgba(0, 0, 0, 0.3));\n",
              "      fill: #FFFFFF;\n",
              "    }\n",
              "  </style>\n",
              "\n",
              "    <script>\n",
              "      const buttonEl =\n",
              "        document.querySelector('#df-95aa42e0-1fd9-468a-aadc-9722c5a08f47 button.colab-df-convert');\n",
              "      buttonEl.style.display =\n",
              "        google.colab.kernel.accessAllowed ? 'block' : 'none';\n",
              "\n",
              "      async function convertToInteractive(key) {\n",
              "        const element = document.querySelector('#df-95aa42e0-1fd9-468a-aadc-9722c5a08f47');\n",
              "        const dataTable =\n",
              "          await google.colab.kernel.invokeFunction('convertToInteractive',\n",
              "                                                    [key], {});\n",
              "        if (!dataTable) return;\n",
              "\n",
              "        const docLinkHtml = 'Like what you see? Visit the ' +\n",
              "          '<a target=\"_blank\" href=https://colab.research.google.com/notebooks/data_table.ipynb>data table notebook</a>'\n",
              "          + ' to learn more about interactive tables.';\n",
              "        element.innerHTML = '';\n",
              "        dataTable['output_type'] = 'display_data';\n",
              "        await google.colab.output.renderOutput(dataTable, element);\n",
              "        const docLink = document.createElement('div');\n",
              "        docLink.innerHTML = docLinkHtml;\n",
              "        element.appendChild(docLink);\n",
              "      }\n",
              "    </script>\n",
              "  </div>\n",
              "\n",
              "\n",
              "<div id=\"df-4bea30ee-5d87-434e-8841-bf24fe7cb15a\">\n",
              "  <button class=\"colab-df-quickchart\" onclick=\"quickchart('df-4bea30ee-5d87-434e-8841-bf24fe7cb15a')\"\n",
              "            title=\"Suggest charts\"\n",
              "            style=\"display:none;\">\n",
              "\n",
              "<svg xmlns=\"http://www.w3.org/2000/svg\" height=\"24px\"viewBox=\"0 0 24 24\"\n",
              "     width=\"24px\">\n",
              "    <g>\n",
              "        <path d=\"M19 3H5c-1.1 0-2 .9-2 2v14c0 1.1.9 2 2 2h14c1.1 0 2-.9 2-2V5c0-1.1-.9-2-2-2zM9 17H7v-7h2v7zm4 0h-2V7h2v10zm4 0h-2v-4h2v4z\"/>\n",
              "    </g>\n",
              "</svg>\n",
              "  </button>\n",
              "\n",
              "<style>\n",
              "  .colab-df-quickchart {\n",
              "      --bg-color: #E8F0FE;\n",
              "      --fill-color: #1967D2;\n",
              "      --hover-bg-color: #E2EBFA;\n",
              "      --hover-fill-color: #174EA6;\n",
              "      --disabled-fill-color: #AAA;\n",
              "      --disabled-bg-color: #DDD;\n",
              "  }\n",
              "\n",
              "  [theme=dark] .colab-df-quickchart {\n",
              "      --bg-color: #3B4455;\n",
              "      --fill-color: #D2E3FC;\n",
              "      --hover-bg-color: #434B5C;\n",
              "      --hover-fill-color: #FFFFFF;\n",
              "      --disabled-bg-color: #3B4455;\n",
              "      --disabled-fill-color: #666;\n",
              "  }\n",
              "\n",
              "  .colab-df-quickchart {\n",
              "    background-color: var(--bg-color);\n",
              "    border: none;\n",
              "    border-radius: 50%;\n",
              "    cursor: pointer;\n",
              "    display: none;\n",
              "    fill: var(--fill-color);\n",
              "    height: 32px;\n",
              "    padding: 0;\n",
              "    width: 32px;\n",
              "  }\n",
              "\n",
              "  .colab-df-quickchart:hover {\n",
              "    background-color: var(--hover-bg-color);\n",
              "    box-shadow: 0 1px 2px rgba(60, 64, 67, 0.3), 0 1px 3px 1px rgba(60, 64, 67, 0.15);\n",
              "    fill: var(--button-hover-fill-color);\n",
              "  }\n",
              "\n",
              "  .colab-df-quickchart-complete:disabled,\n",
              "  .colab-df-quickchart-complete:disabled:hover {\n",
              "    background-color: var(--disabled-bg-color);\n",
              "    fill: var(--disabled-fill-color);\n",
              "    box-shadow: none;\n",
              "  }\n",
              "\n",
              "  .colab-df-spinner {\n",
              "    border: 2px solid var(--fill-color);\n",
              "    border-color: transparent;\n",
              "    border-bottom-color: var(--fill-color);\n",
              "    animation:\n",
              "      spin 1s steps(1) infinite;\n",
              "  }\n",
              "\n",
              "  @keyframes spin {\n",
              "    0% {\n",
              "      border-color: transparent;\n",
              "      border-bottom-color: var(--fill-color);\n",
              "      border-left-color: var(--fill-color);\n",
              "    }\n",
              "    20% {\n",
              "      border-color: transparent;\n",
              "      border-left-color: var(--fill-color);\n",
              "      border-top-color: var(--fill-color);\n",
              "    }\n",
              "    30% {\n",
              "      border-color: transparent;\n",
              "      border-left-color: var(--fill-color);\n",
              "      border-top-color: var(--fill-color);\n",
              "      border-right-color: var(--fill-color);\n",
              "    }\n",
              "    40% {\n",
              "      border-color: transparent;\n",
              "      border-right-color: var(--fill-color);\n",
              "      border-top-color: var(--fill-color);\n",
              "    }\n",
              "    60% {\n",
              "      border-color: transparent;\n",
              "      border-right-color: var(--fill-color);\n",
              "    }\n",
              "    80% {\n",
              "      border-color: transparent;\n",
              "      border-right-color: var(--fill-color);\n",
              "      border-bottom-color: var(--fill-color);\n",
              "    }\n",
              "    90% {\n",
              "      border-color: transparent;\n",
              "      border-bottom-color: var(--fill-color);\n",
              "    }\n",
              "  }\n",
              "</style>\n",
              "\n",
              "  <script>\n",
              "    async function quickchart(key) {\n",
              "      const quickchartButtonEl =\n",
              "        document.querySelector('#' + key + ' button');\n",
              "      quickchartButtonEl.disabled = true;  // To prevent multiple clicks.\n",
              "      quickchartButtonEl.classList.add('colab-df-spinner');\n",
              "      try {\n",
              "        const charts = await google.colab.kernel.invokeFunction(\n",
              "            'suggestCharts', [key], {});\n",
              "      } catch (error) {\n",
              "        console.error('Error during call to suggestCharts:', error);\n",
              "      }\n",
              "      quickchartButtonEl.classList.remove('colab-df-spinner');\n",
              "      quickchartButtonEl.classList.add('colab-df-quickchart-complete');\n",
              "    }\n",
              "    (() => {\n",
              "      let quickchartButtonEl =\n",
              "        document.querySelector('#df-4bea30ee-5d87-434e-8841-bf24fe7cb15a button');\n",
              "      quickchartButtonEl.style.display =\n",
              "        google.colab.kernel.accessAllowed ? 'block' : 'none';\n",
              "    })();\n",
              "  </script>\n",
              "</div>\n",
              "    </div>\n",
              "  </div>\n"
            ],
            "application/vnd.google.colaboratory.intrinsic+json": {
              "type": "dataframe",
              "variable_name": "normalized_data",
              "summary": "{\n  \"name\": \"normalized_data\",\n  \"rows\": 1001,\n  \"fields\": [\n    {\n      \"column\": \"time\",\n      \"properties\": {\n        \"dtype\": \"number\",\n        \"std\": 144.55405563317828,\n        \"min\": 0.0,\n        \"max\": 500.0,\n        \"num_unique_values\": 1001,\n        \"samples\": [\n          260.5,\n          470.5,\n          370.5\n        ],\n        \"semantic_type\": \"\",\n        \"description\": \"\"\n      }\n    },\n    {\n      \"column\": \"Potential Customers\",\n      \"properties\": {\n        \"dtype\": \"number\",\n        \"std\": 0.10000381440903569,\n        \"min\": 0.6215855477451416,\n        \"max\": 1.0,\n        \"num_unique_values\": 1001,\n        \"samples\": [\n          0.625463856244562,\n          0.6216235095384754,\n          0.6220759577636628\n        ],\n        \"semantic_type\": \"\",\n        \"description\": \"\"\n      }\n    },\n    {\n      \"column\": \"Customers\",\n      \"properties\": {\n        \"dtype\": \"number\",\n        \"std\": 0.012413831931415353,\n        \"min\": 0.0,\n        \"max\": 0.0648683330892481,\n        \"num_unique_values\": 1001,\n        \"samples\": [\n          0.03622491014624336,\n          0.03257124400954822,\n          0.03303313296110452\n        ],\n        \"semantic_type\": \"\",\n        \"description\": \"\"\n      }\n    },\n    {\n      \"column\": \"Customers Competitors\",\n      \"properties\": {\n        \"dtype\": \"number\",\n        \"std\": 0.10053866225236598,\n        \"min\": 0.0,\n        \"max\": 0.34588234646660587,\n        \"num_unique_values\": 1001,\n        \"samples\": [\n          0.338311233609193,\n          0.34580524645197513,\n          0.34489090927523103\n        ],\n        \"semantic_type\": \"\",\n        \"description\": \"\"\n      }\n    },\n    {\n      \"column\": \"change_potential\",\n      \"properties\": {\n        \"dtype\": \"number\",\n        \"std\": 0.000550284041444967,\n        \"min\": 4.93023266989745e-07,\n        \"max\": 0.0015958223030816399,\n        \"num_unique_values\": 1000,\n        \"samples\": [\n          3.610232972706129e-05,\n          4.982587435975461e-06,\n          4.8512198947969765e-06\n        ],\n        \"semantic_type\": \"\",\n        \"description\": \"\"\n      }\n    },\n    {\n      \"column\": \"change_customers\",\n      \"properties\": {\n        \"dtype\": \"number\",\n        \"std\": 0.0001503803414071312,\n        \"min\": 5.086647186167137e-07,\n        \"max\": 0.0005566545124056285,\n        \"num_unique_values\": 1000,\n        \"samples\": [\n          3.169478457554914e-05,\n          5.035354026190764e-06,\n          4.9056409745090734e-06\n        ],\n        \"semantic_type\": \"\",\n        \"description\": \"\"\n      }\n    },\n    {\n      \"column\": \"change_competitors\",\n      \"properties\": {\n        \"dtype\": \"number\",\n        \"std\": 0.0004406364011350054,\n        \"min\": 1.0016879856133976e-06,\n        \"max\": 0.0012934579983101824,\n        \"num_unique_values\": 1000,\n        \"samples\": [\n          6.779711430260349e-05,\n          1.0017941462214797e-05,\n          9.756860869292172e-06\n        ],\n        \"semantic_type\": \"\",\n        \"description\": \"\"\n      }\n    }\n  ]\n}"
            }
          },
          "metadata": {},
          "execution_count": 49
        }
      ]
    },
    {
      "cell_type": "markdown",
      "source": [
        "**В качестве порогового значения для оценки сходимости берется значение строгой сходимости, для оценки cходимости модели используется MAE**"
      ],
      "metadata": {
        "id": "AAiGHR_tF8VQ"
      },
      "id": "AAiGHR_tF8VQ"
    },
    {
      "cell_type": "code",
      "source": [
        "import numpy as np\n",
        "import pandas as pd\n",
        "def calculate_absolute_error(data: np.ndarray, reference_value: float) -> float:\n",
        "    return np.abs(data - reference_value).mean()\n",
        "threshold_value = 1e-6\n",
        "normalized_data['MAE_Customers'] = normalized_data['change_customers'].rolling(window=10, min_periods=1).apply(\n",
        "    calculate_absolute_error, args=(threshold_value,), raw=True\n",
        ")\n",
        "normalized_data['MAE_Competitors'] = normalized_data['change_competitors'].rolling(window=10, min_periods=1).apply(\n",
        "    calculate_absolute_error, args=(threshold_value,), raw=True\n",
        ")\n",
        "normalized_data['Customers_Converged'] = normalized_data['MAE_Customers'].apply(lambda x: x < 1e-6)\n",
        "normalized_data['Competitors_Converged'] = normalized_data['MAE_Competitors'].apply(lambda x: x < 1e-6)"
      ],
      "metadata": {
        "id": "Vnd-JIf0kT6h"
      },
      "id": "Vnd-JIf0kT6h",
      "execution_count": 50,
      "outputs": []
    },
    {
      "cell_type": "markdown",
      "source": [
        "**Посмотрим на сходимость метрики MAE.**"
      ],
      "metadata": {
        "id": "_SbYN0BciiN5"
      },
      "id": "_SbYN0BciiN5"
    },
    {
      "cell_type": "code",
      "source": [
        "import plotly.graph_objects as go\n",
        "from plotly.subplots import make_subplots\n",
        "\n",
        "if normalized_data['Customers'].empty or normalized_data['Customers Competitors'].empty:\n",
        "    print(\"Error: No data available for Customers or Competitors.\")\n",
        "else:\n",
        "    final_customers = normalized_data['Customers'].iloc[-1]\n",
        "    final_competitors = normalized_data['Customers Competitors'].iloc[-1]\n",
        "    if pd.isna(final_customers) or pd.isna(final_competitors):\n",
        "        print(\"Error: Final values are NaN.\")\n",
        "    else:\n",
        "        print(f'Доли рынка после сходимости составляют Customers: {final_customers:.3f} и Competitors: {final_competitors:.3f}.' )\n",
        "\n",
        "# Создаем фигуру с двумя осями Y\n",
        "fig = make_subplots(specs=[[{\"secondary_y\": True}]])\n",
        "\n",
        "# Добавляем график для клиентов\n",
        "fig.add_trace(\n",
        "    go.Scatter(\n",
        "        x=normalized_data.index,\n",
        "        y=normalized_data[\"Customers\"],\n",
        "        name=\"Our Customers\",\n",
        "        line=dict(color=\"purple\", dash=\"dash\"),\n",
        "        opacity=0.7,\n",
        "    ),\n",
        "    secondary_y=False,\n",
        ")\n",
        "\n",
        "# Добавляем график для клиентов конкурентов\n",
        "fig.add_trace(\n",
        "    go.Scatter(\n",
        "        x=normalized_data.index,\n",
        "        y=normalized_data[\"Customers Competitors\"],\n",
        "        name=\"Competitors' Customers\",\n",
        "        line=dict(color=\"blue\", dash=\"dash\"),\n",
        "        opacity=0.7,\n",
        "    ),\n",
        "    secondary_y=False,\n",
        ")\n",
        "\n",
        "# Добавляем scatter-график для MAE клиентов\n",
        "fig.add_trace(\n",
        "    go.Scatter(\n",
        "        x=normalized_data.index,\n",
        "        y=normalized_data[\"MAE_Customers\"],\n",
        "        name=\"Customer MAE\",\n",
        "        mode=\"markers\",\n",
        "        marker=dict(\n",
        "            color=normalized_data[\"Customers_Converged\"].map({False: \"red\", True: \"green\"}),\n",
        "            size=8,\n",
        "            symbol=\"x\",\n",
        "        ),\n",
        "    ),\n",
        "    secondary_y=True,\n",
        ")\n",
        "\n",
        "# Настройка осей и заголовка\n",
        "fig.update_layout(\n",
        "    title=\"Сходимость по MAE\",\n",
        "    xaxis_title=\"Шаг\",\n",
        "    yaxis_title=\"Количество Клиентв\",\n",
        "    yaxis2_title=\"Customer MAE\",\n",
        "    legend=dict(x=0.02, y=0.98),\n",
        "    template=\"plotly_white\",\n",
        ")\n",
        "\n",
        "# Отображение графика\n",
        "fig.show()"
      ],
      "metadata": {
        "colab": {
          "base_uri": "https://localhost:8080/",
          "height": 560
        },
        "id": "wUck99uPJieh",
        "outputId": "80625527-0735-4bda-fef4-e362c3d93c82"
      },
      "id": "wUck99uPJieh",
      "execution_count": 51,
      "outputs": [
        {
          "output_type": "stream",
          "name": "stdout",
          "text": [
            "Доли рынка после сходимости составляют Customers: 0.033 и Competitors: 0.346.\n"
          ]
        },
        {
          "output_type": "display_data",
          "data": {
            "text/html": [
              "<html>\n",
              "<head><meta charset=\"utf-8\" /></head>\n",
              "<body>\n",
              "    <div>            <script src=\"https://cdnjs.cloudflare.com/ajax/libs/mathjax/2.7.5/MathJax.js?config=TeX-AMS-MML_SVG\"></script><script type=\"text/javascript\">if (window.MathJax && window.MathJax.Hub && window.MathJax.Hub.Config) {window.MathJax.Hub.Config({SVG: {font: \"STIX-Web\"}});}</script>                <script type=\"text/javascript\">window.PlotlyConfig = {MathJaxConfig: 'local'};</script>\n",
              "        <script charset=\"utf-8\" src=\"https://cdn.plot.ly/plotly-2.35.2.min.js\"></script>                <div id=\"c306ed93-bb00-44fe-b32d-f394adffc637\" class=\"plotly-graph-div\" style=\"height:525px; width:100%;\"></div>            <script type=\"text/javascript\">                                    window.PLOTLYENV=window.PLOTLYENV || {};                                    if (document.getElementById(\"c306ed93-bb00-44fe-b32d-f394adffc637\")) {                    Plotly.newPlot(                        \"c306ed93-bb00-44fe-b32d-f394adffc637\",                        [{\"line\":{\"color\":\"purple\",\"dash\":\"dash\"},\"name\":\"Our Customers\",\"opacity\":0.7,\"x\":[0.0,0.5,1.0,1.5,2.0,2.5,3.0,3.5,4.0,4.5,5.0,5.5,6.0,6.5,7.0,7.5,8.0,8.5,9.0,9.5,10.0,10.5,11.0,11.5,12.0,12.5,13.0,13.5,14.0,14.5,15.0,15.5,16.0,16.5,17.0,17.5,18.0,18.5,19.0,19.5,20.0,20.5,21.0,21.5,22.0,22.5,23.0,23.5,24.0,24.5,25.0,25.5,26.0,26.5,27.0,27.5,28.0,28.5,29.0,29.5,30.0,30.5,31.0,31.5,32.0,32.5,33.0,33.5,34.0,34.5,35.0,35.5,36.0,36.5,37.0,37.5,38.0,38.5,39.0,39.5,40.0,40.5,41.0,41.5,42.0,42.5,43.0,43.5,44.0,44.5,45.0,45.5,46.0,46.5,47.0,47.5,48.0,48.5,49.0,49.5,50.0,50.5,51.0,51.5,52.0,52.5,53.0,53.5,54.0,54.5,55.0,55.5,56.0,56.5,57.0,57.5,58.0,58.5,59.0,59.5,60.0,60.5,61.0,61.5,62.0,62.5,63.0,63.5,64.0,64.5,65.0,65.5,66.0,66.5,67.0,67.5,68.0,68.5,69.0,69.5,70.0,70.5,71.0,71.5,72.0,72.5,73.0,73.5,74.0,74.5,75.0,75.5,76.0,76.5,77.0,77.5,78.0,78.5,79.0,79.5,80.0,80.5,81.0,81.5,82.0,82.5,83.0,83.5,84.0,84.5,85.0,85.5,86.0,86.5,87.0,87.5,88.0,88.5,89.0,89.5,90.0,90.5,91.0,91.5,92.0,92.5,93.0,93.5,94.0,94.5,95.0,95.5,96.0,96.5,97.0,97.5,98.0,98.5,99.0,99.5,100.0,100.5,101.0,101.5,102.0,102.5,103.0,103.5,104.0,104.5,105.0,105.5,106.0,106.5,107.0,107.5,108.0,108.5,109.0,109.5,110.0,110.5,111.0,111.5,112.0,112.5,113.0,113.5,114.0,114.5,115.0,115.5,116.0,116.5,117.0,117.5,118.0,118.5,119.0,119.5,120.0,120.5,121.0,121.5,122.0,122.5,123.0,123.5,124.0,124.5,125.0,125.5,126.0,126.5,127.0,127.5,128.0,128.5,129.0,129.5,130.0,130.5,131.0,131.5,132.0,132.5,133.0,133.5,134.0,134.5,135.0,135.5,136.0,136.5,137.0,137.5,138.0,138.5,139.0,139.5,140.0,140.5,141.0,141.5,142.0,142.5,143.0,143.5,144.0,144.5,145.0,145.5,146.0,146.5,147.0,147.5,148.0,148.5,149.0,149.5,150.0,150.5,151.0,151.5,152.0,152.5,153.0,153.5,154.0,154.5,155.0,155.5,156.0,156.5,157.0,157.5,158.0,158.5,159.0,159.5,160.0,160.5,161.0,161.5,162.0,162.5,163.0,163.5,164.0,164.5,165.0,165.5,166.0,166.5,167.0,167.5,168.0,168.5,169.0,169.5,170.0,170.5,171.0,171.5,172.0,172.5,173.0,173.5,174.0,174.5,175.0,175.5,176.0,176.5,177.0,177.5,178.0,178.5,179.0,179.5,180.0,180.5,181.0,181.5,182.0,182.5,183.0,183.5,184.0,184.5,185.0,185.5,186.0,186.5,187.0,187.5,188.0,188.5,189.0,189.5,190.0,190.5,191.0,191.5,192.0,192.5,193.0,193.5,194.0,194.5,195.0,195.5,196.0,196.5,197.0,197.5,198.0,198.5,199.0,199.5,200.0,200.5,201.0,201.5,202.0,202.5,203.0,203.5,204.0,204.5,205.0,205.5,206.0,206.5,207.0,207.5,208.0,208.5,209.0,209.5,210.0,210.5,211.0,211.5,212.0,212.5,213.0,213.5,214.0,214.5,215.0,215.5,216.0,216.5,217.0,217.5,218.0,218.5,219.0,219.5,220.0,220.5,221.0,221.5,222.0,222.5,223.0,223.5,224.0,224.5,225.0,225.5,226.0,226.5,227.0,227.5,228.0,228.5,229.0,229.5,230.0,230.5,231.0,231.5,232.0,232.5,233.0,233.5,234.0,234.5,235.0,235.5,236.0,236.5,237.0,237.5,238.0,238.5,239.0,239.5,240.0,240.5,241.0,241.5,242.0,242.5,243.0,243.5,244.0,244.5,245.0,245.5,246.0,246.5,247.0,247.5,248.0,248.5,249.0,249.5,250.0,250.5,251.0,251.5,252.0,252.5,253.0,253.5,254.0,254.5,255.0,255.5,256.0,256.5,257.0,257.5,258.0,258.5,259.0,259.5,260.0,260.5,261.0,261.5,262.0,262.5,263.0,263.5,264.0,264.5,265.0,265.5,266.0,266.5,267.0,267.5,268.0,268.5,269.0,269.5,270.0,270.5,271.0,271.5,272.0,272.5,273.0,273.5,274.0,274.5,275.0,275.5,276.0,276.5,277.0,277.5,278.0,278.5,279.0,279.5,280.0,280.5,281.0,281.5,282.0,282.5,283.0,283.5,284.0,284.5,285.0,285.5,286.0,286.5,287.0,287.5,288.0,288.5,289.0,289.5,290.0,290.5,291.0,291.5,292.0,292.5,293.0,293.5,294.0,294.5,295.0,295.5,296.0,296.5,297.0,297.5,298.0,298.5,299.0,299.5,300.0,300.5,301.0,301.5,302.0,302.5,303.0,303.5,304.0,304.5,305.0,305.5,306.0,306.5,307.0,307.5,308.0,308.5,309.0,309.5,310.0,310.5,311.0,311.5,312.0,312.5,313.0,313.5,314.0,314.5,315.0,315.5,316.0,316.5,317.0,317.5,318.0,318.5,319.0,319.5,320.0,320.5,321.0,321.5,322.0,322.5,323.0,323.5,324.0,324.5,325.0,325.5,326.0,326.5,327.0,327.5,328.0,328.5,329.0,329.5,330.0,330.5,331.0,331.5,332.0,332.5,333.0,333.5,334.0,334.5,335.0,335.5,336.0,336.5,337.0,337.5,338.0,338.5,339.0,339.5,340.0,340.5,341.0,341.5,342.0,342.5,343.0,343.5,344.0,344.5,345.0,345.5,346.0,346.5,347.0,347.5,348.0,348.5,349.0,349.5,350.0,350.5,351.0,351.5,352.0,352.5,353.0,353.5,354.0,354.5,355.0,355.5,356.0,356.5,357.0,357.5,358.0,358.5,359.0,359.5,360.0,360.5,361.0,361.5,362.0,362.5,363.0,363.5,364.0,364.5,365.0,365.5,366.0,366.5,367.0,367.5,368.0,368.5,369.0,369.5,370.0,370.5,371.0,371.5,372.0,372.5,373.0,373.5,374.0,374.5,375.0,375.5,376.0,376.5,377.0,377.5,378.0,378.5,379.0,379.5,380.0,380.5,381.0,381.5,382.0,382.5,383.0,383.5,384.0,384.5,385.0,385.5,386.0,386.5,387.0,387.5,388.0,388.5,389.0,389.5,390.0,390.5,391.0,391.5,392.0,392.5,393.0,393.5,394.0,394.5,395.0,395.5,396.0,396.5,397.0,397.5,398.0,398.5,399.0,399.5,400.0,400.5,401.0,401.5,402.0,402.5,403.0,403.5,404.0,404.5,405.0,405.5,406.0,406.5,407.0,407.5,408.0,408.5,409.0,409.5,410.0,410.5,411.0,411.5,412.0,412.5,413.0,413.5,414.0,414.5,415.0,415.5,416.0,416.5,417.0,417.5,418.0,418.5,419.0,419.5,420.0,420.5,421.0,421.5,422.0,422.5,423.0,423.5,424.0,424.5,425.0,425.5,426.0,426.5,427.0,427.5,428.0,428.5,429.0,429.5,430.0,430.5,431.0,431.5,432.0,432.5,433.0,433.5,434.0,434.5,435.0,435.5,436.0,436.5,437.0,437.5,438.0,438.5,439.0,439.5,440.0,440.5,441.0,441.5,442.0,442.5,443.0,443.5,444.0,444.5,445.0,445.5,446.0,446.5,447.0,447.5,448.0,448.5,449.0,449.5,450.0,450.5,451.0,451.5,452.0,452.5,453.0,453.5,454.0,454.5,455.0,455.5,456.0,456.5,457.0,457.5,458.0,458.5,459.0,459.5,460.0,460.5,461.0,461.5,462.0,462.5,463.0,463.5,464.0,464.5,465.0,465.5,466.0,466.5,467.0,467.5,468.0,468.5,469.0,469.5,470.0,470.5,471.0,471.5,472.0,472.5,473.0,473.5,474.0,474.5,475.0,475.5,476.0,476.5,477.0,477.5,478.0,478.5,479.0,479.5,480.0,480.5,481.0,481.5,482.0,482.5,483.0,483.5,484.0,484.5,485.0,485.5,486.0,486.5,487.0,487.5,488.0,488.5,489.0,489.5,490.0,490.5,491.0,491.5,492.0,492.5,493.0,493.5,494.0,494.5,495.0,495.5,496.0,496.5,497.0,497.5,498.0,498.5,499.0,499.5,500.0],\"y\":[0.0,0.00055,0.0011007503878644601,0.0016522092874689776,0.0022043342078801264,0.0027570820470536116,0.003310409095899325,0.00386427104271925,0.004418622978023976,0.004973419399733409,0.005528614218767036,0.0060841607650288804,0.006640011793792084,0.007196119492487762,0.007752435487902552,0.008308910853788981,0.008865496118892507,0.009422141275398793,0.009978795787804421,0.010535408602214011,0.011091928156066256,0.011648302388291149,0.012204478749900233,0.012760404215011354,0.013316025292309023,0.013871288036941066,0.014426138062851835,0.01498052055555185,0.015534380285323257,0.016087661620860096,0.016640308543341874,0.017192264660938473,0.017743473223743984,0.01829387713913652,0.01884341898756057,0.019392041038728026,0.019939685268233396,0.02048629337457825,0.021031806796599467,0.021576166731295227,0.02211931415204221,0.022661189827196983,0.02320173433907384,0.023740888103291075,0.024278591388476826,0.024814784336325356,0.025349406981993925,0.02588239927482988,0.026413701099417125,0.026943252296930533,0.02747099268678632,0.027996862088575932,0.02852080034427041,0.02904274734068171,0.02956264303216695,0.030080427463561082,0.030596040793322947,0.0311094233168792,0.03162051549015024,0.03212925795324162,0.032635591554284235,0.03313945737340594,0.03364079674681699,0.03413955129099124,0.03463566292692474,0.03512907390445297,0.03561972682660758,0.036107564673993404,0.03659253082916599,0.03707456910098975,0.03755362374895668,0.03802963950744519,0.038502561609898636,0.03897233581290289,0.039438908420142,0.03990222630621125,0.04036223694026652,0.04081888840948903,0.041272129442344416,0.04172190943161518,0.042168178457185596,0.0426108873085581,0.04304998750708067,0.04348543132786434,0.04391717182137059,0.04434516283464835,0.04476935903220071,0.045189715916461426,0.045606189847862126,0.04601873806447086,0.04642731870118352,0.046831890808449524,0.04723241437051417,0.04762885032315996,0.04802116057093003,0.04840930800381722,0.04879325651340274,0.049172971008429156,0.04954841742979285,0.04991956276494171,0.05028637506166453,0.0506488234412592,0.05100687811106739,0.05136051037636423,0.051709692651592094,0.05205439847092844,0.052394602498178185,0.052730280535982194,0.05306140953433388,0.053387967598396965,0.05370993399561805,0.054027289162128574,0.05434001470843154,0.054648093424369125,0.05495150928336816,0.05525024744596132,0.055544294262582714,0.05583363727563718,0.0561182652208437,0.056398168027854106,0.056673336820148815,0.05694376391421244,0.05720944281799289,0.05747036822864812,0.05772653602958585,0.05797794328680195,0.05822458824452431,0.058466470320169536,0.0587035900986205,0.05893594932583379,0.05916355090178643,0.059386398872772125,0.05960449842305795,0.059817855865912935,0.06002647863402066,0.06023037526928864,0.06042955541206765,0.06062402978979489,0.06081381020507537,0.060998909523216134,0.061179341659228836,0.061355121564316266,0.06152626521185894,0.0616927895829183,0.06185471265127346,0.06201205336800846,0.06216483164566781,0.06231306834199776,0.06245678524329158,0.0625960050473568,0.06273075134612292,0.06286104860790813,0.06298692215936355,0.06310839816711394,0.06322550361911346,0.06333826630573564,0.06344671480061609,0.06355087844126703,0.06365078730948237,0.06374647221155218,0.06383796465830502,0.0639252968449969,0.06400850163106511,0.06408761251976529,0.06416266363770962,0.06423368971432433,0.06430072606124372,0.06436380855165846,0.06442297359963513,0.06447825813942375,0.06452969960477017,0.06457733590824917,0.0646212054206344,0.06466134695032076,0.06469779972281413,0.06473060336030374,0.06475979786133115,0.06478542358057023,0.06480752120873161,0.06482613175260503,0.06484129651525214,0.06485305707636241,0.06486145527278396,0.06486653317924086,0.0648683330892481,0.06486689749623459,0.06486226907488478,0.06485449066270825,0.0648436052418468,0.06482965592112783,0.06481268591837222,0.06479273854296506,0.06476985717869613,0.06474408526687771,0.064715466289746,0.06468404375415243,0.06464986117555044,0.06461296206228324,0.06457338990017726,0.06453118813744574,0.06448640016990649,0.0644390693265176,0.06438923885523408,0.06433695190918838,0.06428225153319732,0.06422518065059743,0.06416578205041029,0.06410409837483949,0.06404017210709995,0.06397404555958039,0.06390576086233936,0.06383535995193455,0.0637628845605855,0.0636883762056687,0.06361187617954447,0.06353342553971439,0.06345306509930765,0.06337083541789497,0.0632867767926278,0.06320092924970085,0.06311333253613537,0.06302402611188065,0.06293304914223087,0.06284044049055422,0.06274623871133106,0.06265048204349781,0.06255320840409283,0.062454455382200694,0.0623542602331909,0.06225265987324695,0.06214969087418176,0.06204538945853506,0.06193979149494827,0.06183293249381262,0.06172484760318569,0.061615571604971726,0.06150513891136116,0.06139358356152422,0.06128093921855393,0.061167239166653564,0.061052516308563384,0.06093680316322183,0.060820131863655945,0.06070253415509595,0.060584041393309,0.06046468454314667,0.060344494177301394,0.06022350047526644,0.06010173322249432,0.059979221809748635,0.059855995232643976,0.05973208209136905,0.059607510590587706,0.059482308539512904,0.059356503352148586,0.0592301220476944,0.059103191251108404,0.05897573719382269,0.0588477857146072,0.05871936226057679,0.0585904918883368,0.05846119926526243,0.058331508670907216,0.058201443998536016,0.05807102875677795,0.057940286071394814,0.057809238687160494,0.05767790896984719,0.05754631890831387,0.057414490116693105,0.05728244383667179,0.057150200939861936,0.05701778193025737,0.05688520694677258,0.05675249576585962,0.05661966780419958,0.05648674212146468,0.056353737423147525,0.05622067206345392,0.056087564048255774,0.055954431038100674,0.055821290351274956,0.05568815896691685,0.05555505352817665,0.055421990345420884,0.05528898539947729,0.055156054344917896,0.05502321251337722,0.05489047491690282,0.05475785625133557,0.054625370899716946,0.05449303293572086,0.05436085612710746,0.05422885393919663,0.0540970395383587,0.053965425795520175,0.053834025289682425,0.053702850311450855,0.05357191286657294,0.05344122467948276,0.05331079719685033,0.0531806415911338,0.05305076876413273,0.05292118935054067,0.05279191372149548,0.05266295198812559,0.05253431400509091,0.052406009374116665,0.052278047447518794,0.05215043733171961,0.0520231878907523,0.05189630774975296,0.05176980529843916,0.051643688694573565,0.05151796586741175,0.051392644521132985,0.05126773213825309,0.05114323598301824,0.051019163104778935,0.050895520341343196,0.05077231432230811,0.050649551472368964,0.05052723801460526,0.05040537997374274,0.050283983179390986,0.05016305326925572,0.0500425956923253,0.04992261571203091,0.049803118409379815,0.0496841086860612,0.049565591267524224,0.04944757070602769,0.049330051383661096,0.049213037515336566,0.049096533151751436,0.04898054218232109,0.04886506833808178,0.04875011519456323,0.04863568617463068,0.04852178455129627,0.04840841345049952,0.048295575853856736,0.04818327460137924,0.0480715123941603,0.04796029179703055,0.04784961524118207,0.04773948502676078,0.0476299033254273,0.04752087218288618,0.04741239352138351,0.04730446914217292,0.047197100727949956,0.047090289845254936,0.046984037946844345,0.04687834637403072,0.04677321635899124,0.04666864902704513,0.04656464539889978,0.04646120639286598,0.04635833282704216,0.04625602542146795,0.04615428480024709,0.046053111493639914,0.045952505940125565,0.04585246848843406,0.045752999399548536,0.045654098848677674,0.04555576692719868,0.045458003644570914,0.04536080893022042,0.04526418263539556,0.045168124534994074,0.04507263432936161,0.044977711646062124,0.04488335604162034,0.044789567003236455,0.044696343950473456,0.044603686236917205,0.044511593151809546,0.04442006392165482,0.044329097711799825,0.04423869362798774,0.044148850717886115,0.044059567972589204,0.04397084432809499,0.043882678666757144,0.043795069818712146,0.043708016563281875,0.04362151763035202,0.04353557170172643,0.04345017741245785,0.04336533335215519,0.04328103806626767,0.04319729005734615,0.043114087786281806,0.04303142967352264,0.042949314100267845,0.04286773940964049,0.04278670390783874,0.04270620586526592,0.04262624351763965,0.04254681506708035,0.0424679186831794,0.042389552504047245,0.04231171463734162,0.04223440316127635,0.04215761612561081,0.0420813515526204,0.042005607438048306,0.0419303817520388,0.04185567244005231,0.04178147742376263,0.04170779460193631,0.04163462185129483,0.041561957027359424,0.04148979796527906,0.04141814248064184,0.04134698837026987,0.04127633341299809,0.041206175370437075,0.04113651198772028,0.04106734099423577,0.040998660104342846,0.04093046701807363,0.040862759421820036,0.040795534989006156,0.04072879138074646,0.040662526246489986,0.040596737224650646,0.040531421943224046,0.040466578020390886,0.04040220306510727,0.04033829467768205,0.040274850450341494,0.0402118679677814,0.04014934480770704,0.04008727854136083,0.040025666734038304,0.039964506945592296,0.039903796730925666,0.03984353364047273,0.039783715220669626,0.03972433901441376,0.039665402561512485,0.03960690339912136,0.03954883906217196,0.03949120708378955,0.039434004995700864,0.03937723032863189,0.03932088061269621,0.03926495337777375,0.03920944615388029,0.03915435647152785,0.03909968186207607,0.03904541985807483,0.03899156799359823,0.03893812380457005,0.038885084829080936,0.03883244860769735,0.03878021268376255,0.03872837460368967,0.03867693191724708,0.038625882177836156,0.03857522294276159,0.03852495177349447,0.038475066235928106,0.03842556390062687,0.03837644234306817,0.03832769914387761,0.03827933188905756,0.0382313381702092,0.03818371558474816,0.038136461736114,0.038089574233973425,0.03804305069441759,0.03799688874015348,0.037951086000689485,0.03790564011251535,0.03786054871927653,0.03781580947194315,0.037771420028973615,0.03772737805647296,0.03768368122834614,0.03764032722644626,0.03759731374071789,0.037554638469335606,0.037512299118837765,0.03747029340425569,0.037428619049238325,0.03738727378617244,0.037346255356298555,0.037305561509822525,0.03726519000602308,0.03722513861335516,0.03718540510954939,0.037145987281707565,0.03710688292639439,0.0370680898497254,0.0370296058674513,0.036991428805038674,0.036953556497747224,0.0369159867907036,0.036878717538971796,0.0368417466076204,0.03680507187178652,0.03676869121673665,0.03673260253792444,0.036696803741045475,0.03666129274208915,0.036626067467387655,0.03659112585366213,0.03655646584806619,0.03652208540822667,0.036487982502281816,0.0364541551089169,0.03642060121739737,0.03638731882759953,0.0363543059500389,0.03632156060589617,0.03628908082704098,0.036256864656053406,0.03622491014624336,0.03619321536166781,0.036161778377145994,0.036130597278272614,0.03609967016142908,0.036068995133792775,0.0360385703133446,0.03600839382887452,0.035978463819985505,0.03594877843709563,0.03591933584143856,0.035890134205062325,0.035861171710826575,0.03583244655239821,0.03580395693424554,0.03577570107163093,0.035747677190602026,0.035719883527981576,0.03569231833135589,0.03566497985906195,0.035637866380173265,0.03561097617448443,0.03558430753249451,0.03555785875538917,0.035531628155021734,0.035505614053893,0.035479814785130126,0.03545422869246429,0.03542885413020746,0.03540368946322803,0.03537873306692561,0.03535398332720483,0.03532943864044814,0.03530509741348789,0.035280958063577415,0.035257019018361355,0.035233278715845126,0.03520973560436366,0.035186388142549346,0.03516323479929923,0.03514027405374156,0.03511750439520159,0.035094924323166764,0.0350725323472512,0.03505032698715963,0.035028306772650696,0.03500647024349968,0.03498481594946066,0.03496334245022816,0.03494204831539828,0.034920932124429316,0.03489999246660187,0.03487922794097859,0.034858637156363385,0.03483821873126022,0.03481797129383158,0.03479789348185643,0.03477798394268792,0.034758241333210614,0.034738664319797476,0.03471925157826648,0.03470000179383693,0.0346809136610854,0.03466198588390157,0.03464321717544359,0.03462460625809332,0.03460615186341129,0.03458785273209144,0.03456970761391562,0.03455171526770788,0.03453387446128866,0.03451618397142866,0.03449864258380264,0.03448124909294307,0.034464002302193535,0.03444690102366214,0.03442994407817468,0.03441313029522776,0.0343964585129418,0.03437992757801389,0.03436353634567071,0.03434728367962116,0.0343311684520091,0.034315189543365994,0.03429934584256344,0.034283636246765704,0.034268059661382286,0.034252615000020324,0.03423730118443711,0.03422211714449253,0.03420706181810155,0.03419213415118662,0.03417733309763021,0.0341626576192273,0.0341481066856379,0.03413367927433959,0.03411937437058018,0.0341051909673303,0.03409112806523614,0.03407718467257219,0.03406335980519408,0.03404965248649148,0.03403606174734103,0.03402258662605945,0.034009226168356624,0.03399597942728886,0.0339828454632122,0.03396982334373584,0.03395691214367565,0.03394411094500781,0.03393141883682259,0.03391883491527816,0.03390635828355462,0.03389398805180808,0.03388172333712492,0.03386956326347617,0.03385750696167198,0.03384555356931631,0.03383370223076168,0.033821952097064144,0.03381030232593835,0.0337987520817128,0.0337873005352852,0.03377594686407803,0.0337646902519943,0.033753529889373336,0.03374246497294689,0.0337314947057953,0.0337206182973039,0.03370983496311952,0.0336991439251073,0.033688544411307454,0.03367803565589249,0.03366761689912436,0.03365728738731197,0.03364704637276877,0.03363689311377054,0.03362682687451349,0.033616846925072316,0.03360695254135868,0.033597143005079724,0.03358741760369685,0.03357777563038469,0.033568216383990226,0.033558739168992185,0.03354934329546053,0.033540028079016286,0.0335307928407914,0.03352163690738894,0.03351255961084345,0.033503560288581466,0.033494638283382304,0.033485792943339004,0.0334770236218195,0.033468329677427994,0.033459710473966495,0.03345116538039667,0.03344269377080178,0.03343429502434887,0.033425968525251225,0.03341771366273093,0.033409529830981693,0.033401416429131935,0.03339337286120794,0.033385398536097365,0.03337749286751286,0.033369655273955974,0.03336188517868117,0.03335418200966016,0.03334654519954637,0.033338974185639664,0.03333146840985123,0.03332402731866872,0.03331665036312158,0.033309336998746567,0.033302086685553525,0.03329489888799134,0.03328777307491406,0.03328070871954734,0.03327370529945496,0.033266762296505666,0.0332598791968401,0.03325305549083807,0.033246290673085925,0.03323958424234417,0.033232935701515295,0.033226344557611795,0.03321981032172441,0.033213332508990556,0.03320691063856295,0.03320054423357848,0.03319423282112723,0.03318797593222173,0.03318177310176642,0.033175623868527265,0.03316952777510166,0.033163484367888435,0.03315749319705811,0.03315155381652338,0.03314566578390971,0.03313982866052623,0.033134042011336726,0.033128305404930926,0.03312261841349589,0.03311698061278766,0.03311139158210307,0.03310585090425177,0.03310035816552842,0.03309491295568509,0.03308951486790386,0.03308416349876957,0.033078858448242814,0.03307359931963309,0.033068385719572144,0.03306321725798747,0.03305809354807608,0.03305301420627836,0.03304797885225217,0.03304298710884712,0.03303803860207903,0.03303313296110452,0.033028269818195885,0.03302344880871603,0.03301866957109369,0.03301393174679875,0.03300923498031781,0.033004578919129855,0.03299996321368215,0.0329953875173663,0.03299085148649448,0.032986354780275826,0.03298189706079303,0.03297747799297909,0.0329730972445942,0.032968754486202845,0.03296444939115107,0.03296018163554391,0.03295595089822293,0.03295175686074405,0.03294759920735542,0.03294347762497549,0.0329393918031713,0.03293534143413687,0.032931326212671766,0.032927345836159826,0.032923400004548055,0.032919488420325695,0.03291561078850338,0.032911766816592546,0.03290795621458493,0.032904178694932236,0.03290043397252598,0.032896721764677436,0.032893041791097796,0.03288939377387846,0.032885777437471425,0.0328821925086699,0.03287863871658905,0.03287511579264681,0.03287162347054498,0.03286816148625035,0.03286472957797604,0.03286132748616291,0.03285795495346123,0.032854611724712345,0.03285129754693063,0.03284801216928545,0.032844755343083384,0.032841526821750455,0.03283832636081463,0.03283515371788835,0.032832008652651276,0.03282889092683309,0.03282580030419652,0.032822736550520405,0.03281969943358299,0.032816688723145235,0.03281370419093438,0.03281074561062756,0.03280781275783552,0.032804905410086606,0.03280202334681066,0.03279916634932328,0.03279633420080999,0.0327935266863107,0.03279074359270417,0.032787984708692694,0.03278524982478684,0.03278253873329032,0.032779851228284994,0.03277718710561602,0.03277454616287704,0.03277192819939558,0.03276933301621849,0.03276676041609757,0.03276421020347523,0.032761682184470335,0.032759176166864135,0.03275669196008629,0.03275422937520105,0.03275178822489348,0.03274936832345592,0.032746969486774365,0.03274459153231513,0.032742234279111535,0.03273989754775071,0.03273758116036052,0.03273528494059657,0.032733008713629344,0.03273075230613144,0.032728515546264894,0.032726298263668616,0.03272410028944594,0.03272192145615223,0.03271976159778267,0.03271762054976006,0.03271549814892277,0.03271339423351278,0.0327113086431638,0.03270924121888952,0.032707191803071904,0.03270516023944963,0.032703146373106624,0.03270115005046063,0.03269917111925193,0.032697209428532145,0.03269526482865312,0.03269333717125589,0.032691426309259725,0.03268953209685137,0.032687654389474186,0.03268579304381755,0.03268394791780627,0.03268211887059007,0.03268030576253319,0.03267850845520409,0.0326767268113652,0.03267496069496275,0.03267320997111673,0.03267147450611091,0.03266975416738292,0.032668048823514435,0.03266635834422143,0.03266468260034454,0.032663021463839474,0.03266137480776751,0.03265974250628608,0.03265812443463944,0.03265652046914937,0.032654930487206,0.03265335436725876,0.03265179198880722,0.032650243232392254,0.03264870797958706,0.032647186112988426,0.0326456775162079,0.032644182073863215,0.032642699671569624,0.032641230195931424,0.03263977353453348,0.03263832957593284,0.03263689820965043,0.03263547932616284,0.0326340728168941,0.0326326785742076,0.03263129649139805,0.03262992646268352,0.03262856838319752,0.032627222148981165,0.03262588765697542,0.032624564805013356,0.03262325349181256,0.032621953616967514,0.032620665080942086,0.032619387785062105,0.032618121631507936,0.03261686652330718,0.032615622364327385,0.032614389059268875,0.03261316651365757,0.03261195463383791,0.032610753326965856,0.032609562501001894,0.03260838206470414,0.03260721192762149,0.03260605200008684,0.032604902193210314,0.032603762418872646,0.032602632589718517,0.03260151261915,0.03260040242132004,0.03259930191112603,0.03259821100420338,0.032597129616919185,0.032596057666365925,0.03259499507035524,0.03259394174741172,0.03259289761676679,0.03259186259835263,0.03259083661279612,0.03258981958141288,0.03258881142620135,0.03258781206983688,0.032586821435665936,0.03258583944770027,0.03258486603061127,0.03258390110972417,0.03258294461101253,0.03258199646109255,0.032581056587217605,0.032580124917272704,0.032579201379769086,0.032578285903838766,0.032577378419229246,0.03257647885629816,0.032575587146008035,0.03257470321992105,0.032573827010193894,0.032572958449572614,0.032572097471387534,0.03257124400954822,0.032570397998538475,0.03256955937341137,0.03256872806978435,0.032567904023834346,0.03256708717229296,0.032566277452441644,0.03256547480210699,0.032564679159655996,0.032563890463991385,0.03256310865454702,0.03256233367128327,0.032561565454682494,0.0325608039457445,0.03256004908598208,0.03255930081741661,0.03255855908257359,0.03255782382447833,0.03255709498665163,0.03255637251310547,0.03255565634833877,0.032554946437333185,0.03255424272554894,0.032553545158920644,0.03255285368385324,0.032552168247217905,0.03255148879634802,0.032550815279035174,0.032550147643525186,0.032549485838514185,0.03254882981314472,0.03254817951700186,0.03254753490010942,0.03254689591292608,0.03254626250634171,0.03254563463167356,0.032545012240662606,0.03254439528546985,0.03254378371867272,0.03254317749326139,0.03254257656263529,0.0325419808805995,0.03254139040136126,0.032540805079526475,0.03254022487009626,0.032539649728463516,0.03253907961040955,0.03253851447210066,0.032537954270084865,0.03253739896128853,0.03253684850301313,0.03253630285293198,0.032535761969086995,0.03253522580988553,0.032534694334097176,0.03253416750085064,0.03253364526963061,0.032533127600274686,0.032532614452970295,0.03253210578825168],\"type\":\"scatter\",\"xaxis\":\"x\",\"yaxis\":\"y\"},{\"line\":{\"color\":\"blue\",\"dash\":\"dash\"},\"name\":\"Competitors' Customers\",\"opacity\":0.7,\"x\":[0.0,0.5,1.0,1.5,2.0,2.5,3.0,3.5,4.0,4.5,5.0,5.5,6.0,6.5,7.0,7.5,8.0,8.5,9.0,9.5,10.0,10.5,11.0,11.5,12.0,12.5,13.0,13.5,14.0,14.5,15.0,15.5,16.0,16.5,17.0,17.5,18.0,18.5,19.0,19.5,20.0,20.5,21.0,21.5,22.0,22.5,23.0,23.5,24.0,24.5,25.0,25.5,26.0,26.5,27.0,27.5,28.0,28.5,29.0,29.5,30.0,30.5,31.0,31.5,32.0,32.5,33.0,33.5,34.0,34.5,35.0,35.5,36.0,36.5,37.0,37.5,38.0,38.5,39.0,39.5,40.0,40.5,41.0,41.5,42.0,42.5,43.0,43.5,44.0,44.5,45.0,45.5,46.0,46.5,47.0,47.5,48.0,48.5,49.0,49.5,50.0,50.5,51.0,51.5,52.0,52.5,53.0,53.5,54.0,54.5,55.0,55.5,56.0,56.5,57.0,57.5,58.0,58.5,59.0,59.5,60.0,60.5,61.0,61.5,62.0,62.5,63.0,63.5,64.0,64.5,65.0,65.5,66.0,66.5,67.0,67.5,68.0,68.5,69.0,69.5,70.0,70.5,71.0,71.5,72.0,72.5,73.0,73.5,74.0,74.5,75.0,75.5,76.0,76.5,77.0,77.5,78.0,78.5,79.0,79.5,80.0,80.5,81.0,81.5,82.0,82.5,83.0,83.5,84.0,84.5,85.0,85.5,86.0,86.5,87.0,87.5,88.0,88.5,89.0,89.5,90.0,90.5,91.0,91.5,92.0,92.5,93.0,93.5,94.0,94.5,95.0,95.5,96.0,96.5,97.0,97.5,98.0,98.5,99.0,99.5,100.0,100.5,101.0,101.5,102.0,102.5,103.0,103.5,104.0,104.5,105.0,105.5,106.0,106.5,107.0,107.5,108.0,108.5,109.0,109.5,110.0,110.5,111.0,111.5,112.0,112.5,113.0,113.5,114.0,114.5,115.0,115.5,116.0,116.5,117.0,117.5,118.0,118.5,119.0,119.5,120.0,120.5,121.0,121.5,122.0,122.5,123.0,123.5,124.0,124.5,125.0,125.5,126.0,126.5,127.0,127.5,128.0,128.5,129.0,129.5,130.0,130.5,131.0,131.5,132.0,132.5,133.0,133.5,134.0,134.5,135.0,135.5,136.0,136.5,137.0,137.5,138.0,138.5,139.0,139.5,140.0,140.5,141.0,141.5,142.0,142.5,143.0,143.5,144.0,144.5,145.0,145.5,146.0,146.5,147.0,147.5,148.0,148.5,149.0,149.5,150.0,150.5,151.0,151.5,152.0,152.5,153.0,153.5,154.0,154.5,155.0,155.5,156.0,156.5,157.0,157.5,158.0,158.5,159.0,159.5,160.0,160.5,161.0,161.5,162.0,162.5,163.0,163.5,164.0,164.5,165.0,165.5,166.0,166.5,167.0,167.5,168.0,168.5,169.0,169.5,170.0,170.5,171.0,171.5,172.0,172.5,173.0,173.5,174.0,174.5,175.0,175.5,176.0,176.5,177.0,177.5,178.0,178.5,179.0,179.5,180.0,180.5,181.0,181.5,182.0,182.5,183.0,183.5,184.0,184.5,185.0,185.5,186.0,186.5,187.0,187.5,188.0,188.5,189.0,189.5,190.0,190.5,191.0,191.5,192.0,192.5,193.0,193.5,194.0,194.5,195.0,195.5,196.0,196.5,197.0,197.5,198.0,198.5,199.0,199.5,200.0,200.5,201.0,201.5,202.0,202.5,203.0,203.5,204.0,204.5,205.0,205.5,206.0,206.5,207.0,207.5,208.0,208.5,209.0,209.5,210.0,210.5,211.0,211.5,212.0,212.5,213.0,213.5,214.0,214.5,215.0,215.5,216.0,216.5,217.0,217.5,218.0,218.5,219.0,219.5,220.0,220.5,221.0,221.5,222.0,222.5,223.0,223.5,224.0,224.5,225.0,225.5,226.0,226.5,227.0,227.5,228.0,228.5,229.0,229.5,230.0,230.5,231.0,231.5,232.0,232.5,233.0,233.5,234.0,234.5,235.0,235.5,236.0,236.5,237.0,237.5,238.0,238.5,239.0,239.5,240.0,240.5,241.0,241.5,242.0,242.5,243.0,243.5,244.0,244.5,245.0,245.5,246.0,246.5,247.0,247.5,248.0,248.5,249.0,249.5,250.0,250.5,251.0,251.5,252.0,252.5,253.0,253.5,254.0,254.5,255.0,255.5,256.0,256.5,257.0,257.5,258.0,258.5,259.0,259.5,260.0,260.5,261.0,261.5,262.0,262.5,263.0,263.5,264.0,264.5,265.0,265.5,266.0,266.5,267.0,267.5,268.0,268.5,269.0,269.5,270.0,270.5,271.0,271.5,272.0,272.5,273.0,273.5,274.0,274.5,275.0,275.5,276.0,276.5,277.0,277.5,278.0,278.5,279.0,279.5,280.0,280.5,281.0,281.5,282.0,282.5,283.0,283.5,284.0,284.5,285.0,285.5,286.0,286.5,287.0,287.5,288.0,288.5,289.0,289.5,290.0,290.5,291.0,291.5,292.0,292.5,293.0,293.5,294.0,294.5,295.0,295.5,296.0,296.5,297.0,297.5,298.0,298.5,299.0,299.5,300.0,300.5,301.0,301.5,302.0,302.5,303.0,303.5,304.0,304.5,305.0,305.5,306.0,306.5,307.0,307.5,308.0,308.5,309.0,309.5,310.0,310.5,311.0,311.5,312.0,312.5,313.0,313.5,314.0,314.5,315.0,315.5,316.0,316.5,317.0,317.5,318.0,318.5,319.0,319.5,320.0,320.5,321.0,321.5,322.0,322.5,323.0,323.5,324.0,324.5,325.0,325.5,326.0,326.5,327.0,327.5,328.0,328.5,329.0,329.5,330.0,330.5,331.0,331.5,332.0,332.5,333.0,333.5,334.0,334.5,335.0,335.5,336.0,336.5,337.0,337.5,338.0,338.5,339.0,339.5,340.0,340.5,341.0,341.5,342.0,342.5,343.0,343.5,344.0,344.5,345.0,345.5,346.0,346.5,347.0,347.5,348.0,348.5,349.0,349.5,350.0,350.5,351.0,351.5,352.0,352.5,353.0,353.5,354.0,354.5,355.0,355.5,356.0,356.5,357.0,357.5,358.0,358.5,359.0,359.5,360.0,360.5,361.0,361.5,362.0,362.5,363.0,363.5,364.0,364.5,365.0,365.5,366.0,366.5,367.0,367.5,368.0,368.5,369.0,369.5,370.0,370.5,371.0,371.5,372.0,372.5,373.0,373.5,374.0,374.5,375.0,375.5,376.0,376.5,377.0,377.5,378.0,378.5,379.0,379.5,380.0,380.5,381.0,381.5,382.0,382.5,383.0,383.5,384.0,384.5,385.0,385.5,386.0,386.5,387.0,387.5,388.0,388.5,389.0,389.5,390.0,390.5,391.0,391.5,392.0,392.5,393.0,393.5,394.0,394.5,395.0,395.5,396.0,396.5,397.0,397.5,398.0,398.5,399.0,399.5,400.0,400.5,401.0,401.5,402.0,402.5,403.0,403.5,404.0,404.5,405.0,405.5,406.0,406.5,407.0,407.5,408.0,408.5,409.0,409.5,410.0,410.5,411.0,411.5,412.0,412.5,413.0,413.5,414.0,414.5,415.0,415.5,416.0,416.5,417.0,417.5,418.0,418.5,419.0,419.5,420.0,420.5,421.0,421.5,422.0,422.5,423.0,423.5,424.0,424.5,425.0,425.5,426.0,426.5,427.0,427.5,428.0,428.5,429.0,429.5,430.0,430.5,431.0,431.5,432.0,432.5,433.0,433.5,434.0,434.5,435.0,435.5,436.0,436.5,437.0,437.5,438.0,438.5,439.0,439.5,440.0,440.5,441.0,441.5,442.0,442.5,443.0,443.5,444.0,444.5,445.0,445.5,446.0,446.5,447.0,447.5,448.0,448.5,449.0,449.5,450.0,450.5,451.0,451.5,452.0,452.5,453.0,453.5,454.0,454.5,455.0,455.5,456.0,456.5,457.0,457.5,458.0,458.5,459.0,459.5,460.0,460.5,461.0,461.5,462.0,462.5,463.0,463.5,464.0,464.5,465.0,465.5,466.0,466.5,467.0,467.5,468.0,468.5,469.0,469.5,470.0,470.5,471.0,471.5,472.0,472.5,473.0,473.5,474.0,474.5,475.0,475.5,476.0,476.5,477.0,477.5,478.0,478.5,479.0,479.5,480.0,480.5,481.0,481.5,482.0,482.5,483.0,483.5,484.0,484.5,485.0,485.5,486.0,486.5,487.0,487.5,488.0,488.5,489.0,489.5,490.0,490.5,491.0,491.5,492.0,492.5,493.0,493.5,494.0,494.5,495.0,495.5,496.0,496.5,497.0,497.5,498.0,498.5,499.0,499.5,500.0],\"y\":[0.0,0.00055,0.0011068613286740014,0.001670628076691675,0.002241343603739026,0.0028190505095527113,0.00340379060472753,0.003995604881312932,0.00459453348321504,0.00520061567642134,0.005813889819065843,0.006434393331353169,0.007062162665360673,0.007697233274738334,0.008339639584326812,0.008989414959714677,0.00964659167675646,0.010311200891073746,0.01098327260756221,0.011662835649928004,0.012349917630277528,0.013044544918785182,0.013746742613464216,0.014456534510066362,0.015173943072136395,0.015898989401248308,0.01663169320745024,0.01737207277994571,0.01812014495803919,0.01887592510237437,0.019639427066493926,0.020410663168749874,0.021189644164593888,0.02197637921927731,0.02277087588099077,0.02357314005447354,0.024383175975122923,0.02520098618363417,0.026026571501201398,0.02685993100531017,0.027701062006152303,0.028549960023693532,0.02940661876542453,0.03027103010482566,0.031143184060575813,0.032023068776535255,0.032910670502532324,0.03380597357598354,0.034708960404376196,0.035619611448642174,0.036537905207451406,0.037463818202452724,0.038397324964489374,0.03933839802081593,0.040287007883342586,0.041243123037932254,0.04220670993477504,0.043177732979863874,0.04415615452759441,0.04514193487451108,0.046135032254220686,0.04713540283349348,0.04814300070957105,0.04915777790869897,0.05017968438590117,0.05120866802601179,0.05224467464597927,0.05328764799845559,0.054337529776683186,0.055394259620689966,0.05645777512480178,0.05752801184648054,0.058604903316494275,0.05968838105042442,0.06077837456151388,0.061874811374857966,0.06297761704293883,0.06408671516250251,0.065202027392776,0.06632347347502017,0.06745097125341316,0.06858443669725661,0.06972378392449619,0.07086892522654561,0.07201977109440248,0.07317623024604177,0.07433820965507211,0.07550561458063777,0.07667834859854791,0.07785631363361313,0.07903940999316786,0.08022753640175526,0.08142059003695037,0.08261846656629533,0.08382106018531907,0.0850282636566128,0.08623996834993093,0.08745606428328588,0.08867644016500385,0.08990098343670742,0.09112958031718973,0.09236211584714372,0.0935984739347088,0.09483853740179642,0.09608218803115491,0.09732930661413297,0.09857977299910047,0.09983346614048433,0.1010902641483765,0.10235004433867033,0.10361268328368103,0.10487805686320573,0.10614604031597719,0.10741650829146611,0.10868933490198551,0.10996439377505116,0.11124155810595115,0.11252070071047846,0.11380169407777913,0.11508441042326996,0.11636872174157868,0.11765449985946014,0.11894161648864243,0.12022994327855677,0.1215193518689056,0.12280971394202364,0.12410090127498728,0.12539278579142787,0.12668523961300573,0.1279781351105017,0.12927134495448417,0.13056474216551023,0.1318582001638204,0.13315159281848765,0.1344447944959811,0.13573768010810816,0.13703012515929722,0.1383220057931859,0.13961319883848083,0.14090358185405474,0.14219303317325008,0.14348143194735719,0.1447686581882385,0.14605459281007002,0.14733911767017333,0.14862211560891253,0.14990347048863228,0.15118306723161365,0.1524607918570268,0.15373653151686048,0.15501017453080945,0.15628161042010333,0.15755072994026048,0.15881742511275326,0.16008158925557142,0.1613431170126724,0.1626019043823086,0.16385784874422268,0.16511084888570438,0.16636080502650205,0.16760761884258574,0.16885119348875724,0.17009143362010673,0.17132824541231453,0.17256153658079945,0.17379121639871511,0.17501719571379842,0.1762393869640738,0.17745770419241938,0.17867206306000186,0.17988238085858763,0.1810885765217397,0.18229057063490955,0.18348828544443604,0.18468164486546207,0.18587057448878302,0.18705500158663976,0.18823485511747157,0.18941006572964372,0.19058056576416654,0.19174628925642218,0.19290717193691723,0.19406315123107898,0.1952141662581144,0.19636015782895094,0.1975010684432793,0.19863684228571862,0.1997674252211246,0.20089276478906162,0.2020128101974615,0.20312751231548937,0.20423682366563978,0.20534069841508543,0.20643909236630084,0.20753196294698406,0.20861926919929935,0.209700971768464,0.21077703289070235,0.2118474163805903,0.21291208761781363,0.21397101353336326,0.21502416259519058,0.21607150479334625,0.21711301162462499,0.21814865607673983,0.2191784126120479,0.22020225715085104,0.2212201670542929,0.22223212110687524,0.22323809949861473,0.22423808380686253,0.2252320569778076,0.22622000330768471,0.22720190842370833,0.2281777592647524,0.22914754406179613,0.23011125231815593,0.231068874789522,0.2320204034638196,0.23296583154091244,0.23390515341216753,0.2348383646398981,0.23576546193670292,0.2366864431447182,0.23760130721479925,0.238510054185647,0.23941268516289635,0.24030920229818015,0.24119960876818444,0.24208390875370903,0.24296210741874708,0.2438342108895971,0.24470022623402096,0.24556016144045908,0.24641402539731647,0.24726182787232984,0.24810357949202788,0.2489392917212951,0.24976897684304925,0.25059264793804314,0.25141031886479903,0.2522220042396857,0.25302771941714636,0.2538274804700854,0.2546213041704224,0.25540920796982014,0.2561912099805943,0.2569673289568109,0.25773758427557786,0.258501995918537,0.2592605844535617,0.260013371016665,0.26076037729412377,0.2615016255048232,0.26223713838282486,0.26296693916016384,0.26369105154987704,0.2644094997292664,0.2651223083234004,0.2658295023888554,0.2665311073977003,0.267227149221726,0.26791765411692164,0.26860264870819867,0.2692821599743653,0.269956215233351,0.27062484212768306,0.2712880686102145,0.2719459229301056,0.2725984336190573,0.2732456294777976,0.273887539562821,0.27452419317337934,0.27515561983872494,0.27578184930560434,0.2764029115260021,0.2770188366451338,0.27762965498968667,0.27823539705630684,0.2788360935003316,0.27943177512476536,0.28002247286949683,0.28060821780075695,0.28118904110081433,0.2817649740579067,0.2823360480564066,0.28290229456721866,0.28346374513840616,0.28402043138604466,0.2845723849853004,0.2851196376617307,0.2856622211828037,0.2862001673496353,0.2867335079889402,0.28726227494519396,0.2877865000730047,0.2883062152296897,0.2888214522680554,0.2893322430293776,0.2898386193365789,0.2903406129876,0.29083825574896255,0.29133157934952053,0.2918206154743964,0.2923053957591001,0.29278595178382694,0.29326231506793177,0.29373451706457665,0.2942025891555485,0.29466656264624386,0.2951264687608181,0.29558233863749533,0.29603420332403685,0.2964820937733645,0.2969260408393362,0.2973660752726708,0.2978022277170189,0.2982345287051774,0.29866300865544393,0.2990876978681091,0.2995086265220834,0.29992582467165574,0.30033932224338106,0.300749149033094,0.30115533470304606,0.30155790877916355,0.30195690064842323,0.3023523395563434,0.3027442546045878,0.3031326747486791,0.30351762879582034,0.3038991454028206,0.30427725307412407,0.30465198015993783,0.305023354854458,0.3053914051941903,0.30575615905636383,0.3061176441574347,0.3064758880516778,0.30683091812986446,0.3071827616180234,0.3075314455762831,0.30787699689779335,0.30821944230772375,0.30855880836233696,0.308895121448135,0.3092284077810767,0.3095586934058634,0.30988600419529183,0.3102103658496723,0.31053180389630963,0.31085034368904546,0.3111660104078602,0.3114788290585326,0.31178882447235534,0.3120960213059049,0.3124004440408641,0.31270211698389544,0.3130010642665642,0.3132973098453091,0.31359087750145925,0.3138817908412962,0.31417007329615876,0.3144557481225906,0.31473883840252725,0.31501936704352346,0.31529735677901716,0.3155728301686307,0.31584580959850717,0.3161163172816801,0.316384375258477,0.3166500053969531,0.3169132293933565,0.3171740687726221,0.31743254488889366,0.31768867892607316,0.3179424918983958,0.3181940046510299,0.31844323786070156,0.318690212036341,0.31893494751975215,0.3191774644863026,0.3194177829456338,0.31965592274239074,0.31989190355697034,0.3201257449062866,0.32035746614455335,0.3205870864640829,0.32081462489609924,0.3210401003115667,0.32126353142203157,0.32148493678047707,0.3217043347821909,0.3219217436656439,0.32213718151338044,0.32235066625291847,0.32256221565766,0.32277184734781034,0.3229795787913061,0.3231854273047514,0.3233894100543612,0.3235915440569119,0.3237918461806983,0.32399033314649667,0.32418702152853296,0.3243819277554562,0.3245750681113169,0.3247664587365487,0.3249561156289542,0.32514405464469437,0.3253302914992802,0.32551484176856754,0.32569772088975313,0.3258789441623736,0.32605852674930497,0.32623648367776337,0.3264128298403072,0.3265875799958386,0.3267607487706062,0.326932350659207,0.32710240002558805,0.3272709111040473,0.32743789800023404,0.32760337469214706,0.3277673550311325,0.3279298527428794,0.32809088142841303,0.3282504545650872,0.3284085855075728,0.3285652874888449,0.32872057362116686,0.3288744568970709,0.3290269501903368,0.3291780662569658,0.32932781773615233,0.32947621715125197,0.32962327691074483,0.32976900930919595,0.32991342652821165,0.33005654063739087,0.33019836359527355,0.3303389072502834,0.3304781833416672,0.33061620350042836,0.33075297925025726,0.3308885220084554,0.33102284308685537,0.33115595369273576,0.33128786492973106,0.3314185877987362,0.33154813319880594,0.3316765119280492,0.3318037346845179,0.3319298120670903,0.33205475457634914,0.3321785726154538,0.33230127649100766,0.332422876413919,0.33254338250025695,0.3326628047721011,0.33278115315838624,0.33289843749574044,0.33301466752931796,0.333129852913626,0.33324400321334585,0.33335712790414807,0.3334692363735018,0.3335803379214781,0.3336904417615477,0.3337995570213723,0.33390769274359045,0.33401485788659724,0.3341210613253181,0.3342263118519765,0.3343306181768562,0.33443398892905696,0.3345364326572444,0.33463795783039474,0.3347385728385322,0.3348382859934618,0.3349371055294955,0.33503503960417247,0.335132096298974,0.3352282836200317,0.33532360949883094,0.3354180817929071,0.33551170828653726,0.3356044966914252,0.33569645464738135,0.3357875897229959,0.3358779094163075,0.3359674211554653,0.3360561322993852,0.3361440501384016,0.3362311818949118,0.3363175347240162,0.3364031157141524,0.3364879318877232,0.33657199020172,0.3366552975483402,0.33673786075559886,0.3368196865879355,0.3369007817468149,0.33698115287132313,0.3370608065387576,0.33713974926521223,0.33721798750615695,0.3372955276570124,0.33737237605371884,0.3374485389733006,0.3375240226344245,0.33759883319795364,0.3376729767674965,0.33774645938994996,0.3378192870560381,0.3378914657008457,0.3379630012043472,0.3380338993919297,0.3381041660349124,0.3381738068510606,0.33824282750509427,0.338311233609193,0.3383790307234956,0.3384462243565948,0.3385128199660279,0.33857882295876196,0.3386442386916755,0.3387090724720345,0.33877332955796474,0.3388370151589192,0.3389001344361411,0.33896269250312266,0.3390246944260595,0.3390861452243004,0.33914704987079314,0.3392074132925258,0.33926724037096406,0.339326535942484,0.3393853047988013,0.33944355168739543,0.33950128131193086,0.33955849833267326,0.33961520736690215,0.33967141298931963,0.3397271197324549,0.33978233208706493,0.33983705450253165,0.3398912913872548,0.3399450471090411,0.33999832599548985,0.34005113233437456,0.34010347037402106,0.34015534432368183,0.3402067583539069,0.3402577165969106,0.34030822314693554,0.34035828206061247,0.34040789735731686,0.34045707301952177,0.3405058129931479,0.34055412118790945,0.3406020014776572,0.34064945770071775,0.34069649366023025,0.34074311312447886,0.34078931982722266,0.340835117468022,0.34088050971256206,0.34092550019297274,0.34097009250814575,0.34101429022404867,0.34105809687403554,0.34110151595915505,0.3411445509484552,0.34118720527928514,0.34122948235759387,0.34127138555822684,0.3413129182252185,0.34135408367208264,0.3413948851821002,0.3414353260086033,0.3414754093752575,0.3415151384763408,0.34155451647701973,0.34159354651362345,0.34163223169391443,0.34167057509735693,0.34170857977538266,0.3417462487516541,0.34178358502232487,0.34182059155629774,0.34185727129548044,0.34189362715503857,0.34192966202364594,0.341965378763733,0.3420007802117326,0.3420358691783227,0.3420706484486682,0.3421051207826591,0.34213928891514656,0.3421731555561773,0.34220672339122526,0.3422399950814207,0.342272973263778,0.34230566055142014,0.3423380595338019,0.3423701727769305,0.34240200282358374,0.3424335521935271,0.34246482338372747,0.34249581886856567,0.3425265411000466,0.34255699250800725,0.3425871755003229,0.34261709246311156,0.3426467457609355,0.34267613773700206,0.34270527071336154,0.3427341469911036,0.34276276885055207,0.342791138551457,0.3428192583331855,0.3428471304149111,0.3428747569958001,0.34290214025519744,0.3429292823528096,0.34295618542888673,0.34298285160440245,0.34300928298123196,0.3430354816423287,0.3430614496518992,0.34308718905557595,0.34311270188058896,0.3431379901359356,0.3431630558125491,0.3431879008834644,0.3432125273039838,0.34323693701184005,0.34326113192735813,0.34328511395361566,0.34330888497660156,0.34333244686537323,0.3433558014722124,0.3433789506327793,0.34340189616626543,0.34342463987554467,0.34344718354732345,0.3434695289522889,0.343491677845256,0.34351363196531326,0.34353539303596664,0.34355696276528275,0.34357834284603,0.34359953495581913,0.34362054075724163,0.34364136189800737,0.34366200001108094,0.34368245671481645,0.34370273361309084,0.3437228322954366,0.34374275433717283,0.34376250129953484,0.34378207472980304,0.3438014761614302,0.34382070711416746,0.3438397690941897,0.3438586635942192,0.3438773920936481,0.34389595605866013,0.34391435694235095,0.3439325961848471,0.34395067521342454,0.3439685954426251,0.3439863582743727,0.34400396509808795,0.344021417290802,0.344038716217269,0.34405586323007786,0.34407285966976264,0.3440897068649119,0.3441064061322776,0.344122958776882,0.3441393660921244,0.3441556293598866,0.34417174985063714,0.344187728823535,0.34420356752653186,0.34421926719647383,0.34423482905920194,0.3442502543296519,0.3442655442119525,0.344280699899524,0.3442957225751742,0.3443106134111954,0.3443253735694584,0.3443400042015076,0.344354506448654,0.34436888144206745,0.3443831303028684,0.34439725414221883,0.3444112540614118,0.34442513115196083,0.34443888649568777,0.3444525211648105,0.34446603622202965,0.34447943272061393,0.3444927117044855,0.34450587420830403,0.34451892125755024,0.3445318538686086,0.34454467304884895,0.3445573797967078,0.344569975101769,0.3445824599448428,0.3445948352980453,0.3446071021248763,0.34461926138029675,0.3446313140108058,0.3446432609545166,0.34465510314123154,0.34466684149251703,0.3446784769217776,0.3446900103343289,0.3447014426274703,0.34471277469055706,0.3447240074050713,0.34473514164469293,0.34474617827536924,0.3447571181553846,0.3447679621354288,0.3447787110586654,0.3447893657607989,0.34479992707014157,0.3448103958076799,0.34482077278713996,0.3448310588150524,0.34484125469081695,0.344851361206766,0.34486137914822823,0.34487130929359083,0.34488115241436174,0.34489090927523103,0.34490058063413215,0.344910167242302,0.3449196698443408,0.3449290891782716,0.34493842597559865,0.34494768096136597,0.3449568548542148,0.34496594836644073,0.34497496220405055,0.34498389706681815,0.3449927536483403,0.3450015326360915,0.3450102347114788,0.34501886054989567,0.3450274108207759,0.3450358861876465,0.3450442873081805,0.3450526148342488,0.3450608694119723,0.3450690516817726,0.3450771622784233,0.3450852018310997,0.34509317096342923,0.3451010702935403,0.3451089004341118,0.34511666199242086,0.34512435557039156,0.34513198176464227,0.3451395411665327,0.3451470343622111,0.34515446193266,0.3451618244537425,0.34516912249624787,0.34517635662593626,0.34518352740358366,0.3451906353850262,0.3451976811212037,0.34520466515820364,0.3452115880373038,0.3452184502950153,0.3452252524631246,0.34523199506873564,0.3452386786343115,0.3452453036777153,0.3452518707122511,0.34525838024670447,0.34526483278538245,0.3452712288281533,0.34527756887048594,0.3452838534034886,0.3452900829139481,0.34529625788436746,0.3453023787930044,0.3453084461139087,0.3453144603169596,0.3453204218679026,0.34532633122838624,0.34533218885599826,0.34533799520430153,0.34534375072286994,0.34534945585732346,0.3453551110493633,0.3453607167368062,0.3453662733536195,0.34537178132995483,0.3453772410921816,0.3453826530629209,0.34538801766107846,0.34539333530187777,0.345398606396892,0.345403831354077,0.34540901057780293,0.3454141444688859,0.34541923342461983,0.34542427783880686,0.345429278101789,0.34543423460047795,0.3454391477183861,0.34544401783565604,0.3454488453290907,0.34545363057218254,0.345458373935143,0.34546307578493163,0.34546773648528434,0.3454723563967422,0.3454769358766795,0.345481475279332,0.3454859749558243,0.3454904352541973,0.3454948565194358,0.345499239093495,0.3455035833153275,0.3455078895209098,0.3455121580432684,0.3455163892125061,0.3455205833558274,0.3455247407975644,0.34552886185920195,0.3455329468594029,0.3455369961140328,0.34554100993618486,0.345544988636204,0.34554893252171137,0.3455528418976283,0.34555671706620006,0.3455605583270194,0.3455643659770501,0.34556814031065,0.34557188161959385,0.34557559019309636,0.34557926631783453,0.3455829102779702,0.345586522355172,0.34559010282863734,0.34559365197511427,0.3455971700689231,0.3456006573819776,0.3456041141838063,0.3456075407415736,0.34561093732010034,0.3456143041818846,0.34561764158712205,0.3456209497937264,0.34562422905734924,0.3456274796314001,0.34563070176706634,0.34563389571333225,0.3456370617169988,0.34564020002270285,0.345643310872936,0.3456463945080635,0.3456494511663433,0.3456524810839441,0.3456554844949638,0.3456584616314483,0.34566141272340867,0.3456643379988396,0.3456672376837372,0.34567011200211617,0.34567296117602747,0.3456757854255756,0.3456785849689358,0.3456813600223706,0.34568411080024714,0.34568683751505364,0.34568954037741567,0.345692219596113,0.3456948753780953,0.34569750792849874,0.3457001174506615,0.3457027041461398,0.3457052682147235,0.34570780985445176,0.34571032926162815,0.34571282663083597,0.34571530215495366,0.34571775602516946,0.3457201884309963,0.34572259956028656,0.3457249895992467,0.34572735873245175,0.3457297071428595,0.34573203501182476,0.34573434251911356,0.3457366298429168,0.34573889715986456,0.3457411446450393,0.3457433724719898,0.34574558081274437,0.34574776983782446,0.3457499397162577,0.3457520906155912,0.3457542227019043,0.3457563361398216,0.34575843109252563,0.3457605077217698,0.34576256618789064,0.34576460664982017,0.34576662926509866,0.34576863418988646,0.34577062157897603,0.3457725915858045,0.34577454436246485,0.3457764800597184,0.3457783988270058,0.3457803008124593,0.34578218616291373,0.34578405502391796,0.3457859075397465,0.34578774385341027,0.34578956410666795,0.345791368440037,0.3457931569928042,0.3457949299030369,0.3457966873075934,0.3457984293421336,0.3458001561411297,0.34580186783787636,0.34580356456450123,0.34580524645197513,0.34580691363012206,0.3458085662276295,0.3458102043720581,0.3458118281898519,0.3458134378063477,0.34581503334578517,0.34581661493131627,0.34581818268501474,0.34581973672788574,0.34582127717987504,0.34582280415987837,0.3458243177857507,0.34582581817431524,0.34582730544137247,0.3458287797017093,0.3458302410691078,0.3458316896563541,0.34583312557524687,0.3458345489366064,0.34583595985028287,0.34583735842516483,0.34583874476918786,0.3458401189893426,0.3458414811916834,0.3458428314813363,0.34584416996250716,0.3458454967384898,0.3458468119116741,0.3458481155835535,0.34584940785473345,0.34585068882493863,0.3458519585930211,0.34585321725696777,0.3458544649139078,0.34585570166012053,0.34585692759104253,0.34585814280127525,0.3458593473845922,0.3458605414339461,0.34586172504147655,0.34586289829851635,0.34586406129559955,0.34586521412246746,0.34586635686807626,0.34586748962060376,0.34586861246745604,0.34586972549527434,0.34587082878994174,0.34587192243658976,0.34587300651960495,0.34587408112263557,0.3458751463285978,0.34587620221968224,0.3458772488773605,0.34587828638239104,0.3458793148148259,0.34588033425401654,0.34588134477862026,0.34588234646660587],\"type\":\"scatter\",\"xaxis\":\"x\",\"yaxis\":\"y\"},{\"marker\":{\"color\":[\"red\",\"red\",\"red\",\"red\",\"red\",\"red\",\"red\",\"red\",\"red\",\"red\",\"red\",\"red\",\"red\",\"red\",\"red\",\"red\",\"red\",\"red\",\"red\",\"red\",\"red\",\"red\",\"red\",\"red\",\"red\",\"red\",\"red\",\"red\",\"red\",\"red\",\"red\",\"red\",\"red\",\"red\",\"red\",\"red\",\"red\",\"red\",\"red\",\"red\",\"red\",\"red\",\"red\",\"red\",\"red\",\"red\",\"red\",\"red\",\"red\",\"red\",\"red\",\"red\",\"red\",\"red\",\"red\",\"red\",\"red\",\"red\",\"red\",\"red\",\"red\",\"red\",\"red\",\"red\",\"red\",\"red\",\"red\",\"red\",\"red\",\"red\",\"red\",\"red\",\"red\",\"red\",\"red\",\"red\",\"red\",\"red\",\"red\",\"red\",\"red\",\"red\",\"red\",\"red\",\"red\",\"red\",\"red\",\"red\",\"red\",\"red\",\"red\",\"red\",\"red\",\"red\",\"red\",\"red\",\"red\",\"red\",\"red\",\"red\",\"red\",\"red\",\"red\",\"red\",\"red\",\"red\",\"red\",\"red\",\"red\",\"red\",\"red\",\"red\",\"red\",\"red\",\"red\",\"red\",\"red\",\"red\",\"red\",\"red\",\"red\",\"red\",\"red\",\"red\",\"red\",\"red\",\"red\",\"red\",\"red\",\"red\",\"red\",\"red\",\"red\",\"red\",\"red\",\"red\",\"red\",\"red\",\"red\",\"red\",\"red\",\"red\",\"red\",\"red\",\"red\",\"red\",\"red\",\"red\",\"red\",\"red\",\"red\",\"red\",\"red\",\"red\",\"red\",\"red\",\"red\",\"red\",\"red\",\"red\",\"red\",\"red\",\"red\",\"red\",\"red\",\"red\",\"red\",\"red\",\"red\",\"red\",\"red\",\"red\",\"red\",\"red\",\"red\",\"red\",\"red\",\"red\",\"red\",\"red\",\"red\",\"red\",\"red\",\"red\",\"red\",\"red\",\"red\",\"red\",\"red\",\"red\",\"red\",\"red\",\"red\",\"red\",\"red\",\"red\",\"red\",\"red\",\"red\",\"red\",\"red\",\"red\",\"red\",\"red\",\"red\",\"red\",\"red\",\"red\",\"red\",\"red\",\"red\",\"red\",\"red\",\"red\",\"red\",\"red\",\"red\",\"red\",\"red\",\"red\",\"red\",\"red\",\"red\",\"red\",\"red\",\"red\",\"red\",\"red\",\"red\",\"red\",\"red\",\"red\",\"red\",\"red\",\"red\",\"red\",\"red\",\"red\",\"red\",\"red\",\"red\",\"red\",\"red\",\"red\",\"red\",\"red\",\"red\",\"red\",\"red\",\"red\",\"red\",\"red\",\"red\",\"red\",\"red\",\"red\",\"red\",\"red\",\"red\",\"red\",\"red\",\"red\",\"red\",\"red\",\"red\",\"red\",\"red\",\"red\",\"red\",\"red\",\"red\",\"red\",\"red\",\"red\",\"red\",\"red\",\"red\",\"red\",\"red\",\"red\",\"red\",\"red\",\"red\",\"red\",\"red\",\"red\",\"red\",\"red\",\"red\",\"red\",\"red\",\"red\",\"red\",\"red\",\"red\",\"red\",\"red\",\"red\",\"red\",\"red\",\"red\",\"red\",\"red\",\"red\",\"red\",\"red\",\"red\",\"red\",\"red\",\"red\",\"red\",\"red\",\"red\",\"red\",\"red\",\"red\",\"red\",\"red\",\"red\",\"red\",\"red\",\"red\",\"red\",\"red\",\"red\",\"red\",\"red\",\"red\",\"red\",\"red\",\"red\",\"red\",\"red\",\"red\",\"red\",\"red\",\"red\",\"red\",\"red\",\"red\",\"red\",\"red\",\"red\",\"red\",\"red\",\"red\",\"red\",\"red\",\"red\",\"red\",\"red\",\"red\",\"red\",\"red\",\"red\",\"red\",\"red\",\"red\",\"red\",\"red\",\"red\",\"red\",\"red\",\"red\",\"red\",\"red\",\"red\",\"red\",\"red\",\"red\",\"red\",\"red\",\"red\",\"red\",\"red\",\"red\",\"red\",\"red\",\"red\",\"red\",\"red\",\"red\",\"red\",\"red\",\"red\",\"red\",\"red\",\"red\",\"red\",\"red\",\"red\",\"red\",\"red\",\"red\",\"red\",\"red\",\"red\",\"red\",\"red\",\"red\",\"red\",\"red\",\"red\",\"red\",\"red\",\"red\",\"red\",\"red\",\"red\",\"red\",\"red\",\"red\",\"red\",\"red\",\"red\",\"red\",\"red\",\"red\",\"red\",\"red\",\"red\",\"red\",\"red\",\"red\",\"red\",\"red\",\"red\",\"red\",\"red\",\"red\",\"red\",\"red\",\"red\",\"red\",\"red\",\"red\",\"red\",\"red\",\"red\",\"red\",\"red\",\"red\",\"red\",\"red\",\"red\",\"red\",\"red\",\"red\",\"red\",\"red\",\"red\",\"red\",\"red\",\"red\",\"red\",\"red\",\"red\",\"red\",\"red\",\"red\",\"red\",\"red\",\"red\",\"red\",\"red\",\"red\",\"red\",\"red\",\"red\",\"red\",\"red\",\"red\",\"red\",\"red\",\"red\",\"red\",\"red\",\"red\",\"red\",\"red\",\"red\",\"red\",\"red\",\"red\",\"red\",\"red\",\"red\",\"red\",\"red\",\"red\",\"red\",\"red\",\"red\",\"red\",\"red\",\"red\",\"red\",\"red\",\"red\",\"red\",\"red\",\"red\",\"red\",\"red\",\"red\",\"red\",\"red\",\"red\",\"red\",\"red\",\"red\",\"red\",\"red\",\"red\",\"red\",\"red\",\"red\",\"red\",\"red\",\"red\",\"red\",\"red\",\"red\",\"red\",\"red\",\"red\",\"red\",\"red\",\"red\",\"red\",\"red\",\"red\",\"red\",\"red\",\"red\",\"red\",\"red\",\"red\",\"red\",\"red\",\"red\",\"red\",\"red\",\"red\",\"red\",\"red\",\"red\",\"red\",\"red\",\"red\",\"red\",\"red\",\"red\",\"red\",\"red\",\"red\",\"red\",\"red\",\"red\",\"red\",\"red\",\"red\",\"red\",\"red\",\"red\",\"red\",\"red\",\"red\",\"red\",\"red\",\"red\",\"red\",\"red\",\"red\",\"red\",\"red\",\"red\",\"red\",\"red\",\"red\",\"red\",\"red\",\"red\",\"red\",\"red\",\"red\",\"red\",\"red\",\"red\",\"red\",\"red\",\"red\",\"red\",\"red\",\"red\",\"red\",\"red\",\"red\",\"red\",\"red\",\"red\",\"red\",\"red\",\"red\",\"red\",\"red\",\"red\",\"red\",\"red\",\"red\",\"red\",\"red\",\"red\",\"red\",\"red\",\"red\",\"red\",\"red\",\"red\",\"red\",\"red\",\"red\",\"red\",\"red\",\"red\",\"red\",\"red\",\"red\",\"red\",\"red\",\"red\",\"red\",\"red\",\"red\",\"red\",\"red\",\"red\",\"red\",\"red\",\"red\",\"red\",\"red\",\"red\",\"red\",\"red\",\"red\",\"red\",\"red\",\"red\",\"red\",\"red\",\"red\",\"red\",\"red\",\"red\",\"red\",\"red\",\"red\",\"red\",\"red\",\"red\",\"red\",\"red\",\"red\",\"red\",\"red\",\"red\",\"red\",\"red\",\"red\",\"red\",\"red\",\"red\",\"red\",\"red\",\"red\",\"red\",\"red\",\"red\",\"red\",\"red\",\"red\",\"red\",\"red\",\"red\",\"red\",\"red\",\"red\",\"red\",\"red\",\"red\",\"red\",\"red\",\"red\",\"red\",\"red\",\"red\",\"red\",\"red\",\"red\",\"red\",\"red\",\"red\",\"red\",\"red\",\"red\",\"red\",\"red\",\"red\",\"red\",\"red\",\"red\",\"red\",\"red\",\"red\",\"red\",\"red\",\"red\",\"red\",\"red\",\"red\",\"red\",\"red\",\"red\",\"red\",\"red\",\"red\",\"red\",\"red\",\"red\",\"red\",\"red\",\"red\",\"red\",\"red\",\"red\",\"red\",\"red\",\"red\",\"red\",\"red\",\"red\",\"red\",\"red\",\"red\",\"red\",\"red\",\"red\",\"red\",\"red\",\"red\",\"red\",\"red\",\"red\",\"red\",\"red\",\"red\",\"red\",\"red\",\"red\",\"red\",\"red\",\"red\",\"red\",\"red\",\"red\",\"red\",\"red\",\"red\",\"red\",\"red\",\"red\",\"red\",\"red\",\"red\",\"red\",\"red\",\"red\",\"red\",\"red\",\"red\",\"red\",\"red\",\"red\",\"red\",\"red\",\"red\",\"red\",\"red\",\"red\",\"red\",\"red\",\"red\",\"red\",\"red\",\"red\",\"red\",\"red\",\"red\",\"red\",\"red\",\"red\",\"red\",\"red\",\"red\",\"red\",\"red\",\"red\",\"red\",\"red\",\"red\",\"red\",\"red\",\"red\",\"red\",\"red\",\"red\",\"red\",\"red\",\"red\",\"red\",\"red\",\"red\",\"red\",\"red\",\"red\",\"red\",\"red\",\"red\",\"red\",\"red\",\"red\",\"red\",\"red\",\"red\",\"red\",\"red\",\"red\",\"red\",\"red\",\"red\",\"red\",\"red\",\"red\",\"red\",\"red\",\"red\",\"red\",\"red\",\"green\",\"green\",\"green\",\"green\",\"green\",\"green\",\"green\",\"green\",\"green\",\"green\",\"green\",\"green\",\"green\",\"green\",\"green\",\"green\",\"green\",\"green\",\"green\",\"green\",\"green\",\"green\",\"green\",\"green\",\"green\",\"green\",\"green\",\"green\",\"green\",\"green\",\"green\",\"green\",\"green\",\"green\",\"green\",\"green\",\"green\",\"green\",\"green\",\"green\",\"green\",\"green\",\"green\",\"green\",\"green\",\"green\",\"green\",\"green\",\"green\",\"green\",\"green\",\"green\",\"green\",\"green\",\"green\",\"green\",\"green\",\"green\",\"green\",\"green\",\"green\",\"green\",\"green\",\"green\",\"green\",\"green\",\"green\",\"green\",\"green\",\"green\",\"green\",\"green\",\"green\",\"green\",\"green\",\"green\",\"green\",\"green\",\"green\",\"green\",\"green\",\"green\",\"green\",\"green\",\"green\",\"green\",\"green\",\"green\",\"green\",\"green\",\"green\",\"green\",\"green\",\"green\",\"green\",\"green\",\"green\",\"green\",\"green\",\"green\",\"green\",\"green\",\"green\",\"green\",\"green\",\"green\",\"green\",\"green\",\"green\",\"green\",\"green\",\"green\",\"green\",\"green\",\"green\",\"green\",\"green\",\"green\",\"green\",\"green\",\"green\",\"green\",\"green\",\"green\",\"green\",\"green\",\"green\",\"green\",\"green\",\"green\",\"green\",\"green\",\"green\",\"green\",\"green\",\"green\",\"green\",\"green\",\"green\",\"green\",\"green\",\"green\",\"green\",\"green\",\"green\",\"green\",\"green\",\"green\",\"green\",\"green\",\"green\",\"green\"],\"size\":8,\"symbol\":\"x\"},\"mode\":\"markers\",\"name\":\"Customer MAE\",\"x\":[0.0,0.5,1.0,1.5,2.0,2.5,3.0,3.5,4.0,4.5,5.0,5.5,6.0,6.5,7.0,7.5,8.0,8.5,9.0,9.5,10.0,10.5,11.0,11.5,12.0,12.5,13.0,13.5,14.0,14.5,15.0,15.5,16.0,16.5,17.0,17.5,18.0,18.5,19.0,19.5,20.0,20.5,21.0,21.5,22.0,22.5,23.0,23.5,24.0,24.5,25.0,25.5,26.0,26.5,27.0,27.5,28.0,28.5,29.0,29.5,30.0,30.5,31.0,31.5,32.0,32.5,33.0,33.5,34.0,34.5,35.0,35.5,36.0,36.5,37.0,37.5,38.0,38.5,39.0,39.5,40.0,40.5,41.0,41.5,42.0,42.5,43.0,43.5,44.0,44.5,45.0,45.5,46.0,46.5,47.0,47.5,48.0,48.5,49.0,49.5,50.0,50.5,51.0,51.5,52.0,52.5,53.0,53.5,54.0,54.5,55.0,55.5,56.0,56.5,57.0,57.5,58.0,58.5,59.0,59.5,60.0,60.5,61.0,61.5,62.0,62.5,63.0,63.5,64.0,64.5,65.0,65.5,66.0,66.5,67.0,67.5,68.0,68.5,69.0,69.5,70.0,70.5,71.0,71.5,72.0,72.5,73.0,73.5,74.0,74.5,75.0,75.5,76.0,76.5,77.0,77.5,78.0,78.5,79.0,79.5,80.0,80.5,81.0,81.5,82.0,82.5,83.0,83.5,84.0,84.5,85.0,85.5,86.0,86.5,87.0,87.5,88.0,88.5,89.0,89.5,90.0,90.5,91.0,91.5,92.0,92.5,93.0,93.5,94.0,94.5,95.0,95.5,96.0,96.5,97.0,97.5,98.0,98.5,99.0,99.5,100.0,100.5,101.0,101.5,102.0,102.5,103.0,103.5,104.0,104.5,105.0,105.5,106.0,106.5,107.0,107.5,108.0,108.5,109.0,109.5,110.0,110.5,111.0,111.5,112.0,112.5,113.0,113.5,114.0,114.5,115.0,115.5,116.0,116.5,117.0,117.5,118.0,118.5,119.0,119.5,120.0,120.5,121.0,121.5,122.0,122.5,123.0,123.5,124.0,124.5,125.0,125.5,126.0,126.5,127.0,127.5,128.0,128.5,129.0,129.5,130.0,130.5,131.0,131.5,132.0,132.5,133.0,133.5,134.0,134.5,135.0,135.5,136.0,136.5,137.0,137.5,138.0,138.5,139.0,139.5,140.0,140.5,141.0,141.5,142.0,142.5,143.0,143.5,144.0,144.5,145.0,145.5,146.0,146.5,147.0,147.5,148.0,148.5,149.0,149.5,150.0,150.5,151.0,151.5,152.0,152.5,153.0,153.5,154.0,154.5,155.0,155.5,156.0,156.5,157.0,157.5,158.0,158.5,159.0,159.5,160.0,160.5,161.0,161.5,162.0,162.5,163.0,163.5,164.0,164.5,165.0,165.5,166.0,166.5,167.0,167.5,168.0,168.5,169.0,169.5,170.0,170.5,171.0,171.5,172.0,172.5,173.0,173.5,174.0,174.5,175.0,175.5,176.0,176.5,177.0,177.5,178.0,178.5,179.0,179.5,180.0,180.5,181.0,181.5,182.0,182.5,183.0,183.5,184.0,184.5,185.0,185.5,186.0,186.5,187.0,187.5,188.0,188.5,189.0,189.5,190.0,190.5,191.0,191.5,192.0,192.5,193.0,193.5,194.0,194.5,195.0,195.5,196.0,196.5,197.0,197.5,198.0,198.5,199.0,199.5,200.0,200.5,201.0,201.5,202.0,202.5,203.0,203.5,204.0,204.5,205.0,205.5,206.0,206.5,207.0,207.5,208.0,208.5,209.0,209.5,210.0,210.5,211.0,211.5,212.0,212.5,213.0,213.5,214.0,214.5,215.0,215.5,216.0,216.5,217.0,217.5,218.0,218.5,219.0,219.5,220.0,220.5,221.0,221.5,222.0,222.5,223.0,223.5,224.0,224.5,225.0,225.5,226.0,226.5,227.0,227.5,228.0,228.5,229.0,229.5,230.0,230.5,231.0,231.5,232.0,232.5,233.0,233.5,234.0,234.5,235.0,235.5,236.0,236.5,237.0,237.5,238.0,238.5,239.0,239.5,240.0,240.5,241.0,241.5,242.0,242.5,243.0,243.5,244.0,244.5,245.0,245.5,246.0,246.5,247.0,247.5,248.0,248.5,249.0,249.5,250.0,250.5,251.0,251.5,252.0,252.5,253.0,253.5,254.0,254.5,255.0,255.5,256.0,256.5,257.0,257.5,258.0,258.5,259.0,259.5,260.0,260.5,261.0,261.5,262.0,262.5,263.0,263.5,264.0,264.5,265.0,265.5,266.0,266.5,267.0,267.5,268.0,268.5,269.0,269.5,270.0,270.5,271.0,271.5,272.0,272.5,273.0,273.5,274.0,274.5,275.0,275.5,276.0,276.5,277.0,277.5,278.0,278.5,279.0,279.5,280.0,280.5,281.0,281.5,282.0,282.5,283.0,283.5,284.0,284.5,285.0,285.5,286.0,286.5,287.0,287.5,288.0,288.5,289.0,289.5,290.0,290.5,291.0,291.5,292.0,292.5,293.0,293.5,294.0,294.5,295.0,295.5,296.0,296.5,297.0,297.5,298.0,298.5,299.0,299.5,300.0,300.5,301.0,301.5,302.0,302.5,303.0,303.5,304.0,304.5,305.0,305.5,306.0,306.5,307.0,307.5,308.0,308.5,309.0,309.5,310.0,310.5,311.0,311.5,312.0,312.5,313.0,313.5,314.0,314.5,315.0,315.5,316.0,316.5,317.0,317.5,318.0,318.5,319.0,319.5,320.0,320.5,321.0,321.5,322.0,322.5,323.0,323.5,324.0,324.5,325.0,325.5,326.0,326.5,327.0,327.5,328.0,328.5,329.0,329.5,330.0,330.5,331.0,331.5,332.0,332.5,333.0,333.5,334.0,334.5,335.0,335.5,336.0,336.5,337.0,337.5,338.0,338.5,339.0,339.5,340.0,340.5,341.0,341.5,342.0,342.5,343.0,343.5,344.0,344.5,345.0,345.5,346.0,346.5,347.0,347.5,348.0,348.5,349.0,349.5,350.0,350.5,351.0,351.5,352.0,352.5,353.0,353.5,354.0,354.5,355.0,355.5,356.0,356.5,357.0,357.5,358.0,358.5,359.0,359.5,360.0,360.5,361.0,361.5,362.0,362.5,363.0,363.5,364.0,364.5,365.0,365.5,366.0,366.5,367.0,367.5,368.0,368.5,369.0,369.5,370.0,370.5,371.0,371.5,372.0,372.5,373.0,373.5,374.0,374.5,375.0,375.5,376.0,376.5,377.0,377.5,378.0,378.5,379.0,379.5,380.0,380.5,381.0,381.5,382.0,382.5,383.0,383.5,384.0,384.5,385.0,385.5,386.0,386.5,387.0,387.5,388.0,388.5,389.0,389.5,390.0,390.5,391.0,391.5,392.0,392.5,393.0,393.5,394.0,394.5,395.0,395.5,396.0,396.5,397.0,397.5,398.0,398.5,399.0,399.5,400.0,400.5,401.0,401.5,402.0,402.5,403.0,403.5,404.0,404.5,405.0,405.5,406.0,406.5,407.0,407.5,408.0,408.5,409.0,409.5,410.0,410.5,411.0,411.5,412.0,412.5,413.0,413.5,414.0,414.5,415.0,415.5,416.0,416.5,417.0,417.5,418.0,418.5,419.0,419.5,420.0,420.5,421.0,421.5,422.0,422.5,423.0,423.5,424.0,424.5,425.0,425.5,426.0,426.5,427.0,427.5,428.0,428.5,429.0,429.5,430.0,430.5,431.0,431.5,432.0,432.5,433.0,433.5,434.0,434.5,435.0,435.5,436.0,436.5,437.0,437.5,438.0,438.5,439.0,439.5,440.0,440.5,441.0,441.5,442.0,442.5,443.0,443.5,444.0,444.5,445.0,445.5,446.0,446.5,447.0,447.5,448.0,448.5,449.0,449.5,450.0,450.5,451.0,451.5,452.0,452.5,453.0,453.5,454.0,454.5,455.0,455.5,456.0,456.5,457.0,457.5,458.0,458.5,459.0,459.5,460.0,460.5,461.0,461.5,462.0,462.5,463.0,463.5,464.0,464.5,465.0,465.5,466.0,466.5,467.0,467.5,468.0,468.5,469.0,469.5,470.0,470.5,471.0,471.5,472.0,472.5,473.0,473.5,474.0,474.5,475.0,475.5,476.0,476.5,477.0,477.5,478.0,478.5,479.0,479.5,480.0,480.5,481.0,481.5,482.0,482.5,483.0,483.5,484.0,484.5,485.0,485.5,486.0,486.5,487.0,487.5,488.0,488.5,489.0,489.5,490.0,490.5,491.0,491.5,492.0,492.5,493.0,493.5,494.0,494.5,495.0,495.5,496.0,496.5,497.0,497.5,498.0,498.5,499.0,499.5,500.0],\"y\":[null,null,null,null,null,null,null,null,null,null,0.0005518614218767036,0.000552416076502888,0.0005529261405927623,0.0005533910205018784,0.0005538101280022426,0.0005541828806735369,0.0005545087022993182,0.0005547870232679542,0.0005550172809780445,0.0005551989202480601,0.000555331393729922,0.0005554141623262267,0.000555446695610815,0.0005554284722523591,0.000555358980440647,0.0005552377183152084,0.0005550641943959327,0.0005548379280153057,0.0005545584497518835,0.0005542253018646084,0.0005538380387275618,0.0005533962272647324,0.000552899447384375,0.0005523472924125164,0.0005517393695251545,0.0005510753001786961,0.0005503547205381561,0.0005495772819026399,0.000548742651127621,0.0005478505110435131,0.0005469005608700335,0.0005458925166258509,0.0005448261115329855,0.0005437010964154556,0.0005425172400916257,0.0005412743297597329,0.0005399721713760529,0.0005386105900251632,0.0005371894302817657,0.0005357085565635306,0.0005341678534744108,0.0005325672261378949,0.0005309066005196569,0.0005291859237390634,0.0005274051643690123,0.0005255643127235726,0.0005236633811329021,0.0005217024042049319,0.0005196814390733116,0.0005176005656311086,0.0005154598867497917,0.0005132595284830009,0.000510999640254658,0.0005086803950309532,0.0005063019894757793,0.0005038646440891886,0.0005013686033284631,0.0004988141357114204,0.0004962015339015749,0.0004935311147748133,0.0004908032194672447,0.0004880182134039244,0.0004851764863081645,0.0004822784521911645,0.0004793245493217256,0.00047631524017582817,0.0004732510113658941,0.00047013237354956254,0.00046695986131784243,0.0004637340330625429,0.0004604554708228912,0.00045712478011129153,0.000453742589718203,0.00045030955149614495,0.0004468263401228588,0.00044329365284371007,0.00043971220919341886,0.00043608275069723947,0.000432406040551771,0.000428682863285568,0.0004249140243997927,0.00042110034998914204,0.00041724268634335006,0.0004133418995295619,0.00040939887495594445,0.0004054145169168871,0.00040138974812020277,0.000397325509196773,0.0003932227581930725,0.0003890824700470845,0.00038490563604810053,0.00038069326328096743,0.0003764463740553221,0.00037216600532042715,0.0003678532080662061,0.0003635090467111214,0.0003591345984775447,0.00035473095275530373,0.00035029921045410275,0.0003458404833455257,0.00034135589339535184,0.00033684657208693747,0.0003323136597364151,0.00032775830480048947,0.00032318166317760633,0.00031858489750328817,0.00031396917644045284,0.0003093356739654984,0.0003046855686509818,0.00030002004294571406,0.00029534028245307666,0.0002906474752083869,0.00028594281095613457,0.00028122748042789966,0.0002765026746217691,0.0002717695840840628,0.00026702939819415973,0.00026228330445323577,0.0002575324877776802,0.0002527781297979685,0.00024802140816376176,0.00024326349585596817,0.00023850556050650603,0.0002337487637264812,0.00022899426044348066,0.0002242431982486695,0.00021949671675433355,0.00021475594696253558,0.00021002201064548685,0.0002052960197382342,0.00020057907574424038,0.00019587226915441405,0.00019117667888009883,0.00018649337170053673,0.00018182340172528017,0.00017716780987198192,0.00017252762336001612,0.00016790385522028707,0.0001632975038216213,0.00015870955241406614,0.0001541409686894087,0.00014959270435918636,0.00014506569475046142,0.00014056085841956421,0.00013607909678399995,0.00013162129377271742,0.0001271883154948281,0.00012278100992692655,0.00011840020661907887,0.0001140467164195382,0.00010972133121820956,0.0001054248237088769,0.00010115794717015613,0.00009692143526513447,0.00009271600185961587,0.00008854234085886969,0.00008440112606276324,0.00008029301103914354,0.0000762186290152757,0.00007217859278715699,0.00006817349464651556,0.00006420390632522716,0.0000602703789569291,0.00005637344305554726,0.000052513608510451226,0.00004869136459794104,0.00004490718000874322,0.000041161502891176206,0.00003745476090964805,0.0000337873613181282,0.00003015969104819649,0.00002657211681132382,0.00002302498521495572,0.000019518622892010122,0.000016053336643396702,0.00001291653219578598,0.00001045992422802583,8.675193521771486e-6,7.5539727917777195e-6,7.08785047633348e-6,7.268374487183095e-6,8.087055916871811e-6,9.535372701610257e-6,0.000011604773237762101,0.000014286679950209103,0.00001728537420821563,0.00002024078993343409,0.000023152860042500614,0.00002602153416695441,0.000028846778368208813,0.00003162857484657294,0.00003436692164474581,0.0000370618323462048,0.000039713335768932654,0.0000423214756548686,0.000044886310355500167,0.000047407912514014656,0.000049886368744375295,0.00005232177930773146,0.000054714257786534935,0.00005706393075671323,0.000059370937458305295,0.0000616354294648579,0.00006385757035196854,0.00006603753536528439,0.0000681755110883041,0.00007027169511026432,0.0000723262956944522,0.00007433953144721467,0.00007631163098795429,0.00007824283262039921,0.00008013338400538988,0.00008198354183546296,0.00008379357151144756,0.00008556374682134148,0.00008729434962165789,0.00008898566952148207,0.00009063800356942753,0.00009225165594369008,0.00009382693764538974,0.00009536416619536042,0.00009686366533455978,0.00009832576472825998,0.00009975079967415967,0.00010113911081453711,0.00010249104385260834,0.00010380694927316667,0.00010508718206764761,0.00010633210146369674,0.00010754207065933846,0.00010871745656183778,0.00010985862953132272,0.00011096596312923262,0.00011203983387166707,0.00011308062098766868,0.00011408870618250555,0.00011506447340597669,0.00011600830862577812,0.00011692059960596126,0.00011780173569049289,0.00011865210759194088,0.00011947210718527797,0.00012026212730682389,0.00012102256155830484,0.00012175380411604157,0.00012245624954522713,0.000123130292619299,0.00012377632814437493,0.00012439475078871196,0.0001249859549171842,0.00012555033443071743,0.00012608828261066217,0.00012660019196804906,0.0001270864540976888,0.00012754745953706367,0.00012798359762995862,0.00012839525639479104,0.00012878282239754988,0.0001291466806293332,0.00012948721438836884,0.0001298048051665012,0.00013009983254004922,0.00013037267406498484,0.00013062370517634387,0.0001308532990918331,0.0001310618267195234,0.0001312496565695816,0.0001314171546699664,0.00013156468448599458,0.00013169260684373315,0.00013180127985711157,0.00013189105885869805,0.0001319622963340521,0.00013201534185959296,0.00013205054204387353,0.00013206824047222904,0.00013206877765467825,0.00013205249097703075,0.0001320197146551103,0.0001319707796920203,0.00013190601383837282,0.00013182574155540976,0.00013173028398093844,0.00013161995889800177,0.00013149508070621865,0.00013135596039571157,0.00013120290552354715,0.00013103622019263632,0.00013085620503298817,0.00013066315718528138,0.00013045737028666188,0.00013023913445870566,0.00013000873629747352,0.00012976645886559577,0.00012951258168632202,0.00012924738073945874,0.00012897112845915122,0.000128684093733419,0.0001283865419054144,0.00012807873477631464,0.00012776093060980312,0.00012743338413808458,0.00012709634656935702,0.0001267500655967108,0.0001263947854083725,0.00012603074669926027,0.00012565818668378197,0.00012527733910984264,0.00012488843427398594,0.00012449169903764148,0.00012408735684441873,0.00012367562773839925,0.0001232567283833901,0.00012283087208308263,0.0001223982688020767,0.00012195912518772644,0.00012151364459277896,0.00012106202709873286,0.00012060446953991198,0.0001201411655281998,0.00011967230547838857,0.00011919807663412737,0.00011871866309441611,0.00011823424584061733,0.00011774500276395502,0.00011725110869346305,0.00011675273542435212,0.000116250051746768,0.0001157432234749133,0.00011523241347649279,0.00011471778170247073,0.00011419948521709554,0.00011367767822818527,0.0001131525121176268,0.00011262413547208879,0.00011209269411390185,0.00011155833113210033,0.00011102118691359329,0.00011048139917445053,0.00010993910299127612,0.00010939443083265962,0.00010884751259067798,0.00010829847561243075,0.00010774744473159531,0.00010719454229998304,0.00010663988821908335,0.00010608359997156496,0.00010552579265275144,0.00010496657900201964,0.00010440606943413508,0.0001038443720704971,0.00010328159277028684,0.00010271783516150216,0.000102153200671878,0.00010158778855966599,0.00010102169594427032,0.00010045501783674556,0.00009988784717010996,0.00009932027482950664,0.0000987523896821742,0.00009818427860723874,0.00009761602652530137,0.00009704771642783067,0.00009647942940634412,0.00009591124468137191,0.00009534323963120805,0.00009477548982042174,0.00009420806902814788,0.00009364104927613681,0.00009307450085655993,0.00009250849235957373,0.00009194309070063331,0.00009137836114754926,0.00009081436734729195,0.00009025117135253477,0.00008968883364793112,0.00008912741317613107,0.00008856696736353298,0.0000880075521457527,0.00008744922199283886,0.00008689202993419731,0.00008633602758325478,0.00008578126516184422,0.00008522779152430566,0.00008467565418131848,0.00008412489932345004,0.00008357557184443007,0.00008302771536413847,0.0000824813722513282,0.00008193658364605105,0.00008139338948182045,0.00008085182850748429,0.00008031193830882705,0.00007977375532989025,0.00007923731489401886,0.00007870265122462932,0.00007816979746570365,0.00007763878570200933,0.00007710964697904308,0.00007658241132271166,0.00007605710775873369,0.00007553376433177234,0.00007501240812430896,0.00007449306527524154,0.00007397576099821934,0.00007346051959972901,0.00007294736449689715,0.00007243631823505254,0.00007192740250502138,0.00007142063816017274,0.00007091604523320294,0.00007041364295268556,0.00006991344975934666,0.00006941548332211989,0.0000689197605539388,0.00006842629762729038,0.00006793510998953745,0.00006744621237798859,0.00006695961883474463,0.00006647534272130289,0.00006599339673293947,0.00006551379291284994,0.0000650365426660793,0.00006456165677321368,0.00006408914540386338,0.00006361901812991193,0.00006315128393856342,0.00006268595124516818,0.00006222302790583504,0.000061762521229838,0.00006130443799181557,0.00006084878444376457,0.00006039556632682938,0.00005994478888290095,0.00005949645686600422,0.000059050574553507925,0.00005860714575712761,0.000058166173833744,0.000057727661696040406,0.00005729161182294568,0.000056858026269898275,0.000056426906678933326,0.00005599825428859065,0.00005557206994364172,0.00005514835410465285,0.00005472710685737281,0.00005430832792195045,0.000053892016661992754,0.00005347817209345423,0.00005306679289336607,0.000052657877408407744,0.000052251423663321085,0.000051847429369169695,0.00005144589193144772,0.00005104680845803597,0.00005065017576701236,0.000050255990394317995,0.000049864248601276835,0.00004947494638197383,0.00004908807947049845,0.000048703643348047305,0.000048321633249892194,0.00004794204417221562,0.000047564870878816524,0.00004719010790768837,0.000046817749577462596,0.00004644778999373824,0.00004608022305528192,0.0000457150424601083,0.00004535224171144134,0.00004499181412355824,0.000044633752827520244,0.00004427805077678623,0.00004392470075271662,0.000043573695369969774,0.00004322502708178733,0.000042878688185172014,0.00004253467082596554,0.0000421929670038203,0.000041853568577071175,0.00004151646726750602,0.00004118165466504317,0.00004084912223230558,0.00004051886130910956,0.00004019086311685019,0.0000398651187628041,0.000039541619244337245,0.00003922035545302935,0.00003890131817870265,0.00003858449811337639,0.000038269885855133106,0.00003795747191189277,0.000037647246705128535,0.00003733920057347631,0.000037033323776286844,0.00003672960649709167,0.000036428038846995523,0.00003612861086799246,0.00003583131253621463,0.000035536133765101975,0.000035243064408509465,0.00003495209426374077,0.00003466321307451256,0.00003437641053385845,0.00003409167628696214,0.00003380899993392808,0.00003352837103249048,0.00003324977910065768,0.00003297321361929828,0.00003269866403466759,0.00003242611976087234,0.00003215557018228332,0.00003188700465588629,0.00003162041251358219,0.00003135578306442846,0.0000310931055968289,0.00003083236938067574,0.0000305735636694299,0.000030316677702165198,0.00003006170070554734,0.00002980862189577746,0.00002955743048047954,0.00002930811566054822,0.000029060666631941817,0.00002881507258744062,0.000028571322718353886,0.000028329406216184458,0.000028089312274257344,0.000027851030089294125,0.000027614548862961743,0.000027379857803367824,0.000027146946126529624,0.000026915803057789594,0.000026686417833206604,0.000026458779700903488,0.000026232877922380575,0.000026008701773793135,0.000025786240547189975,0.00002556548355172844,0.00002534642011484292,0.000025129039583392546,0.000024913331324765167,0.00002469928472795982,0.000024486889204637262,0.000024276134190128223,0.000024067009144431884,0.000023859503553164437,0.000023653606928499993,0.000023449308810062935,0.00002324659876581123,0.000023045466392879494,0.000022845901318405445,0.00002264789320032437,0.000022451431728137295,0.000022256506623669376,0.00002206310764177838,0.000021871224571065914,0.000021680847234544944,0.000021491965490300388,0.00002130456923211846,0.000021118648390095226,0.00002093419293122431,0.000020751192859971457,0.000020569638218817133,0.00002038951908878112,0.000020210825589940834,0.00002003354788191153,0.00001985767616432435,0.000019683200677273916,0.000019510111701754764,0.00001933839956008046,0.000019168054616283294,0.000018999067276494504,0.000018831427989319,0.000018665127246181607,0.000018500155581663596,0.000018336503573826046,0.000018174161844514454,0.000018013121059648087,0.000017853371929499623,0.000017694905208959527,0.00001753771169778237,0.000017381782240826928,0.000017227107728276125,0.000017073679095850087,0.00001692148732500526,0.0000167705234431183,0.00001662077852366095,0.000016472243686367933,0.00001632491009738199,0.000016178768969398905,0.000016033811561795177,0.000015890029180750137,0.000015747413179354215,0.000015605954957707448,0.0000154656459630097,0.000015326477689643238,0.00001518844167923933,0.000015051529520743485,0.000014915732850468878,0.000014781043352135898,0.000014647452756915869,0.000014514952843453945,0.000014383535437889228,0.000014253192413869354,0.000014123915692553946,0.000013995697242611155,0.000013868529080210719,0.000013742403269002447,0.000013617311920096799,0.000013493247192034348,0.000013370201290746926,0.000013248166469513907,0.000013127135028917797,0.00001300709931678526,0.000012888051728127432,0.000012769984705073318,0.000012652890736797625,0.000012536762359445815,0.00001242159215604946,0.000012307372756438118,0.000012194096837149116,0.000012081757121331806,0.000011970346378640696,0.000011859857425136928,0.000011750283123170309,0.000011641616381268983,0.000011533850154022169,0.000011426977441953174,0.000011320991291396577,0.000011215884794366388,0.00001111165108842352,0.00001100828335653631,0.000010905774826942439,0.000010804118773004607,0.000010703308513062034,0.000010603337410283354,0.000010504198872509115,0.000010405886352101186,0.000010308393345778323,0.000010211713394462113,0.000010115840083105594,0.00001002076704053434,9.926487939270924e-6,9.832996495366981e-6,9.740286468233217e-6,9.648351660456912e-6,9.557185917634688e-6,9.466783128181e-6,9.37713722315814e-6,9.288242176084011e-6,9.200092002757289e-6,9.112680761060338e-6,9.026002550779512e-6,8.940051513413622e-6,8.854821831978278e-6,8.77030773082338e-6,8.686503475425657e-6,8.603403372208941e-6,8.521001768337394e-6,8.439293051523301e-6,8.358271649825833e-6,8.277932031454689e-6,8.198268704568858e-6,8.11927621707262e-6,8.040949156419176e-6,7.963282149403867e-6,7.88626986196156e-6,7.809906998961948e-6,7.734188304006935e-6,7.659108559222473e-6,7.584662585053859e-6,7.510845240061044e-6,7.437651420706987e-6,7.365076061155746e-6,7.2931141330629125e-6,7.221760645363285e-6,7.1510106440696455e-6,7.080859212061114e-6,7.011301468871523e-6,6.9423325704854056e-6,6.873947709126361e-6,6.806142113046116e-6,6.738911046321212e-6,6.672249808636511e-6,6.606153735079807e-6,6.540618195933657e-6,6.4756385964637464e-6,6.41121037671072e-6,6.347329011282017e-6,6.2839900091409285e-6,6.221188913399818e-6,6.158921301113341e-6,6.097182783065426e-6,6.035969003565263e-6,5.975275640239837e-6,5.9150984038229846e-6,5.8554330379541625e-6,5.7962753189647345e-6,5.737621055678128e-6,5.679466089200976e-6,5.621806292718414e-6,5.564637571286614e-6,5.507955861633636e-6,5.451757131950565e-6,5.396037381690285e-6,5.340792641363475e-6,5.286018972335995e-6,5.23171246663043e-6,5.177869246717927e-6,5.1244854653239045e-6,5.071557305225434e-6,5.019080979050712e-6,4.967052729080603e-6,4.915468827052962e-6,4.864325573960716e-6,4.813619299858964e-6,4.763346363666517e-6,4.713503152968842e-6,4.664086083828624e-6,4.615091600585238e-6,4.5665161756660035e-6,4.51835630939121e-6,4.470608529783289e-6,4.423269392374614e-6,4.3763354800187574e-6,4.32980340269898e-6,4.28366979734088e-6,4.23793132762504e-6,4.192584683796909e-6,4.147626582482912e-6,4.103053766504496e-6,4.058863004692855e-6,4.015051091706441e-6,3.971614847845697e-6,3.928551118871944e-6,3.885856775826981e-6,3.843528714850582e-6,3.8015638570021733e-6,3.7599591480824994e-6,3.718711558455297e-6,3.6778180828696567e-6,3.6372757402851634e-6,3.5970815736935686e-6,3.5572326499487842e-6,3.5177260595906386e-6,3.478558916674175e-6,3.4397283585947976e-6,3.4012315459217308e-6,3.3630656622245524e-6,3.325227913905966e-6,3.2877155300338755e-6,3.2505257621734682e-6,3.2136558842220674e-6,3.177103192243292e-6,3.1408650043019134e-6,3.1049386603014825e-6,3.0693215218212675e-6,3.034010971955271e-6,2.9990044151505534e-6,2.964299277049027e-6,2.929893004325086e-6,2.8957830645315605e-6,2.8619669459435957e-6,2.828442157396972e-6,2.7952062281368383e-6,2.7622567076629756e-6,2.7295911655792216e-6,2.697207191433183e-6,2.665102394573294e-6,2.633274403994774e-6,2.601720868188357e-6,2.5704394549945786e-6,2.5394278514525037e-6,2.5086837636567892e-6,2.478204916611272e-6,2.4479890540797808e-6,2.4180339384452806e-6,2.388337350566234e-6,2.358897089635743e-6,2.329710973035138e-6,2.300776836200059e-6,2.272092532476123e-6,2.2436559329822313e-6,2.2154649264710954e-6,2.1875174191939303e-6,2.1598113347637568e-6,2.1323446140214818e-6,2.105115214900589e-6,2.07812111228975e-6,2.051360297910699e-6,2.024830780174598e-6,1.9985305840612985e-6,1.9724577509805673e-6,1.946610338652733e-6,1.920986420970606e-6,1.8955840878822082e-6,1.8704014452540783e-6,1.8454366147540046e-6,1.8206877337240421e-6,1.7961529550528387e-6,1.7718304470583656e-6,1.747718393362325e-6,1.7238149927701072e-6,1.7001184591500527e-6,1.6766270213127164e-6,1.6533389228936001e-6,1.6302524222358848e-6,1.6073657922703886e-6,1.5846773204024621e-6,1.562185308394721e-6,1.539888072253943e-6,1.5177839421117176e-6,1.4958712621217515e-6,1.474148390335662e-6,1.4526136986037505e-6,1.4312655724521847e-6,1.4101024109816903e-6,1.389122626756529e-6,1.3683246456948635e-6,1.3477069069605115e-6,1.3272678628588616e-6,1.3070059787307085e-6,1.2869197328426181e-6,1.2670076162904783e-6,1.247268132886393e-6,1.2276997990650082e-6,1.2083011437745713e-6,1.1890707083790928e-6,1.170007046554262e-6,1.1511087241923853e-6,1.1323743192989963e-6,1.1138024218984862e-6,1.0953916339314092e-6,1.0771405691601129e-6,1.0590478530743693e-6,1.041112122791455e-6,1.023332026965252e-6,1.0057062256891022e-6,9.882333904076843e-7,9.709122038150117e-7,9.5374135977186e-7,9.36719563207928e-7,9.198455300351024e-7,9.031179870558633e-7,8.865356718737735e-7,8.700973328053537e-7,8.538017287919594e-7,8.37647629313738e-7,8.216338142994227e-7,8.05759074045843e-7,7.900222091263297e-7,7.744220303116121e-7,7.589573584844699e-7,7.436270245529962e-7,7.284298693714951e-7,7.133647436579081e-7,6.984305079119356e-7,6.83626032331076e-7,6.689501967363797e-7,6.5440189049057e-7,6.399800124161646e-7,6.256834707212287e-7,6.115111829174967e-7,5.974620757475134e-7,5.83535085104837e-7,5.697291559611804e-7,5.560432422866145e-7,5.424763069815663e-7,5.290273217942463e-7,5.156952672526481e-7,5.024791325923826e-7,4.893779156789634e-7,4.763906229411928e-7,4.6351626929622233e-7,4.5075387808224496e-7,4.381024809849431e-7,4.255611179694872e-7,4.1312883721045345e-7,4.008046950259035e-7,3.885877558059146e-7,3.764770919480474e-7,3.644717837872634e-7,3.5257091953278074e-7,3.407735952014611e-7,3.290789145498084e-7,3.174859890115188e-7,3.0599393763433666e-7,2.946018870134413e-7,2.83308971228997e-7,2.7211433178509033e-7,2.6101711754450514e-7,2.5001648467043543e-7,2.391115965619538e-7,2.2830162379433681e-7,2.1758574406147243e-7,2.0696314210994036e-7,1.9643300968627634e-7,1.859945454738286e-7,1.756469550358584e-7,1.6538945075655992e-7,1.552212517869365e-7,1.4514158398235092e-7,1.3514967985117736e-7,1.2524477849582087e-7,1.1542612555651237e-7,1.0569297315996078e-7,9.604457985967856e-8,8.648021058532778e-8,7.699913658859674e-8,6.760063538838272e-8,5.828399071597472e-8,4.9048492468562845e-8,4.002216375680953e-8,3.2820018242608055e-8,2.7426166350192167e-8,2.3824856381005254e-8,2.200047331951671e-8,2.1937537662630548e-8,2.3620704248400087e-8,2.7034761102783795e-8,3.216462828917669e-8,3.8995356773901155e-8,4.738340018861549e-8,5.569835633098448e-8,6.394085978922343e-8,7.211153967676039e-8,8.02110196877472e-8,8.823991813661132e-8,9.619884800662798e-8,1.0408841699294143e-7,1.1190922755183093e-7,1.1966187693887483e-7,1.2734695726029827e-7,1.3496505551044331e-7,1.425167536182594e-7,1.5000262849240627e-7,1.5742325205941783e-7,1.6477919130949888e-7,1.7207100833815843e-7,1.7929926038506757e-7,1.864644998798561e-7,1.935672744795826e-7,2.0060812711244953e-7,2.0758759601527305e-7,2.1450621477372885e-7,2.2136451236537304e-7,2.28163013194337e-7,2.34902237134348e-7,2.4158269956342415e-7,2.4820491140828305e-7,2.54769379174873e-7,2.612766049913941e-7,2.677270866443805e-7,2.74121317614089e-7,2.804597871154381e-7,2.867429801292333e-7,2.9297137744310657e-7,2.99145455684129e-7,3.0526568735558714e-7,3.113325408716773e-7,3.1734648059497564e-7,3.233079668676632e-7,3.29217456048302e-7,3.3507540054375407e-7,3.408822488473452e-7,3.466384455652328e-7,3.523444314587333e-7,3.580006434679141e-7,3.6360751475322706e-7,3.691654747204888e-7,3.7467494905696245e-7,3.8013635976397077e-7,3.8555012518395786e-7,3.909166600393467e-7,3.962363754547439e-7,4.015096789957974e-7,4.0673697469417636e-7,4.119186630808781e-7,4.170551412146774e-7,4.221468027140453e-7,4.271940377842111e-7,4.321972332476932e-7,4.371567725734428e-7,4.420730359052928e-7,4.469464000917957e-7,4.517772387125908e-7,4.5656592210616033e-7,4.613128174024418e-7,4.6601828854295105e-7,4.7068269631478266e-7],\"type\":\"scatter\",\"xaxis\":\"x\",\"yaxis\":\"y2\"}],                        {\"template\":{\"data\":{\"barpolar\":[{\"marker\":{\"line\":{\"color\":\"white\",\"width\":0.5},\"pattern\":{\"fillmode\":\"overlay\",\"size\":10,\"solidity\":0.2}},\"type\":\"barpolar\"}],\"bar\":[{\"error_x\":{\"color\":\"#2a3f5f\"},\"error_y\":{\"color\":\"#2a3f5f\"},\"marker\":{\"line\":{\"color\":\"white\",\"width\":0.5},\"pattern\":{\"fillmode\":\"overlay\",\"size\":10,\"solidity\":0.2}},\"type\":\"bar\"}],\"carpet\":[{\"aaxis\":{\"endlinecolor\":\"#2a3f5f\",\"gridcolor\":\"#C8D4E3\",\"linecolor\":\"#C8D4E3\",\"minorgridcolor\":\"#C8D4E3\",\"startlinecolor\":\"#2a3f5f\"},\"baxis\":{\"endlinecolor\":\"#2a3f5f\",\"gridcolor\":\"#C8D4E3\",\"linecolor\":\"#C8D4E3\",\"minorgridcolor\":\"#C8D4E3\",\"startlinecolor\":\"#2a3f5f\"},\"type\":\"carpet\"}],\"choropleth\":[{\"colorbar\":{\"outlinewidth\":0,\"ticks\":\"\"},\"type\":\"choropleth\"}],\"contourcarpet\":[{\"colorbar\":{\"outlinewidth\":0,\"ticks\":\"\"},\"type\":\"contourcarpet\"}],\"contour\":[{\"colorbar\":{\"outlinewidth\":0,\"ticks\":\"\"},\"colorscale\":[[0.0,\"#0d0887\"],[0.1111111111111111,\"#46039f\"],[0.2222222222222222,\"#7201a8\"],[0.3333333333333333,\"#9c179e\"],[0.4444444444444444,\"#bd3786\"],[0.5555555555555556,\"#d8576b\"],[0.6666666666666666,\"#ed7953\"],[0.7777777777777778,\"#fb9f3a\"],[0.8888888888888888,\"#fdca26\"],[1.0,\"#f0f921\"]],\"type\":\"contour\"}],\"heatmapgl\":[{\"colorbar\":{\"outlinewidth\":0,\"ticks\":\"\"},\"colorscale\":[[0.0,\"#0d0887\"],[0.1111111111111111,\"#46039f\"],[0.2222222222222222,\"#7201a8\"],[0.3333333333333333,\"#9c179e\"],[0.4444444444444444,\"#bd3786\"],[0.5555555555555556,\"#d8576b\"],[0.6666666666666666,\"#ed7953\"],[0.7777777777777778,\"#fb9f3a\"],[0.8888888888888888,\"#fdca26\"],[1.0,\"#f0f921\"]],\"type\":\"heatmapgl\"}],\"heatmap\":[{\"colorbar\":{\"outlinewidth\":0,\"ticks\":\"\"},\"colorscale\":[[0.0,\"#0d0887\"],[0.1111111111111111,\"#46039f\"],[0.2222222222222222,\"#7201a8\"],[0.3333333333333333,\"#9c179e\"],[0.4444444444444444,\"#bd3786\"],[0.5555555555555556,\"#d8576b\"],[0.6666666666666666,\"#ed7953\"],[0.7777777777777778,\"#fb9f3a\"],[0.8888888888888888,\"#fdca26\"],[1.0,\"#f0f921\"]],\"type\":\"heatmap\"}],\"histogram2dcontour\":[{\"colorbar\":{\"outlinewidth\":0,\"ticks\":\"\"},\"colorscale\":[[0.0,\"#0d0887\"],[0.1111111111111111,\"#46039f\"],[0.2222222222222222,\"#7201a8\"],[0.3333333333333333,\"#9c179e\"],[0.4444444444444444,\"#bd3786\"],[0.5555555555555556,\"#d8576b\"],[0.6666666666666666,\"#ed7953\"],[0.7777777777777778,\"#fb9f3a\"],[0.8888888888888888,\"#fdca26\"],[1.0,\"#f0f921\"]],\"type\":\"histogram2dcontour\"}],\"histogram2d\":[{\"colorbar\":{\"outlinewidth\":0,\"ticks\":\"\"},\"colorscale\":[[0.0,\"#0d0887\"],[0.1111111111111111,\"#46039f\"],[0.2222222222222222,\"#7201a8\"],[0.3333333333333333,\"#9c179e\"],[0.4444444444444444,\"#bd3786\"],[0.5555555555555556,\"#d8576b\"],[0.6666666666666666,\"#ed7953\"],[0.7777777777777778,\"#fb9f3a\"],[0.8888888888888888,\"#fdca26\"],[1.0,\"#f0f921\"]],\"type\":\"histogram2d\"}],\"histogram\":[{\"marker\":{\"pattern\":{\"fillmode\":\"overlay\",\"size\":10,\"solidity\":0.2}},\"type\":\"histogram\"}],\"mesh3d\":[{\"colorbar\":{\"outlinewidth\":0,\"ticks\":\"\"},\"type\":\"mesh3d\"}],\"parcoords\":[{\"line\":{\"colorbar\":{\"outlinewidth\":0,\"ticks\":\"\"}},\"type\":\"parcoords\"}],\"pie\":[{\"automargin\":true,\"type\":\"pie\"}],\"scatter3d\":[{\"line\":{\"colorbar\":{\"outlinewidth\":0,\"ticks\":\"\"}},\"marker\":{\"colorbar\":{\"outlinewidth\":0,\"ticks\":\"\"}},\"type\":\"scatter3d\"}],\"scattercarpet\":[{\"marker\":{\"colorbar\":{\"outlinewidth\":0,\"ticks\":\"\"}},\"type\":\"scattercarpet\"}],\"scattergeo\":[{\"marker\":{\"colorbar\":{\"outlinewidth\":0,\"ticks\":\"\"}},\"type\":\"scattergeo\"}],\"scattergl\":[{\"marker\":{\"colorbar\":{\"outlinewidth\":0,\"ticks\":\"\"}},\"type\":\"scattergl\"}],\"scattermapbox\":[{\"marker\":{\"colorbar\":{\"outlinewidth\":0,\"ticks\":\"\"}},\"type\":\"scattermapbox\"}],\"scatterpolargl\":[{\"marker\":{\"colorbar\":{\"outlinewidth\":0,\"ticks\":\"\"}},\"type\":\"scatterpolargl\"}],\"scatterpolar\":[{\"marker\":{\"colorbar\":{\"outlinewidth\":0,\"ticks\":\"\"}},\"type\":\"scatterpolar\"}],\"scatter\":[{\"fillpattern\":{\"fillmode\":\"overlay\",\"size\":10,\"solidity\":0.2},\"type\":\"scatter\"}],\"scatterternary\":[{\"marker\":{\"colorbar\":{\"outlinewidth\":0,\"ticks\":\"\"}},\"type\":\"scatterternary\"}],\"surface\":[{\"colorbar\":{\"outlinewidth\":0,\"ticks\":\"\"},\"colorscale\":[[0.0,\"#0d0887\"],[0.1111111111111111,\"#46039f\"],[0.2222222222222222,\"#7201a8\"],[0.3333333333333333,\"#9c179e\"],[0.4444444444444444,\"#bd3786\"],[0.5555555555555556,\"#d8576b\"],[0.6666666666666666,\"#ed7953\"],[0.7777777777777778,\"#fb9f3a\"],[0.8888888888888888,\"#fdca26\"],[1.0,\"#f0f921\"]],\"type\":\"surface\"}],\"table\":[{\"cells\":{\"fill\":{\"color\":\"#EBF0F8\"},\"line\":{\"color\":\"white\"}},\"header\":{\"fill\":{\"color\":\"#C8D4E3\"},\"line\":{\"color\":\"white\"}},\"type\":\"table\"}]},\"layout\":{\"annotationdefaults\":{\"arrowcolor\":\"#2a3f5f\",\"arrowhead\":0,\"arrowwidth\":1},\"autotypenumbers\":\"strict\",\"coloraxis\":{\"colorbar\":{\"outlinewidth\":0,\"ticks\":\"\"}},\"colorscale\":{\"diverging\":[[0,\"#8e0152\"],[0.1,\"#c51b7d\"],[0.2,\"#de77ae\"],[0.3,\"#f1b6da\"],[0.4,\"#fde0ef\"],[0.5,\"#f7f7f7\"],[0.6,\"#e6f5d0\"],[0.7,\"#b8e186\"],[0.8,\"#7fbc41\"],[0.9,\"#4d9221\"],[1,\"#276419\"]],\"sequential\":[[0.0,\"#0d0887\"],[0.1111111111111111,\"#46039f\"],[0.2222222222222222,\"#7201a8\"],[0.3333333333333333,\"#9c179e\"],[0.4444444444444444,\"#bd3786\"],[0.5555555555555556,\"#d8576b\"],[0.6666666666666666,\"#ed7953\"],[0.7777777777777778,\"#fb9f3a\"],[0.8888888888888888,\"#fdca26\"],[1.0,\"#f0f921\"]],\"sequentialminus\":[[0.0,\"#0d0887\"],[0.1111111111111111,\"#46039f\"],[0.2222222222222222,\"#7201a8\"],[0.3333333333333333,\"#9c179e\"],[0.4444444444444444,\"#bd3786\"],[0.5555555555555556,\"#d8576b\"],[0.6666666666666666,\"#ed7953\"],[0.7777777777777778,\"#fb9f3a\"],[0.8888888888888888,\"#fdca26\"],[1.0,\"#f0f921\"]]},\"colorway\":[\"#636efa\",\"#EF553B\",\"#00cc96\",\"#ab63fa\",\"#FFA15A\",\"#19d3f3\",\"#FF6692\",\"#B6E880\",\"#FF97FF\",\"#FECB52\"],\"font\":{\"color\":\"#2a3f5f\"},\"geo\":{\"bgcolor\":\"white\",\"lakecolor\":\"white\",\"landcolor\":\"white\",\"showlakes\":true,\"showland\":true,\"subunitcolor\":\"#C8D4E3\"},\"hoverlabel\":{\"align\":\"left\"},\"hovermode\":\"closest\",\"mapbox\":{\"style\":\"light\"},\"paper_bgcolor\":\"white\",\"plot_bgcolor\":\"white\",\"polar\":{\"angularaxis\":{\"gridcolor\":\"#EBF0F8\",\"linecolor\":\"#EBF0F8\",\"ticks\":\"\"},\"bgcolor\":\"white\",\"radialaxis\":{\"gridcolor\":\"#EBF0F8\",\"linecolor\":\"#EBF0F8\",\"ticks\":\"\"}},\"scene\":{\"xaxis\":{\"backgroundcolor\":\"white\",\"gridcolor\":\"#DFE8F3\",\"gridwidth\":2,\"linecolor\":\"#EBF0F8\",\"showbackground\":true,\"ticks\":\"\",\"zerolinecolor\":\"#EBF0F8\"},\"yaxis\":{\"backgroundcolor\":\"white\",\"gridcolor\":\"#DFE8F3\",\"gridwidth\":2,\"linecolor\":\"#EBF0F8\",\"showbackground\":true,\"ticks\":\"\",\"zerolinecolor\":\"#EBF0F8\"},\"zaxis\":{\"backgroundcolor\":\"white\",\"gridcolor\":\"#DFE8F3\",\"gridwidth\":2,\"linecolor\":\"#EBF0F8\",\"showbackground\":true,\"ticks\":\"\",\"zerolinecolor\":\"#EBF0F8\"}},\"shapedefaults\":{\"line\":{\"color\":\"#2a3f5f\"}},\"ternary\":{\"aaxis\":{\"gridcolor\":\"#DFE8F3\",\"linecolor\":\"#A2B1C6\",\"ticks\":\"\"},\"baxis\":{\"gridcolor\":\"#DFE8F3\",\"linecolor\":\"#A2B1C6\",\"ticks\":\"\"},\"bgcolor\":\"white\",\"caxis\":{\"gridcolor\":\"#DFE8F3\",\"linecolor\":\"#A2B1C6\",\"ticks\":\"\"}},\"title\":{\"x\":0.05},\"xaxis\":{\"automargin\":true,\"gridcolor\":\"#EBF0F8\",\"linecolor\":\"#EBF0F8\",\"ticks\":\"\",\"title\":{\"standoff\":15},\"zerolinecolor\":\"#EBF0F8\",\"zerolinewidth\":2},\"yaxis\":{\"automargin\":true,\"gridcolor\":\"#EBF0F8\",\"linecolor\":\"#EBF0F8\",\"ticks\":\"\",\"title\":{\"standoff\":15},\"zerolinecolor\":\"#EBF0F8\",\"zerolinewidth\":2}}},\"xaxis\":{\"anchor\":\"y\",\"domain\":[0.0,0.94],\"title\":{\"text\":\"Шаг\"}},\"yaxis\":{\"anchor\":\"x\",\"domain\":[0.0,1.0],\"title\":{\"text\":\"Количество Клиентв\"}},\"yaxis2\":{\"anchor\":\"x\",\"overlaying\":\"y\",\"side\":\"right\",\"title\":{\"text\":\"Customer MAE\"}},\"legend\":{\"x\":0.02,\"y\":0.98},\"title\":{\"text\":\"Сходимость по MAE\"}},                        {\"responsive\": true}                    ).then(function(){\n",
              "                            \n",
              "var gd = document.getElementById('c306ed93-bb00-44fe-b32d-f394adffc637');\n",
              "var x = new MutationObserver(function (mutations, observer) {{\n",
              "        var display = window.getComputedStyle(gd).display;\n",
              "        if (!display || display === 'none') {{\n",
              "            console.log([gd, 'removed!']);\n",
              "            Plotly.purge(gd);\n",
              "            observer.disconnect();\n",
              "        }}\n",
              "}});\n",
              "\n",
              "// Listen for the removal of the full notebook cells\n",
              "var notebookContainer = gd.closest('#notebook-container');\n",
              "if (notebookContainer) {{\n",
              "    x.observe(notebookContainer, {childList: true});\n",
              "}}\n",
              "\n",
              "// Listen for the clearing of the current output cell\n",
              "var outputEl = gd.closest('.output');\n",
              "if (outputEl) {{\n",
              "    x.observe(outputEl, {childList: true});\n",
              "}}\n",
              "\n",
              "                        })                };                            </script>        </div>\n",
              "</body>\n",
              "</html>"
            ]
          },
          "metadata": {}
        }
      ]
    },
    {
      "cell_type": "markdown",
      "source": [
        "**Сходимость происходит на 420 шаге**"
      ],
      "metadata": {
        "id": "UBAgOxFdKwSv"
      },
      "id": "UBAgOxFdKwSv"
    },
    {
      "cell_type": "markdown",
      "source": [
        "Реализуем функции, которые позволят построить модели (функция, которая позволяет задавать изначальные параметры для моделирования; функция, которая позволяет генерировать обучающие данные; функция, которая учитывает все p-показатели и функция, которая учитывает p-показатели частично-перебираются параметры для довольных и недовольных, остальные задаются const). Генерация данных происходит следующим образом: Мы последовательно перебираем параметры из сгенерированной сетки, вычисляем значение модели для каждого набора и записываем результаты в список."
      ],
      "metadata": {
        "id": "K7oI4zDMmQ-X"
      },
      "id": "K7oI4zDMmQ-X"
    },
    {
      "cell_type": "code",
      "source": [
        "import pandas as pd\n",
        "def run_model_with_convergence(\n",
        "    model,\n",
        "    parameters: list,\n",
        "    total_population: int = 100000,\n",
        "    convergence_threshold: float = 1e-6,\n",
        "    rolling_window: int = 5\n",
        "):\n",
        "    parameter_keys = ['p_11', 'p_13', 'p_21', 'p_23']\n",
        "    return_columns = ['Potential Customers', 'Customers', 'Customers Competitors']\n",
        "    model_results = model.run(params=dict(zip(parameter_keys, parameters)), return_columns=return_columns)\n",
        "    normalized_results = model_results / total_population\n",
        "    normalized_results['potential_customers_delta'] = normalized_results['Potential Customers'].diff().abs()\n",
        "    normalized_results['customers_delta'] = normalized_results['Customers'].diff().abs()\n",
        "    normalized_results['competitors_delta'] = normalized_results['Customers Competitors'].diff().abs()\n",
        "\n",
        "    normalized_results['mae_customers'] = (\n",
        "    normalized_results['customers_delta']\n",
        "    .expanding(min_periods=1)\n",
        "    .apply(lambda x: np.abs(x).mean(), raw=True))\n",
        "\n",
        "    normalized_results['mae_competitors'] = (\n",
        "    normalized_results['competitors_delta']\n",
        "    .expanding(min_periods=1)\n",
        "    .apply(lambda x: np.abs(x).mean(), raw=True))\n",
        "\n",
        "    normalized_results['customers_converged'] = normalized_results['mae_customers'] < convergence_threshold\n",
        "    normalized_results['competitors_converged'] = normalized_results['mae_competitors'] < convergence_threshold\n",
        "    converge_index = normalized_results['customers_converged'].idxmax()\n",
        "\n",
        "    final_customers = normalized_results['Customers'].iloc[-1]\n",
        "    final_competitors = normalized_results['Customers Competitors'].iloc[-1]\n",
        "\n",
        "    return converge_index, final_customers, final_competitors, normalized_results"
      ],
      "metadata": {
        "id": "iNTigoHhYfuq"
      },
      "id": "iNTigoHhYfuq",
      "execution_count": 9,
      "outputs": []
    },
    {
      "cell_type": "code",
      "source": [
        "from tqdm import tqdm  # Для отображения прогресса\n",
        "\n",
        "def generate_training_data(model, valid_parameters: list[tuple], total_population: int = 100000):\n",
        "    return [\n",
        "        [params, run_model_with_convergence(model, params, total_population)[1]]\n",
        "        for params in tqdm(valid_parameters, desc=\"Generating training data\")\n",
        "    ]"
      ],
      "metadata": {
        "id": "mCGboi6Hrias"
      },
      "id": "mCGboi6Hrias",
      "execution_count": 52,
      "outputs": []
    },
    {
      "cell_type": "code",
      "source": [
        "import numpy as np\n",
        "import itertools\n",
        "\n",
        "import numpy as np\n",
        "import itertools\n",
        "\n",
        "def generate_valid_parameters(step: float):\n",
        "    parameter_values = np.arange(0, 1 + step, step)\n",
        "\n",
        "    for p_11, p_13, p_21, p_23 in itertools.product(parameter_values, repeat=4):\n",
        "        if (0 <= p_11 + p_13 <= 1) and (0 <= p_21 + p_23 <= 1):\n",
        "            yield (p_11, p_13, p_21, p_23)"
      ],
      "metadata": {
        "id": "MTQH8lY797OF"
      },
      "id": "MTQH8lY797OF",
      "execution_count": 53,
      "outputs": []
    },
    {
      "cell_type": "code",
      "source": [
        "import numpy as np\n",
        "import itertools\n",
        "\n",
        "import itertools\n",
        "import numpy as np\n",
        "\n",
        "def generate_partial_parameters(step: float, static_params: list) -> list[tuple]:\n",
        "    p_21, p_23 = static_params\n",
        "    parameter_values = np.arange(0.1, 0.6, step)\n",
        "    all_combinations = itertools.product(parameter_values, repeat=2)\n",
        "\n",
        "    def is_valid(params):\n",
        "        p_11, p_13 = params\n",
        "        return 0 <= p_11 + p_13 <= 1\n",
        "\n",
        "    return [(p_11, p_13, p_21, p_23) for p_11, p_13 in filter(is_valid, all_combinations)]"
      ],
      "metadata": {
        "id": "S2ETKqzsGkon"
      },
      "id": "S2ETKqzsGkon",
      "execution_count": 54,
      "outputs": []
    },
    {
      "cell_type": "markdown",
      "source": [
        "Строим модели машинного обучения. По условию MAE на тестовой выборке должен удовлетворять MAE <= 0.07. Будет построено несколько моделей машинного обучения с различным гиперапараметрами и выбрана лучшая модель. Для построения предсказаний используется линейная регрессия."
      ],
      "metadata": {
        "id": "0o0FeU5HnSxj"
      },
      "id": "0o0FeU5HnSxj"
    },
    {
      "cell_type": "markdown",
      "source": [
        "**МОДЕЛЬ 1**"
      ],
      "metadata": {
        "id": "jeHh7NcboGys"
      },
      "id": "jeHh7NcboGys"
    },
    {
      "cell_type": "code",
      "source": [
        "params = generate_valid_parameters(step=0.09)\n",
        "train_model1 = generate_training_data(model, params)\n",
        "for params, final_customers in train_model1[:5]:\n",
        "    print(f\"Parameters: {params}, Final Customers: {final_customers:.3f}\")"
      ],
      "metadata": {
        "colab": {
          "base_uri": "https://localhost:8080/"
        },
        "id": "d7e3RY5Ne3Vi",
        "outputId": "fa8a3af2-7757-4e98-e61d-5e24a8e50792"
      },
      "id": "d7e3RY5Ne3Vi",
      "execution_count": 13,
      "outputs": [
        {
          "output_type": "stream",
          "name": "stderr",
          "text": [
            "Generating training data: 6084it [08:02, 12.60it/s]"
          ]
        },
        {
          "output_type": "stream",
          "name": "stdout",
          "text": [
            "Parameters: (np.float64(0.0), np.float64(0.0), np.float64(0.0), np.float64(0.0)), Final Customers: 0.334\n",
            "Parameters: (np.float64(0.0), np.float64(0.0), np.float64(0.0), np.float64(0.09)), Final Customers: 0.414\n",
            "Parameters: (np.float64(0.0), np.float64(0.0), np.float64(0.0), np.float64(0.18)), Final Customers: 0.419\n",
            "Parameters: (np.float64(0.0), np.float64(0.0), np.float64(0.0), np.float64(0.27)), Final Customers: 0.420\n",
            "Parameters: (np.float64(0.0), np.float64(0.0), np.float64(0.0), np.float64(0.36)), Final Customers: 0.421\n"
          ]
        },
        {
          "output_type": "stream",
          "name": "stderr",
          "text": [
            "\n"
          ]
        }
      ]
    },
    {
      "cell_type": "code",
      "source": [
        "import numpy as np\n",
        "import itertools\n",
        "from sklearn.linear_model import LinearRegression\n",
        "from sklearn.metrics import mean_absolute_error, mean_squared_error\n",
        "from tqdm import tqdm\n",
        "X = np.array([params for params, _ in train_model1])\n",
        "y = np.array([final_customers for _, final_customers in train_model1])\n",
        "\n",
        "linear_reg_model = LinearRegression()\n",
        "linear_reg_model.fit(X, y)\n",
        "\n",
        "\n",
        "y_pred = linear_reg_model.predict(X)\n",
        "\n",
        "mae = mean_absolute_error(y, y_pred)\n",
        "mse = mean_squared_error(y, y_pred)\n",
        "\n",
        "print(f\"\\nMean Absolute Error (MAE): {mae:.3f}\")\n",
        "print(f\"Mean Squared Error (MSE): {mse:.3f}\")\n",
        "\n",
        "print(\"\\nModel Coefficients:\")\n",
        "for i, coef in enumerate(linear_reg_model.coef_):\n",
        "    print(f\"  Parameter {i+1}: {coef:.3f}\")\n",
        "print(f\"Intercept: {linear_reg_model.intercept_:.3f}\")"
      ],
      "metadata": {
        "colab": {
          "base_uri": "https://localhost:8080/"
        },
        "id": "EfbBGU6pUjD2",
        "outputId": "28b6dfd5-c7ed-4d68-c9cc-0e71f9255bb6"
      },
      "id": "EfbBGU6pUjD2",
      "execution_count": 55,
      "outputs": [
        {
          "output_type": "stream",
          "name": "stdout",
          "text": [
            "\n",
            "Mean Absolute Error (MAE): 0.207\n",
            "Mean Squared Error (MSE): 0.065\n",
            "\n",
            "Model Coefficients:\n",
            "  Parameter 1: 0.376\n",
            "  Parameter 2: -0.620\n",
            "  Parameter 3: -0.110\n",
            "  Parameter 4: 0.069\n",
            "Intercept: 0.288\n"
          ]
        }
      ]
    },
    {
      "cell_type": "markdown",
      "source": [
        "**МОДЕЛЬ 2**"
      ],
      "metadata": {
        "id": "v90YShsNoVQs"
      },
      "id": "v90YShsNoVQs"
    },
    {
      "cell_type": "code",
      "source": [
        "params = generate_valid_parameters(step=0.1)\n",
        "train_model2 = generate_training_data(model, params)\n",
        "for params, final_customers in train_model2[:5]:\n",
        "    print(f\"Parameters: {params}, Final Customers: {final_customers:.3f}\")"
      ],
      "metadata": {
        "colab": {
          "base_uri": "https://localhost:8080/"
        },
        "id": "EggAam5044TH",
        "outputId": "061c6c75-a78e-42e8-f487-2af9630217a2"
      },
      "id": "EggAam5044TH",
      "execution_count": 27,
      "outputs": [
        {
          "output_type": "stream",
          "name": "stderr",
          "text": [
            "Generating training data: 4356it [05:32, 13.09it/s]"
          ]
        },
        {
          "output_type": "stream",
          "name": "stdout",
          "text": [
            "Parameters: (np.float64(0.0), np.float64(0.0), np.float64(0.0), np.float64(0.0)), Final Customers: 0.334\n",
            "Parameters: (np.float64(0.0), np.float64(0.0), np.float64(0.0), np.float64(0.1)), Final Customers: 0.415\n",
            "Parameters: (np.float64(0.0), np.float64(0.0), np.float64(0.0), np.float64(0.2)), Final Customers: 0.419\n",
            "Parameters: (np.float64(0.0), np.float64(0.0), np.float64(0.0), np.float64(0.30000000000000004)), Final Customers: 0.420\n",
            "Parameters: (np.float64(0.0), np.float64(0.0), np.float64(0.0), np.float64(0.4)), Final Customers: 0.421\n"
          ]
        },
        {
          "output_type": "stream",
          "name": "stderr",
          "text": [
            "\n"
          ]
        }
      ]
    },
    {
      "cell_type": "code",
      "source": [
        "import numpy as np\n",
        "import itertools\n",
        "from sklearn.linear_model import LinearRegression\n",
        "from sklearn.metrics import mean_absolute_error, mean_squared_error\n",
        "from tqdm import tqdm\n",
        "\n",
        "X = np.array([params for params, _ in train_model2])\n",
        "y = np.array([final_customers for _, final_customers in train_model2])\n",
        "\n",
        "linear_reg_model = LinearRegression()\n",
        "linear_reg_model.fit(X, y)\n",
        "\n",
        "y_pred = linear_reg_model.predict(X)\n",
        "\n",
        "mae = mean_absolute_error(y, y_pred)\n",
        "mse = mean_squared_error(y, y_pred)\n",
        "\n",
        "print(f\"\\nMean Absolute Error (MAE): {mae:.3f}\")\n",
        "print(f\"Mean Squared Error (MSE): {mse:.3f}\")\n",
        "\n",
        "print(\"\\nModel Coefficients:\")\n",
        "for i, coef in enumerate(linear_reg_model.coef_):\n",
        "    print(f\"  Parameter {i+1}: {coef:.3f}\")\n",
        "print(f\"Intercept: {linear_reg_model.intercept_:.3f}\")"
      ],
      "metadata": {
        "colab": {
          "base_uri": "https://localhost:8080/"
        },
        "id": "QO2PZNh-UxQa",
        "outputId": "9cf781b5-01ad-410a-927d-fc2f98de3a01"
      },
      "id": "QO2PZNh-UxQa",
      "execution_count": 28,
      "outputs": [
        {
          "output_type": "stream",
          "name": "stdout",
          "text": [
            "\n",
            "Mean Absolute Error (MAE): 0.211\n",
            "Mean Squared Error (MSE): 0.067\n",
            "\n",
            "Model Coefficients:\n",
            "  Parameter 1: 0.369\n",
            "  Parameter 2: -0.624\n",
            "  Parameter 3: -0.111\n",
            "  Parameter 4: 0.070\n",
            "Intercept: 0.298\n"
          ]
        }
      ]
    },
    {
      "cell_type": "markdown",
      "source": [
        "**МОДЕЛЬ 3**"
      ],
      "metadata": {
        "id": "KzK1bzVhqH96"
      },
      "id": "KzK1bzVhqH96"
    },
    {
      "cell_type": "code",
      "source": [
        "params = generate_partial_parameters(0.01, static_params=[0.4, 0.12])\n",
        "train_model3 = generate_training_data(model, params)\n",
        "for params, final_customers in train_model3[:5]:\n",
        "    print(f\"Parameters: {params}, Final Customers: {final_customers:.3f}\")"
      ],
      "metadata": {
        "colab": {
          "base_uri": "https://localhost:8080/"
        },
        "id": "F0m6jyE-iHko",
        "outputId": "1df10898-bb69-4087-9d70-1dd703de54b2"
      },
      "id": "F0m6jyE-iHko",
      "execution_count": 29,
      "outputs": [
        {
          "output_type": "stream",
          "name": "stderr",
          "text": [
            "Generating training data: 100%|██████████| 2329/2329 [03:05<00:00, 12.53it/s]"
          ]
        },
        {
          "output_type": "stream",
          "name": "stdout",
          "text": [
            "Parameters: (np.float64(0.1), np.float64(0.1), 0.4, 0.12), Final Customers: 0.024\n",
            "Parameters: (np.float64(0.1), np.float64(0.11), 0.4, 0.12), Final Customers: 0.021\n",
            "Parameters: (np.float64(0.1), np.float64(0.12), 0.4, 0.12), Final Customers: 0.019\n",
            "Parameters: (np.float64(0.1), np.float64(0.13), 0.4, 0.12), Final Customers: 0.017\n",
            "Parameters: (np.float64(0.1), np.float64(0.13999999999999999), 0.4, 0.12), Final Customers: 0.016\n"
          ]
        },
        {
          "output_type": "stream",
          "name": "stderr",
          "text": [
            "\n"
          ]
        }
      ]
    },
    {
      "cell_type": "code",
      "source": [
        "X = np.array([params for params, _ in train_model3])\n",
        "y = np.array([final_customers for _, final_customers in train_model3])\n",
        "\n",
        "linear_reg_model = LinearRegression()\n",
        "linear_reg_model.fit(X, y)\n",
        "\n",
        "y_pred = linear_reg_model.predict(X)\n",
        "\n",
        "mae = mean_absolute_error(y, y_pred)\n",
        "mse = mean_squared_error(y, y_pred)\n",
        "\n",
        "print(f\"\\nMean Absolute Error (MAE): {mae:.3f}\")\n",
        "print(f\"Mean Squared Error (MSE): {mse:.3f}\")\n",
        "\n",
        "print(\"\\nModel Coefficients:\")\n",
        "for i, coef in enumerate(linear_reg_model.coef_):\n",
        "    print(f\"  Parameter {i+1}: {coef:.3f}\")\n",
        "print(f\"Intercept: {linear_reg_model.intercept_:.3f}\")"
      ],
      "metadata": {
        "colab": {
          "base_uri": "https://localhost:8080/"
        },
        "id": "DfFslKD6U8jV",
        "outputId": "644adc1c-5789-4764-d2d0-471350b05075"
      },
      "id": "DfFslKD6U8jV",
      "execution_count": 56,
      "outputs": [
        {
          "output_type": "stream",
          "name": "stdout",
          "text": [
            "\n",
            "Mean Absolute Error (MAE): 0.032\n",
            "Mean Squared Error (MSE): 0.003\n",
            "\n",
            "Model Coefficients:\n",
            "  Parameter 1: 0.131\n",
            "  Parameter 2: -0.201\n",
            "  Parameter 3: 0.000\n",
            "  Parameter 4: -0.000\n",
            "Intercept: 0.051\n"
          ]
        }
      ]
    },
    {
      "cell_type": "markdown",
      "source": [
        "**МОДЕЛЬ 4**"
      ],
      "metadata": {
        "id": "lKEwiuOYrV26"
      },
      "id": "lKEwiuOYrV26"
    },
    {
      "cell_type": "code",
      "source": [
        "params = generate_partial_parameters(0.007, static_params=[0.4, 0.12])\n",
        "train_model4 = generate_training_data(model, params)\n",
        "for params, final_customers in train_model4[:5]:\n",
        "    print(f\"Parameters: {params}, Final Customers: {final_customers:.3f}\")"
      ],
      "metadata": {
        "colab": {
          "base_uri": "https://localhost:8080/"
        },
        "id": "8gcTnKfx8jDu",
        "outputId": "f076930f-f055-490b-a82e-c20c58d8c955"
      },
      "id": "8gcTnKfx8jDu",
      "execution_count": 31,
      "outputs": [
        {
          "output_type": "stream",
          "name": "stderr",
          "text": [
            "Generating training data: 100%|██████████| 4778/4778 [06:08<00:00, 12.96it/s]"
          ]
        },
        {
          "output_type": "stream",
          "name": "stdout",
          "text": [
            "Parameters: (np.float64(0.1), np.float64(0.1), 0.4, 0.12), Final Customers: 0.024\n",
            "Parameters: (np.float64(0.1), np.float64(0.10700000000000001), 0.4, 0.12), Final Customers: 0.022\n",
            "Parameters: (np.float64(0.1), np.float64(0.11400000000000002), 0.4, 0.12), Final Customers: 0.020\n",
            "Parameters: (np.float64(0.1), np.float64(0.12100000000000002), 0.4, 0.12), Final Customers: 0.019\n",
            "Parameters: (np.float64(0.1), np.float64(0.12800000000000003), 0.4, 0.12), Final Customers: 0.018\n"
          ]
        },
        {
          "output_type": "stream",
          "name": "stderr",
          "text": [
            "\n"
          ]
        }
      ]
    },
    {
      "cell_type": "code",
      "source": [
        "X = np.array([params for params, _ in train_model4])\n",
        "y = np.array([final_customers for _, final_customers in train_model4])\n",
        "\n",
        "linear_reg_model = LinearRegression()\n",
        "linear_reg_model.fit(X, y)\n",
        "\n",
        "y_pred = linear_reg_model.predict(X)\n",
        "\n",
        "mae = mean_absolute_error(y, y_pred)\n",
        "mse = mean_squared_error(y, y_pred)\n",
        "\n",
        "print(f\"\\nMean Absolute Error (MAE): {mae:.3f}\")\n",
        "print(f\"Mean Squared Error (MSE): {mse:.3f}\")\n",
        "\n",
        "print(\"\\nModel Coefficients:\")\n",
        "for i, coef in enumerate(linear_reg_model.coef_):\n",
        "    print(f\"  Parameter {i+1}: {coef:.3f}\")\n",
        "print(f\"Intercept: {linear_reg_model.intercept_:.3f}\")"
      ],
      "metadata": {
        "colab": {
          "base_uri": "https://localhost:8080/"
        },
        "id": "qrYh2aYgVFjX",
        "outputId": "cd30ae57-51e4-4aad-da03-eedaf5ad9b90"
      },
      "id": "qrYh2aYgVFjX",
      "execution_count": 32,
      "outputs": [
        {
          "output_type": "stream",
          "name": "stdout",
          "text": [
            "\n",
            "Mean Absolute Error (MAE): 0.032\n",
            "Mean Squared Error (MSE): 0.003\n",
            "\n",
            "Model Coefficients:\n",
            "  Parameter 1: 0.130\n",
            "  Parameter 2: -0.196\n",
            "  Parameter 3: -0.000\n",
            "  Parameter 4: -0.000\n",
            "Intercept: 0.050\n"
          ]
        }
      ]
    },
    {
      "cell_type": "markdown",
      "source": [
        "Модели 3 и 4 позволяют добиться MAE <= 0.07. Модели используют лишь p11 и p13, поэтому подберем такие p11 и p13, при которых доля занимаего рынка составить 0.033. p21 и p23 зададим const, как и при реализации функции generate_partial_parameters."
      ],
      "metadata": {
        "id": "FiqWj3ZytLVc"
      },
      "id": "FiqWj3ZytLVc"
    },
    {
      "cell_type": "code",
      "source": [
        "import numpy as np\n",
        "\n",
        "def find_p11_linear(p13, p21, p23):\n",
        "    # Линейное уравнение: w1 * p11 + w2 * p13 + w3 * p21 + w4 * p23 + w0 - y = 0\n",
        "    # Решаем относительно p11: p11 = (y - w0 - w2 * p13 - w3 * p21 - w4 * p23) / w1\n",
        "    if w1 != 0:\n",
        "        p11 = (y - w0 - w2 * p13 - w3 * p21 - w4 * p23) / w1\n",
        "        return p11, None\n",
        "    return None, None\n",
        "\n",
        "def is_valid_combination(p11, p13):\n",
        "    return p11 is not None and 0 <= p11 and p11 + p13 <= 1\n",
        "\n",
        "# Коэффициенты модели\n",
        "w0 = linear_reg_model.intercept_\n",
        "w1, w2, w3, w4 = linear_reg_model.coef_\n",
        "y = 0.033\n",
        "\n",
        "fixed_p21, fixed_p23 = 0.4, 0.12\n",
        "\n",
        "\n",
        "p13_values = np.linspace(0.1, 0.6, 1000)\n",
        "\n",
        "\n",
        "valid_p13_values = []\n",
        "valid_p11_values = []\n",
        "\n",
        "\n",
        "for p13 in p13_values:\n",
        "    p11, _ = find_p11_linear(p13, fixed_p21, fixed_p23)\n",
        "\n",
        "    if is_valid_combination(p11, p13):\n",
        "        valid_p13_values.append(p13)\n",
        "        valid_p11_values.append(p11)\n",
        "\n",
        "print(\"Первые 5 допустимых значений:\")\n",
        "for p13, p11 in zip(valid_p13_values[:5], valid_p11_values[:5]):\n",
        "    print(f\"p13: {p13:.4f}, p11: {p11:.4f}\")"
      ],
      "metadata": {
        "colab": {
          "base_uri": "https://localhost:8080/"
        },
        "id": "2sP5FWjeXt0s",
        "outputId": "d0994454-fbc6-455d-b6cf-47b9a6ff4a6d"
      },
      "id": "2sP5FWjeXt0s",
      "execution_count": 57,
      "outputs": [
        {
          "output_type": "stream",
          "name": "stdout",
          "text": [
            "Первые 5 допустимых значений:\n",
            "p13: 0.1000, p11: 0.0156\n",
            "p13: 0.1005, p11: 0.0163\n",
            "p13: 0.1010, p11: 0.0171\n",
            "p13: 0.1015, p11: 0.0179\n",
            "p13: 0.1020, p11: 0.0187\n"
          ]
        }
      ]
    },
    {
      "cell_type": "markdown",
      "source": [
        "Вместо отображения всех предсказанных значений (predicted_values), отображается только последняя точка"
      ],
      "metadata": {
        "id": "3a-idyDD8jMj"
      },
      "id": "3a-idyDD8jMj"
    },
    {
      "cell_type": "code",
      "source": [
        "import matplotlib.pyplot as plt\n",
        "from mpl_toolkits.mplot3d import Axes3D\n",
        "import numpy as np\n",
        "\n",
        "# Списки для хранения истинных и предсказанных значений\n",
        "true_values = []\n",
        "predicted_values = []\n",
        "\n",
        "\n",
        "fixed_p21, fixed_p23 = 0.4, 0.12\n",
        "\n",
        "for p13, p11 in zip(valid_p13_values, valid_p11_values):\n",
        "    input_vector = [p11, p13, fixed_p21, fixed_p23]\n",
        "    _, true_customers, _, _ = run_model_with_convergence(model, input_vector)\n",
        "    true_values.append(true_customers)\n",
        "    lr_input_vector = [p11, p13, fixed_p21, fixed_p23]\n",
        "    predicted_customers = linear_reg_model.predict(np.array(lr_input_vector).reshape(1, -1))\n",
        "    predicted_values.append(predicted_customers[0])\n",
        "\n",
        "# Создание фигуры и 3D-оси\n",
        "fig = plt.figure(figsize=(10, 8))\n",
        "ax = fig.add_subplot(111, projection='3d')\n",
        "\n",
        "ax.scatter(valid_p11_values, valid_p13_values, true_values, c='blue', label='True values', s=50)\n",
        "\n",
        "ax.scatter(valid_p11_values[-1], valid_p13_values[-1], predicted_values[-1], c='red', label='Predicted value', s=100, marker='x')\n",
        "ax.set_xlabel('P11 Values', fontsize=12)\n",
        "ax.set_ylabel('P13 Values', fontsize=12)\n",
        "ax.set_zlabel('Customers (M1)', fontsize=12)\n",
        "\n",
        "ax.legend(fontsize=12)\n",
        "\n",
        "ax.grid(True)\n",
        "ax.view_init(elev=20, azim=45)\n",
        "plt.title(\"True vs Predicted Values (3D Visualization)\", fontsize=14)\n",
        "plt.show()"
      ],
      "metadata": {
        "colab": {
          "base_uri": "https://localhost:8080/",
          "height": 676
        },
        "id": "dAnk4vu8yn3G",
        "outputId": "26ab2819-7f43-449a-9ef5-f0c8032b5550"
      },
      "id": "dAnk4vu8yn3G",
      "execution_count": 37,
      "outputs": [
        {
          "output_type": "display_data",
          "data": {
            "text/plain": [
              "<Figure size 1000x800 with 1 Axes>"
            ],
            "image/png": "[encoded data removed]"
          },
          "metadata": {}
        }
      ]
    },
    {
      "cell_type": "markdown",
      "source": [
        "Подбираем оптимальную комбинацию p11,p12,p13."
      ],
      "metadata": {
        "id": "WJGul2aN9LYG"
      },
      "id": "WJGul2aN9LYG"
    },
    {
      "cell_type": "code",
      "source": [
        "from itertools import product\n",
        "\n",
        "def calculate_cost(p11, p12, p13):\n",
        "    cost_happy = (capital_cost_per_100_clients * (clients / 100) * p11) + (cost_per_client['happy'] * clients * p11)\n",
        "    cost_neutral = cost_per_client['neutral'] * clients * p12\n",
        "    cost_unhappy = cost_per_client['unhappy'] * clients * p13\n",
        "    return cost_happy + cost_neutral + cost_unhappy\n",
        "\n",
        "clients = 3300\n",
        "capital_cost_per_100_clients = 100\n",
        "cost_per_client = {'happy': 5, 'neutral': 1, 'unhappy': 4}\n",
        "\n",
        "min_cost, best_combination = float('inf'), None\n",
        "\n",
        "\n",
        "for p11, p13 in product(valid_p11_values, valid_p13_values):\n",
        "    if p11 + p13 <= 1:  # Проверка допустимости комбинации\n",
        "        p12 = 1 - p11 - p13\n",
        "        total_cost = calculate_cost(p11, p12, p13)\n",
        "\n",
        "        if total_cost < min_cost:\n",
        "            min_cost = total_cost\n",
        "            best_combination = (p11, p12, p13)\n",
        "\n",
        "p11, p12, p13 = best_combination\n",
        "p11_rounded = round(p11, 4)\n",
        "p12_rounded = round(p12, 4)\n",
        "p13_rounded = round(p13, 4)\n",
        "min_cost_rounded = round(min_cost, 4)\n",
        "\n",
        "print(f\"ЛУЧШАЯ КОМБИНАЦИЯ: p11={p11_rounded}, p12={p12_rounded}, p13={p13_rounded}\")\n",
        "print(f\"НЕОБХОДИМЫЕ МИНИМАЛЬНЫЕ ЗАТРАТЫ: {min_cost_rounded} у.е.\")"
      ],
      "metadata": {
        "colab": {
          "base_uri": "https://localhost:8080/"
        },
        "id": "3vXYdO-62kZ2",
        "outputId": "13517eeb-b623-4950-d8e6-7fe8412f5646"
      },
      "id": "3vXYdO-62kZ2",
      "execution_count": 58,
      "outputs": [
        {
          "output_type": "stream",
          "name": "stdout",
          "text": [
            "ЛУЧШАЯ КОМБИНАЦИЯ: p11=0.0156, p12=0.8844, p13=0.1\n",
            "НЕОБХОДИМЫЕ МИНИМАЛЬНЫЕ ЗАТРАТЫ: 4547.0345 у.е.\n"
          ]
        }
      ]
    }
  ],
  "metadata": {
    "kernelspec": {
      "display_name": ".venv",
      "language": "python",
      "name": "python3"
    },
    "language_info": {
      "codemirror_mode": {
        "name": "ipython",
        "version": 3
      },
      "file_extension": ".py",
      "mimetype": "text/x-python",
      "name": "python",
      "nbconvert_exporter": "python",
      "pygments_lexer": "ipython3",
      "version": "3.12.3"
    },
    "colab": {
      "provenance": []
    }
  },
  "nbformat": 4,
  "nbformat_minor": 5
}